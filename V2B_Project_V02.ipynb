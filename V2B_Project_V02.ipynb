{
  "nbformat": 4,
  "nbformat_minor": 0,
  "metadata": {
    "colab": {
      "name": "V2B Project V02.ipynb",
      "provenance": [],
      "collapsed_sections": [],
      "include_colab_link": true
    },
    "kernelspec": {
      "display_name": "Python 3",
      "language": "python",
      "name": "python3"
    },
    "language_info": {
      "codemirror_mode": {
        "name": "ipython",
        "version": 3
      },
      "file_extension": ".py",
      "mimetype": "text/x-python",
      "name": "python",
      "nbconvert_exporter": "python",
      "pygments_lexer": "ipython3",
      "version": "3.8.5"
    }
  },
  "cells": [
    {
      "cell_type": "markdown",
      "metadata": {
        "id": "view-in-github",
        "colab_type": "text"
      },
      "source": [
        "<a href=\"https://colab.research.google.com/github/hiren-says/MtechProject/blob/main/V2B_Project_V02.ipynb\" target=\"_parent\"><img src=\"https://colab.research.google.com/assets/colab-badge.svg\" alt=\"Open In Colab\"/></a>"
      ]
    },
    {
      "cell_type": "markdown",
      "metadata": {
        "id": "gaf6OY8ZpBLg"
      },
      "source": [
        "# Experiment Section"
      ]
    },
    {
      "cell_type": "code",
      "metadata": {
        "id": "f0Prx7ezMaTL"
      },
      "source": [
        "# ## Experiment on Li-FEPO4 cycle life loss\n",
        "# def myTemp(ambient_temp, power):\n",
        "#     rth = 2 # Celcius / kW\n",
        "#     return ambient_temp + rth * power\n",
        "\n",
        "# def cycleDeg_lithium(temp,b_current, c_rate, del_t):\n",
        "#     if c_rate <= 0.5:\n",
        "#         A = 31630\n",
        "#     elif c_rate > 0.5 and c_rate <= 2:\n",
        "#         A = 21681\n",
        "#     elif c_rate > 2 and c_rate <= 6:\n",
        "#         A = 12934\n",
        "#     else:\n",
        "#         A = 15512\n",
        "\n",
        "#     Ea,R = 31500, 8.314\n",
        "#     cells_per_mod = 72\n",
        "#     cell_current = b_current / cells_per_mod\n",
        "#     ah = cell_current * del_t\n",
        "#     cycle_deg = A * np.exp( (-Ea + 370.3*c_rate) / (R*temp) ) * pow(ah,0.55) \n",
        "#     return cycle_deg\n",
        "\n",
        "# def cycleDeg_ncm( temp, b_current, c_rate, del_t):\n",
        "#     cycle_const = [8.6772e-6, -5.1613e-3, 7.6788e-1, -6.7e-3, 2.35] #[a, b, c, d, e]\n",
        "#     a,b,c,d,e = cycle_const[0], cycle_const[1], cycle_const[2], cycle_const[3], cycle_const[4]\n",
        "#     cells_per_mod = 72\n",
        "\n",
        "#     B1 = a*pow(temp,2) + b*temp + c\n",
        "#     B2 = d*temp+ e\n",
        "#     cell_current = b_current / cells_per_mod\n",
        "#     cycle_loss = B1 * np.exp(B2 * c_rate) * cell_current * (del_t) # del_t in hour\n",
        "#     return cycle_loss\n",
        "\n",
        "# def calDeg_lithium(temp, t):\n",
        "#     alpha, beta = 165000, -4148\n",
        "#     cal_deg = alpha * np.exp(beta/temp) * pow(t,0.5)\n",
        "#     return cal_deg # in %\n",
        "\n",
        "# def calDeg_ncm(temp, t):\n",
        "#     cal_const = [14786, 24500, 8.314] # [f, Ea, R]\n",
        "#     f,Ea,R = cal_const[0], cal_const[1], cal_const[2]\n",
        "#     cal_deg = f * np.exp(-Ea/(R*temp)) * pow(t,0.5)\n",
        "#     return cal_deg"
      ],
      "execution_count": null,
      "outputs": []
    },
    {
      "cell_type": "markdown",
      "metadata": {
        "id": "valYvhXsPOsM"
      },
      "source": [
        "**Case1** Continuos Degradation for both cases.."
      ]
    },
    {
      "cell_type": "code",
      "metadata": {
        "id": "oLYKo0jmPTa8"
      },
      "source": [
        "# c_rate = 0.3;\n",
        "# del_t = 5;\n",
        "# days = 1*2;\n",
        "# hours = 24 * days;\n",
        "# del_t_arr = np.arange(0,hours,del_t/60)\n",
        "# temp = 300\n",
        "\n",
        "# li_cycle_deg = cycleDeg_lithium(temp, 30, c_rate, del_t_arr)\n",
        "# ncm_cycle_deg = cycleDeg_ncm(temp, 30, c_rate, del_t_arr)\n",
        "\n",
        "# li_cal_deg = calDeg_lithium(temp,days)\n",
        "# ncm_cal_deg = calDeg_ncm(temp,days)\n",
        "\n",
        "# plt.figure(figsize = (20,7))\n",
        "# plt.plot(del_t_arr, li_cycle_deg, linewidth = 2, label = \"Lithium\")\n",
        "# plt.plot(del_t_arr, ncm_cycle_deg, linewidth = 2, label = \"NCM\")\n",
        "\n",
        "# plt.xticks(np.arange(0,hours,24), np.arange(0,days+1))\n",
        "# plt.rc('xtick',labelsize = 15)\n",
        "# plt.rc('ytick',labelsize = 15)\n",
        "# plt.xlabel(\"Days\", fontsize = 15)\n",
        "# plt.ylabel(\"Battery Degradation\", fontsize = 15)\n",
        "# plt.legend()\n",
        "# plt.grid()\n",
        "# plt.show()\n",
        "\n",
        "# print(f\"Cum_cycle_deg_Lithium : {li_cycle_deg[-1]}\")\n",
        "# print(f\"Cum_cycle_deg_ncm : {ncm_cycle_deg[-1]}\")\n",
        "# print(\"\\n\")\n",
        "\n",
        "# print(f\"Cum_cal_deg_Lithium : {li_cal_deg}\")\n",
        "# print(f\"Cum_cal_deg_ncm : {ncm_cal_deg}\")\n",
        "# print(\"\\n\")\n",
        "\n",
        "# print(f\"total_deg_Lithium : {li_cycle_deg[-1] + li_cal_deg}\")\n",
        "# print(f\"total_deg_ncm : {ncm_cycle_deg[-1] + ncm_cal_deg}\")"
      ],
      "execution_count": null,
      "outputs": []
    },
    {
      "cell_type": "code",
      "metadata": {
        "id": "WmDU08S0PxRf"
      },
      "source": [
        "# plt.figure(figsize = (20,9))\n",
        "# fig, ax = plt.subplots(1,2)\n",
        "\n"
      ],
      "execution_count": null,
      "outputs": []
    },
    {
      "cell_type": "code",
      "metadata": {
        "id": "uFcBBQEPPxWB"
      },
      "source": [
        ""
      ],
      "execution_count": null,
      "outputs": []
    },
    {
      "cell_type": "code",
      "metadata": {
        "id": "5iauYto-PTiw"
      },
      "source": [
        ""
      ],
      "execution_count": null,
      "outputs": []
    },
    {
      "cell_type": "code",
      "metadata": {
        "id": "_572lyTBPTmt"
      },
      "source": [
        ""
      ],
      "execution_count": null,
      "outputs": []
    },
    {
      "cell_type": "code",
      "metadata": {
        "id": "51zqbIxqPOwX"
      },
      "source": [
        ""
      ],
      "execution_count": null,
      "outputs": []
    },
    {
      "cell_type": "code",
      "metadata": {
        "id": "VREN0vXHPO0Y"
      },
      "source": [
        ""
      ],
      "execution_count": null,
      "outputs": []
    },
    {
      "cell_type": "code",
      "metadata": {
        "id": "0uWEW_fpPOoG"
      },
      "source": [
        ""
      ],
      "execution_count": null,
      "outputs": []
    },
    {
      "cell_type": "markdown",
      "metadata": {
        "id": "BWCeFplPcjjs"
      },
      "source": [
        "## Verifying Calendar Loss"
      ]
    },
    {
      "cell_type": "code",
      "metadata": {
        "id": "kSdpRgkc86L6"
      },
      "source": [
        "# alpha1, beta1,T,t = 165000, -4148, 311, 2\n",
        "# Q2 = alpha1 * np.exp(beta1/T) * pow(t,0.5)\n",
        "\n",
        "# T1,t1 = 310,1\n",
        "# Q1_1 = alpha1 * np.exp(beta1/T1) * pow(t1,0.5)#+ alpha1 * np.exp(beta1/T2) * pow(t2,0.5)\n",
        "# Q1_2 = alpha1 * np.exp(beta1/311) * pow(2,0.5)\n",
        "# Q1_2\n",
        "\n",
        "# T2,t2 = 313, 4\n",
        "# Q2 = alpha1 * np.exp(beta1/T2) * pow(t2,0.5)\n",
        "# Q2"
      ],
      "execution_count": null,
      "outputs": []
    },
    {
      "cell_type": "code",
      "metadata": {
        "id": "liIIHvBb0hbH"
      },
      "source": [
        "# T1, t1 = 310, 1\n",
        "# Q1_1 = alpha1 * np.exp(beta1/T1) * pow(t1,0.5)\n",
        "# Q1_1\n",
        "\n",
        "# T2,t1,t2 = 311,1,2\n",
        "# Q1_2 = alpha1 * np.exp(beta1/T2) * (pow(t2,0.5) - pow(t1,0.5) )\n",
        "# Q1_2\n",
        "\n",
        "# T3,t2,t3 = 312,2,3\n",
        "# Q1_3 = alpha1 * np.exp(beta1/T3) * (pow(t3,0.5) - pow(t2,0.5) )\n",
        "# Q1_3\n",
        "\n",
        "# T4,t3,t4 = 313,3,4\n",
        "# Q1_4 = alpha1 * np.exp(beta1/T4) * (pow(t4,0.5) - pow(t3,0.5) )\n",
        "# Q1_4\n",
        "\n",
        "# Q1_1, Q1_2, Q1_3, Q1_4"
      ],
      "execution_count": null,
      "outputs": []
    },
    {
      "cell_type": "code",
      "metadata": {
        "id": "cSHKglcrC0Pu"
      },
      "source": [
        "# cum_time = [1,2,3,4]\n",
        "# # T = np.arange(310,314)\n",
        "# T = 313\n",
        "\n",
        "# discrete_loss = alpha1 * np.exp(beta1/T) * pow(cum_time[0],0.5)\n",
        "\n",
        "# for i in range(len(cum_time)-1):\n",
        "#     discrete_loss += alpha1 * np.exp(beta1/T) * ( pow(cum_time[i+1],0.5) - pow(cum_time[i],0.5) )\n",
        "\n",
        "# conti_loss = alpha1 * np.exp(beta1/T) * pow(cum_time[-1],0.5) # Cumulative loss for 4 days\n",
        "\n",
        "# print(f\"continuos_loss: {conti_loss}\")\n",
        "# print(f\"discrete_loss: {discrete_loss}\")"
      ],
      "execution_count": null,
      "outputs": []
    },
    {
      "cell_type": "code",
      "metadata": {
        "id": "0EWmiKcT5Wla"
      },
      "source": [
        "# cum_time = [1,2,3,4]\n",
        "# T = np.arange(310,314)\n",
        "\n",
        "# discrete_loss = alpha1 * np.exp(beta1/T[0]) * pow(cum_time[0],0.5)\n",
        "\n",
        "# for i in range(len(t)-1):\n",
        "#     discrete_loss += alpha1 * np.exp(beta1/T[i+1]) * (pow(cum_time[i+1],0.5) - pow(cum_time[i],0.5) )\n",
        "#     print(discrete_loss)\n",
        "\n",
        "# conti_loss = alpha1 * np.exp(beta1/T[-1]) * pow(t[-1],0.5) # Cumulative loss for 4 days\n",
        "\n",
        "# print(f\"continuos_loss: {conti_loss} \")\n",
        "# print(f\"discrete_loss: {discrete_loss} \")"
      ],
      "execution_count": null,
      "outputs": []
    },
    {
      "cell_type": "code",
      "metadata": {
        "id": "rp6VDoYvDKJE"
      },
      "source": [
        "# # Calendar loss function\n",
        "# def cal_loss(T,t):\n",
        "#     alpha, beta = 165000, -4148\n",
        "#     return alpha * np.exp(beta/T) * pow(t,0.5)\n",
        "    \n",
        "\n",
        "# ## Standing time variation for array\n",
        "# time = np.random.randint(low = 18, high = 24, size = 365)/24 # time in days\n",
        "# cum_time = np.cumsum(time)\n",
        "# temp = np.random.randint(low = 25+273, high = 40+273, size = 365)\n",
        "\n",
        "# cal_deg = cal_loss(temp[0], cum_time[0])\n",
        "\n",
        "# for i in range(len(time)-1):\n",
        "#     cal_deg += cal_loss(temp[i+1], cum_time[i+1]) - cal_loss(temp[i+1], cum_time[i])\n",
        "\n",
        "# print(cal_deg)"
      ],
      "execution_count": null,
      "outputs": []
    },
    {
      "cell_type": "code",
      "metadata": {
        "colab": {
          "base_uri": "https://localhost:8080/"
        },
        "id": "qZtQAEozu26O",
        "outputId": "a22152a8-d252-4da1-d52d-6d3751320d71"
      },
      "source": [
        "/"
      ],
      "execution_count": null,
      "outputs": [
        {
          "output_type": "execute_result",
          "data": {
            "text/plain": [
              "()"
            ]
          },
          "metadata": {
            "tags": []
          },
          "execution_count": 60
        }
      ]
    },
    {
      "cell_type": "code",
      "metadata": {
        "id": "CpkL21jathHx"
      },
      "source": [
        "# alpha1 * np.exp(beta1/T) * pow(t,0.5)"
      ],
      "execution_count": null,
      "outputs": []
    },
    {
      "cell_type": "code",
      "metadata": {
        "id": "2p0Kbeg3jccy"
      },
      "source": [
        "# f,Ea,R = 14786, 24500, 8.314\n",
        "# alpha1, beta1 = 165000, -4148\n",
        "# discrete_deg = 0\n",
        "# for i in range(1,24 + 1):\n",
        "#     discrete_deg += f * np.exp(-Ea/(R*310)) * pow(1/24,0.5)\n",
        "# continuos_loss = f *`` np.exp(-Ea/(R*310)) * pow(i/24,0.5)\n",
        "\n",
        "# print(f\"Continuos loss for {i/24} day = {continuos_loss} \\nDiscrete loss for {i/24} day = {discrete_deg}\")"
      ],
      "execution_count": null,
      "outputs": []
    },
    {
      "cell_type": "code",
      "metadata": {
        "id": "SwWjOq6Wcm4I"
      },
      "source": [
        "# import numpy as np\n",
        "\n",
        "# f, Ea, R, T, t = 14876, 24500, 8.314, 300, 3\n",
        "# conti_qloss = f * np.exp( -Ea/(R*T) ) * pow(t,0.5) \n",
        "# del_t = 1/24 # day\n",
        "# dis_qloss = 0.5 * f * np.exp( -Ea/(R*T) ) * pow(t,0.5) * del_t\n",
        "\n",
        "# step = int(t/del_t);\n",
        "# loss2 = [0]\n",
        "# t = 1/24\n",
        "# for i in range(step):\n",
        "#     # del_t = 1\n",
        "#     t += del_t # day(incremental time)\n",
        "#     # loss2 += f * np.exp( -Ea/(R*T) ) * pow(t,0.5) \n",
        "#     loss2.append(f * np.exp( -Ea/(R*T) ) * pow(t,0.5))\n",
        "\n",
        "# print(\"coninuos_loss =\",conti_qloss,\"%\")\n",
        "# print(\"discrete_loss =\",loss2[-1],\"%\")\n",
        "# print(\"error =\", abs(conti_qloss - loss2[-1]),\"%\")"
      ],
      "execution_count": null,
      "outputs": []
    },
    {
      "cell_type": "markdown",
      "metadata": {
        "id": "7KYYQZ5hVDfM"
      },
      "source": [
        "# Part 1 Project 2020-21"
      ]
    },
    {
      "cell_type": "markdown",
      "metadata": {
        "id": "nwJ7FoiSnzWQ"
      },
      "source": [
        "## **Import necessery libraries**"
      ]
    },
    {
      "cell_type": "code",
      "metadata": {
        "id": "yCwzxzabp1Ue"
      },
      "source": [
        "import numpy as np\n",
        "import pandas as pd\n",
        "import matplotlib.pyplot as plt\n",
        "import seaborn as sns\n",
        "import matplotlib\n",
        "from google.colab import files\n",
        "import warnings\n",
        "warnings.filterwarnings(action = 'once')\n",
        "\n",
        "\n",
        "%matplotlib inline\n",
        "\n",
        "matplotlib.rcParams['figure.figsize'] = (10,6)\n",
        "matplotlib.rcParams['figure.facecolor'] = 'white'\n"
      ],
      "execution_count": 34,
      "outputs": []
    },
    {
      "cell_type": "code",
      "metadata": {
        "id": "LLkuJniQ6LCs"
      },
      "source": [
        "# # For printing whole dataframe\n",
        "# pd.set_option('display.float_format', lambda x: '%.3f' % x)\n",
        "# pd.set_option('display.max_rows', None)\n",
        "# pd.set_option('display.max_columns', None)\n",
        "# pd.set_option('display.width', None)\n",
        "# pd.set_option('display.max_colwidth', -1)"
      ],
      "execution_count": 35,
      "outputs": []
    },
    {
      "cell_type": "markdown",
      "metadata": {
        "id": "LNG6M2UhwFud"
      },
      "source": [
        "## Mounting Google Drive"
      ]
    },
    {
      "cell_type": "markdown",
      "metadata": {
        "id": "nW0fnwjtfxOU"
      },
      "source": [
        "Blocks_total dataframe"
      ]
    },
    {
      "cell_type": "code",
      "metadata": {
        "colab": {
          "base_uri": "https://localhost:8080/",
          "height": 241
        },
        "id": "6cUW2Ta0T4cj",
        "outputId": "73a28db0-bf9a-4346-ec42-709e4cc53982"
      },
      "source": [
        "from google.colab import drive\n",
        "drive.mount('content/');\n",
        "\n",
        "file_path1 = '/content/content/My Drive/Project 2020-21/Car data/block_totals1920.csv'\n",
        "file_path2 = '/content/content/My Drive/Project 2020-21/Car data/car_data.csv'\n",
        "\n",
        "## Converting into DateTime Object\n",
        "power_df = pd.read_csv(file_path1)\n",
        "power_df['Time'] = pd.to_datetime(power_df['Time'])\n",
        "power_df.head()\n",
        "print(\"df.shape =\",power_df.shape)\n",
        "\n",
        "power_df.head()"
      ],
      "execution_count": 36,
      "outputs": [
        {
          "output_type": "stream",
          "text": [
            "Drive already mounted at content/; to attempt to forcibly remount, call drive.mount(\"content/\", force_remount=True).\n",
            "df.shape = (96930, 3)\n"
          ],
          "name": "stdout"
        },
        {
          "output_type": "execute_result",
          "data": {
            "text/html": [
              "<div>\n",
              "<style scoped>\n",
              "    .dataframe tbody tr th:only-of-type {\n",
              "        vertical-align: middle;\n",
              "    }\n",
              "\n",
              "    .dataframe tbody tr th {\n",
              "        vertical-align: top;\n",
              "    }\n",
              "\n",
              "    .dataframe thead th {\n",
              "        text-align: right;\n",
              "    }\n",
              "</style>\n",
              "<table border=\"1\" class=\"dataframe\">\n",
              "  <thead>\n",
              "    <tr style=\"text-align: right;\">\n",
              "      <th></th>\n",
              "      <th>Time</th>\n",
              "      <th>block_code</th>\n",
              "      <th>power_kW</th>\n",
              "    </tr>\n",
              "  </thead>\n",
              "  <tbody>\n",
              "    <tr>\n",
              "      <th>0</th>\n",
              "      <td>2020-01-01 00:00:00</td>\n",
              "      <td>A</td>\n",
              "      <td>226.3984</td>\n",
              "    </tr>\n",
              "    <tr>\n",
              "      <th>1</th>\n",
              "      <td>2020-01-01 00:05:00</td>\n",
              "      <td>A</td>\n",
              "      <td>220.7581</td>\n",
              "    </tr>\n",
              "    <tr>\n",
              "      <th>2</th>\n",
              "      <td>2020-01-01 00:10:00</td>\n",
              "      <td>A</td>\n",
              "      <td>227.4362</td>\n",
              "    </tr>\n",
              "    <tr>\n",
              "      <th>3</th>\n",
              "      <td>2020-01-01 00:15:00</td>\n",
              "      <td>A</td>\n",
              "      <td>222.1747</td>\n",
              "    </tr>\n",
              "    <tr>\n",
              "      <th>4</th>\n",
              "      <td>2020-01-01 00:20:00</td>\n",
              "      <td>A</td>\n",
              "      <td>217.8452</td>\n",
              "    </tr>\n",
              "  </tbody>\n",
              "</table>\n",
              "</div>"
            ],
            "text/plain": [
              "                 Time block_code  power_kW\n",
              "0 2020-01-01 00:00:00          A  226.3984\n",
              "1 2020-01-01 00:05:00          A  220.7581\n",
              "2 2020-01-01 00:10:00          A  227.4362\n",
              "3 2020-01-01 00:15:00          A  222.1747\n",
              "4 2020-01-01 00:20:00          A  217.8452"
            ]
          },
          "metadata": {
            "tags": []
          },
          "execution_count": 36
        }
      ]
    },
    {
      "cell_type": "code",
      "metadata": {
        "colab": {
          "base_uri": "https://localhost:8080/",
          "height": 363
        },
        "id": "YJhHhWnAdIbe",
        "outputId": "88a1f2ad-3c46-4a62-d01b-e33ed1adbed7"
      },
      "source": [
        "# Detecting Outliers \n",
        "outlier_idx = power_df[power_df.power_kW > 1000].index.values\n",
        "power_df[power_df.power_kW > 1000]"
      ],
      "execution_count": 37,
      "outputs": [
        {
          "output_type": "execute_result",
          "data": {
            "text/html": [
              "<div>\n",
              "<style scoped>\n",
              "    .dataframe tbody tr th:only-of-type {\n",
              "        vertical-align: middle;\n",
              "    }\n",
              "\n",
              "    .dataframe tbody tr th {\n",
              "        vertical-align: top;\n",
              "    }\n",
              "\n",
              "    .dataframe thead th {\n",
              "        text-align: right;\n",
              "    }\n",
              "</style>\n",
              "<table border=\"1\" class=\"dataframe\">\n",
              "  <thead>\n",
              "    <tr style=\"text-align: right;\">\n",
              "      <th></th>\n",
              "      <th>Time</th>\n",
              "      <th>block_code</th>\n",
              "      <th>power_kW</th>\n",
              "    </tr>\n",
              "  </thead>\n",
              "  <tbody>\n",
              "    <tr>\n",
              "      <th>52074</th>\n",
              "      <td>2020-07-10 15:20:00</td>\n",
              "      <td>A</td>\n",
              "      <td>214813.7143</td>\n",
              "    </tr>\n",
              "    <tr>\n",
              "      <th>56116</th>\n",
              "      <td>2020-07-24 16:10:00</td>\n",
              "      <td>A</td>\n",
              "      <td>644395.1518</td>\n",
              "    </tr>\n",
              "    <tr>\n",
              "      <th>68051</th>\n",
              "      <td>2020-09-07 09:45:00</td>\n",
              "      <td>A</td>\n",
              "      <td>214836.9641</td>\n",
              "    </tr>\n",
              "    <tr>\n",
              "      <th>87722</th>\n",
              "      <td>2020-11-27 16:40:00</td>\n",
              "      <td>A</td>\n",
              "      <td>214957.7548</td>\n",
              "    </tr>\n",
              "    <tr>\n",
              "      <th>87742</th>\n",
              "      <td>2020-11-27 18:20:00</td>\n",
              "      <td>A</td>\n",
              "      <td>214995.4179</td>\n",
              "    </tr>\n",
              "    <tr>\n",
              "      <th>91621</th>\n",
              "      <td>2020-12-11 15:35:00</td>\n",
              "      <td>A</td>\n",
              "      <td>215033.3138</td>\n",
              "    </tr>\n",
              "    <tr>\n",
              "      <th>91622</th>\n",
              "      <td>2020-12-11 15:40:00</td>\n",
              "      <td>A</td>\n",
              "      <td>215029.2411</td>\n",
              "    </tr>\n",
              "    <tr>\n",
              "      <th>91623</th>\n",
              "      <td>2020-12-11 15:45:00</td>\n",
              "      <td>A</td>\n",
              "      <td>214852.1905</td>\n",
              "    </tr>\n",
              "    <tr>\n",
              "      <th>93324</th>\n",
              "      <td>2020-12-17 13:30:00</td>\n",
              "      <td>A</td>\n",
              "      <td>214952.4515</td>\n",
              "    </tr>\n",
              "    <tr>\n",
              "      <th>93325</th>\n",
              "      <td>2020-12-17 13:35:00</td>\n",
              "      <td>A</td>\n",
              "      <td>214968.8032</td>\n",
              "    </tr>\n",
              "  </tbody>\n",
              "</table>\n",
              "</div>"
            ],
            "text/plain": [
              "                     Time block_code     power_kW\n",
              "52074 2020-07-10 15:20:00          A  214813.7143\n",
              "56116 2020-07-24 16:10:00          A  644395.1518\n",
              "68051 2020-09-07 09:45:00          A  214836.9641\n",
              "87722 2020-11-27 16:40:00          A  214957.7548\n",
              "87742 2020-11-27 18:20:00          A  214995.4179\n",
              "91621 2020-12-11 15:35:00          A  215033.3138\n",
              "91622 2020-12-11 15:40:00          A  215029.2411\n",
              "91623 2020-12-11 15:45:00          A  214852.1905\n",
              "93324 2020-12-17 13:30:00          A  214952.4515\n",
              "93325 2020-12-17 13:35:00          A  214968.8032"
            ]
          },
          "metadata": {
            "tags": []
          },
          "execution_count": 37
        }
      ]
    },
    {
      "cell_type": "code",
      "metadata": {
        "id": "SoU6DbBudjdz"
      },
      "source": [
        "# Removing the outliers\n",
        "power_df.drop(index = outlier_idx, axis = 0, inplace=True)"
      ],
      "execution_count": 38,
      "outputs": []
    },
    {
      "cell_type": "code",
      "metadata": {
        "colab": {
          "base_uri": "https://localhost:8080/"
        },
        "id": "SeVvSbMVeCOY",
        "outputId": "5f045d89-0001-4a51-99d0-96046adfb3b2"
      },
      "source": [
        "print(\"total data points needs to be =\",12*24*366)\n",
        "print(\"missing data = \",12*24*366 - len(power_df))\n",
        "print(f\"{(12*24*366 - len(power_df))/(12*24*366) * 100:.3f}% data is missing\")"
      ],
      "execution_count": 39,
      "outputs": [
        {
          "output_type": "stream",
          "text": [
            "total data points needs to be = 105408\n",
            "missing data =  8488\n",
            "8.053% data is missing\n"
          ],
          "name": "stdout"
        }
      ]
    },
    {
      "cell_type": "markdown",
      "metadata": {
        "id": "I558Z8vof3Se"
      },
      "source": [
        "Ambient Temperature and SOC dataframe"
      ]
    },
    {
      "cell_type": "code",
      "metadata": {
        "colab": {
          "base_uri": "https://localhost:8080/",
          "height": 206
        },
        "id": "zJM3i44Nf7fm",
        "outputId": "57ff62ed-8a3c-4c84-d084-6884736b1aa3"
      },
      "source": [
        "vehicle_df = pd.read_csv(file_path2)\n",
        "vehicle_df.head()"
      ],
      "execution_count": 40,
      "outputs": [
        {
          "output_type": "execute_result",
          "data": {
            "text/html": [
              "<div>\n",
              "<style scoped>\n",
              "    .dataframe tbody tr th:only-of-type {\n",
              "        vertical-align: middle;\n",
              "    }\n",
              "\n",
              "    .dataframe tbody tr th {\n",
              "        vertical-align: top;\n",
              "    }\n",
              "\n",
              "    .dataframe thead th {\n",
              "        text-align: right;\n",
              "    }\n",
              "</style>\n",
              "<table border=\"1\" class=\"dataframe\">\n",
              "  <thead>\n",
              "    <tr style=\"text-align: right;\">\n",
              "      <th></th>\n",
              "      <th>arr_time</th>\n",
              "      <th>dep_time</th>\n",
              "      <th>soc_initial</th>\n",
              "      <th>soc_final</th>\n",
              "      <th>temp</th>\n",
              "      <th>temp_max</th>\n",
              "      <th>temp_min</th>\n",
              "      <th>Distance travelled</th>\n",
              "      <th>Distance need to travel</th>\n",
              "    </tr>\n",
              "  </thead>\n",
              "  <tbody>\n",
              "    <tr>\n",
              "      <th>0</th>\n",
              "      <td>10</td>\n",
              "      <td>17</td>\n",
              "      <td>0.689</td>\n",
              "      <td>0.481</td>\n",
              "      <td>20.225</td>\n",
              "      <td>29.93</td>\n",
              "      <td>10.52</td>\n",
              "      <td>14</td>\n",
              "      <td>20</td>\n",
              "    </tr>\n",
              "    <tr>\n",
              "      <th>1</th>\n",
              "      <td>9</td>\n",
              "      <td>16</td>\n",
              "      <td>0.705</td>\n",
              "      <td>0.426</td>\n",
              "      <td>21.730</td>\n",
              "      <td>31.00</td>\n",
              "      <td>12.46</td>\n",
              "      <td>20</td>\n",
              "      <td>17</td>\n",
              "    </tr>\n",
              "    <tr>\n",
              "      <th>2</th>\n",
              "      <td>11</td>\n",
              "      <td>15</td>\n",
              "      <td>0.754</td>\n",
              "      <td>0.386</td>\n",
              "      <td>21.725</td>\n",
              "      <td>30.92</td>\n",
              "      <td>12.53</td>\n",
              "      <td>18</td>\n",
              "      <td>15</td>\n",
              "    </tr>\n",
              "    <tr>\n",
              "      <th>3</th>\n",
              "      <td>12</td>\n",
              "      <td>17</td>\n",
              "      <td>0.736</td>\n",
              "      <td>0.464</td>\n",
              "      <td>21.565</td>\n",
              "      <td>31.05</td>\n",
              "      <td>12.08</td>\n",
              "      <td>19</td>\n",
              "      <td>16</td>\n",
              "    </tr>\n",
              "    <tr>\n",
              "      <th>4</th>\n",
              "      <td>11</td>\n",
              "      <td>17</td>\n",
              "      <td>0.689</td>\n",
              "      <td>0.442</td>\n",
              "      <td>21.885</td>\n",
              "      <td>31.29</td>\n",
              "      <td>12.48</td>\n",
              "      <td>18</td>\n",
              "      <td>19</td>\n",
              "    </tr>\n",
              "  </tbody>\n",
              "</table>\n",
              "</div>"
            ],
            "text/plain": [
              "   arr_time  dep_time  ...  Distance travelled  Distance need to travel\n",
              "0        10        17  ...                  14                       20\n",
              "1         9        16  ...                  20                       17\n",
              "2        11        15  ...                  18                       15\n",
              "3        12        17  ...                  19                       16\n",
              "4        11        17  ...                  18                       19\n",
              "\n",
              "[5 rows x 9 columns]"
            ]
          },
          "metadata": {
            "tags": []
          },
          "execution_count": 40
        }
      ]
    },
    {
      "cell_type": "code",
      "metadata": {
        "id": "cB-Caowb9wpw"
      },
      "source": [
        "# temp = 273 + vehicle_df.temp.values \n",
        "temp = 273 + vehicle_df.temp.values \n",
        "soc_initial = vehicle_df.soc_initial.values\n",
        "soc_final = vehicle_df.soc_final.values\n",
        "int_arr_time = vehicle_df.arr_time.values\n",
        "int_dep_time = vehicle_df.dep_time.values\n",
        "\n",
        "# Formation arr_time and dep_time in string format\n",
        "arr_time = [str(i)+\":00:00\" for i in int_arr_time]\n",
        "dep_time = [str(i)+\":00:00\" for i in int_dep_time]"
      ],
      "execution_count": 41,
      "outputs": []
    },
    {
      "cell_type": "markdown",
      "metadata": {
        "id": "cas9YdIU8syJ"
      },
      "source": [
        "### Graph of SOC Profile"
      ]
    },
    {
      "cell_type": "code",
      "metadata": {
        "id": "caviwZWn4K4L",
        "colab": {
          "base_uri": "https://localhost:8080/",
          "height": 399
        },
        "outputId": "d00c1085-5e10-42aa-80a1-3ec64ccf8624"
      },
      "source": [
        "days = list(range(1,len(vehicle_df)+1))\n",
        "plt.xticks(np.arange(1,365,30), 'Jan Feb Mar Apr May Jun Jul Aug Sep Oct Nov Dec'.split())\n",
        "plt.rc('xtick',labelsize = 15)\n",
        "plt.rc('ytick',labelsize = 15)\n",
        "plt.bar(days, soc_initial*100, alpha = 0.6, color = 'red', label = 'soc_arrival')\n",
        "plt.bar(days, soc_final*100, alpha = 0.6, color = 'blue', label = 'soc-departure')\n",
        "plt.ylabel('SOC(%)', fontsize = 15)\n",
        "plt.title('Annual SOC profile', fontweight = 'bold', fontsize = 18)\n",
        "plt.legend()\n",
        "# plt.savefig(\"annual_soc_profile.eps\",bbox_inches = \"tight\")\n",
        "# files.download(\"annual_soc_profile.eps\") \n",
        "plt.show()"
      ],
      "execution_count": 42,
      "outputs": [
        {
          "output_type": "display_data",
          "data": {
            "image/png": "[encoded data removed]",
            "text/plain": [
              "<Figure size 720x432 with 1 Axes>"
            ]
          },
          "metadata": {
            "tags": []
          }
        }
      ]
    },
    {
      "cell_type": "code",
      "metadata": {
        "id": "FL8vfl-v8r8u"
      },
      "source": [
        "# plt.xticks(np.arange(1,365,31), 'Jan Feb Mar Apr May Jun Jul Aug Sep Oct Nov Dec'.split())\n",
        "xvals = days\n",
        "yvals = temp\n",
        "ylab = 'Temperature(K)';  title = \"Annual ambient temperature profile\"; \n",
        "\n",
        "# myplot(days, temp, ylab=ylab, titles=title, colors = 'red', image_name='annual_temp.png', save=False)"
      ],
      "execution_count": 43,
      "outputs": []
    },
    {
      "cell_type": "markdown",
      "metadata": {
        "id": "2IL4MXYWs8gz"
      },
      "source": [
        "## Data Preprocessing"
      ]
    },
    {
      "cell_type": "markdown",
      "metadata": {
        "id": "0a_jGwmhreSK"
      },
      "source": [
        "#### Data from 01-01-2020 to 31-12-2020 (365 days)\n"
      ]
    },
    {
      "cell_type": "markdown",
      "metadata": {
        "id": "lTz2ucUrZUiK"
      },
      "source": [
        "### Playing with Dataframe"
      ]
    },
    {
      "cell_type": "code",
      "metadata": {
        "colab": {
          "base_uri": "https://localhost:8080/"
        },
        "id": "GuBIjXLpM2qB",
        "outputId": "6f3101f8-fc98-4124-faab-d2fdbde9c2d1"
      },
      "source": [
        "power_df.dtypes "
      ],
      "execution_count": 44,
      "outputs": [
        {
          "output_type": "execute_result",
          "data": {
            "text/plain": [
              "Time          datetime64[ns]\n",
              "block_code            object\n",
              "power_kW             float64\n",
              "dtype: object"
            ]
          },
          "metadata": {
            "tags": []
          },
          "execution_count": 44
        }
      ]
    },
    {
      "cell_type": "markdown",
      "metadata": {
        "id": "Z4JdSTnVa5Ce"
      },
      "source": [
        "### Handling missing timestamp"
      ]
    },
    {
      "cell_type": "markdown",
      "metadata": {
        "id": "AwrY9dLccPaS"
      },
      "source": [
        "if Timestamp is not index of dataframe"
      ]
    },
    {
      "cell_type": "code",
      "metadata": {
        "colab": {
          "base_uri": "https://localhost:8080/"
        },
        "id": "AWQ3cnD2WEcN",
        "outputId": "e920ba28-be15-48fe-e052-c839b915011e"
      },
      "source": [
        "ans = np.random.rand(2,2)\n",
        "print(ans)\n",
        "\n",
        "sum = np.sum(ans, axis = 0)\n",
        "print(sum)\n",
        "del ans"
      ],
      "execution_count": 45,
      "outputs": [
        {
          "output_type": "stream",
          "text": [
            "[[0.43210709 0.69043402]\n",
            " [0.21602535 0.28394344]]\n",
            "[0.64813244 0.97437746]\n"
          ],
          "name": "stdout"
        }
      ]
    },
    {
      "cell_type": "code",
      "metadata": {
        "colab": {
          "base_uri": "https://localhost:8080/",
          "height": 206
        },
        "id": "LiGZW2QFcXkL",
        "outputId": "5afddc4a-6019-43a6-e570-54e453425bf0"
      },
      "source": [
        "min = 5\n",
        "power_df = power_df.resample(str(60 * min) + 'S', on = 'Time', offset = '0S').mean(); #offset will start sampling after given sec.\n",
        "power_df = power_df.reset_index()\n",
        "power_df.head()"
      ],
      "execution_count": 46,
      "outputs": [
        {
          "output_type": "execute_result",
          "data": {
            "text/html": [
              "<div>\n",
              "<style scoped>\n",
              "    .dataframe tbody tr th:only-of-type {\n",
              "        vertical-align: middle;\n",
              "    }\n",
              "\n",
              "    .dataframe tbody tr th {\n",
              "        vertical-align: top;\n",
              "    }\n",
              "\n",
              "    .dataframe thead th {\n",
              "        text-align: right;\n",
              "    }\n",
              "</style>\n",
              "<table border=\"1\" class=\"dataframe\">\n",
              "  <thead>\n",
              "    <tr style=\"text-align: right;\">\n",
              "      <th></th>\n",
              "      <th>Time</th>\n",
              "      <th>power_kW</th>\n",
              "    </tr>\n",
              "  </thead>\n",
              "  <tbody>\n",
              "    <tr>\n",
              "      <th>0</th>\n",
              "      <td>2020-01-01 00:00:00</td>\n",
              "      <td>226.3984</td>\n",
              "    </tr>\n",
              "    <tr>\n",
              "      <th>1</th>\n",
              "      <td>2020-01-01 00:05:00</td>\n",
              "      <td>220.7581</td>\n",
              "    </tr>\n",
              "    <tr>\n",
              "      <th>2</th>\n",
              "      <td>2020-01-01 00:10:00</td>\n",
              "      <td>227.4362</td>\n",
              "    </tr>\n",
              "    <tr>\n",
              "      <th>3</th>\n",
              "      <td>2020-01-01 00:15:00</td>\n",
              "      <td>222.1747</td>\n",
              "    </tr>\n",
              "    <tr>\n",
              "      <th>4</th>\n",
              "      <td>2020-01-01 00:20:00</td>\n",
              "      <td>217.8452</td>\n",
              "    </tr>\n",
              "  </tbody>\n",
              "</table>\n",
              "</div>"
            ],
            "text/plain": [
              "                 Time  power_kW\n",
              "0 2020-01-01 00:00:00  226.3984\n",
              "1 2020-01-01 00:05:00  220.7581\n",
              "2 2020-01-01 00:10:00  227.4362\n",
              "3 2020-01-01 00:15:00  222.1747\n",
              "4 2020-01-01 00:20:00  217.8452"
            ]
          },
          "metadata": {
            "tags": []
          },
          "execution_count": 46
        }
      ]
    },
    {
      "cell_type": "markdown",
      "metadata": {
        "id": "_Gz7YQlXdAzH"
      },
      "source": [
        "### Interpolating missing values"
      ]
    },
    {
      "cell_type": "code",
      "metadata": {
        "colab": {
          "base_uri": "https://localhost:8080/"
        },
        "id": "Y7ZAc5dfcCMW",
        "outputId": "93503e93-c08a-48f0-a845-3d03012fc68c"
      },
      "source": [
        "power_df.interpolate(method = 'linear', inplace = True)\n",
        "print(\"power_df.shape = \" + str(power_df.shape))\n",
        "\n",
        "# Checking for Null values\n",
        "power_df.isnull().sum()"
      ],
      "execution_count": 47,
      "outputs": [
        {
          "output_type": "stream",
          "text": [
            "power_df.shape = (105121, 2)\n"
          ],
          "name": "stdout"
        },
        {
          "output_type": "execute_result",
          "data": {
            "text/plain": [
              "Time        0\n",
              "power_kW    0\n",
              "dtype: int64"
            ]
          },
          "metadata": {
            "tags": []
          },
          "execution_count": 47
        }
      ]
    },
    {
      "cell_type": "code",
      "metadata": {
        "colab": {
          "base_uri": "https://localhost:8080/",
          "height": 206
        },
        "id": "SwhBurNVxJvj",
        "outputId": "58184175-4012-4fcf-d3b5-e4716e34f847"
      },
      "source": [
        "power_df['year'] = power_df['Time'].dt.year\n",
        "power_df['month'] = power_df['Time'].dt.month\n",
        "# power_df['day of week'] = power_df['Time'].dt.dayofweek\n",
        "day_map = {\n",
        "    0: 'Sun',\n",
        "    1: 'Mon',\n",
        "    2: 'Tue',\n",
        "    3: 'Wed',\n",
        "    4: 'Thu',\n",
        "    5: 'Fri',\n",
        "    6: 'Sat',\n",
        "}\n",
        "\n",
        "# power_df['day_name'] = power_df['Time'].dt.weekday.map(day_map)\n",
        "power_df.head()"
      ],
      "execution_count": 48,
      "outputs": [
        {
          "output_type": "execute_result",
          "data": {
            "text/html": [
              "<div>\n",
              "<style scoped>\n",
              "    .dataframe tbody tr th:only-of-type {\n",
              "        vertical-align: middle;\n",
              "    }\n",
              "\n",
              "    .dataframe tbody tr th {\n",
              "        vertical-align: top;\n",
              "    }\n",
              "\n",
              "    .dataframe thead th {\n",
              "        text-align: right;\n",
              "    }\n",
              "</style>\n",
              "<table border=\"1\" class=\"dataframe\">\n",
              "  <thead>\n",
              "    <tr style=\"text-align: right;\">\n",
              "      <th></th>\n",
              "      <th>Time</th>\n",
              "      <th>power_kW</th>\n",
              "      <th>year</th>\n",
              "      <th>month</th>\n",
              "    </tr>\n",
              "  </thead>\n",
              "  <tbody>\n",
              "    <tr>\n",
              "      <th>0</th>\n",
              "      <td>2020-01-01 00:00:00</td>\n",
              "      <td>226.3984</td>\n",
              "      <td>2020</td>\n",
              "      <td>1</td>\n",
              "    </tr>\n",
              "    <tr>\n",
              "      <th>1</th>\n",
              "      <td>2020-01-01 00:05:00</td>\n",
              "      <td>220.7581</td>\n",
              "      <td>2020</td>\n",
              "      <td>1</td>\n",
              "    </tr>\n",
              "    <tr>\n",
              "      <th>2</th>\n",
              "      <td>2020-01-01 00:10:00</td>\n",
              "      <td>227.4362</td>\n",
              "      <td>2020</td>\n",
              "      <td>1</td>\n",
              "    </tr>\n",
              "    <tr>\n",
              "      <th>3</th>\n",
              "      <td>2020-01-01 00:15:00</td>\n",
              "      <td>222.1747</td>\n",
              "      <td>2020</td>\n",
              "      <td>1</td>\n",
              "    </tr>\n",
              "    <tr>\n",
              "      <th>4</th>\n",
              "      <td>2020-01-01 00:20:00</td>\n",
              "      <td>217.8452</td>\n",
              "      <td>2020</td>\n",
              "      <td>1</td>\n",
              "    </tr>\n",
              "  </tbody>\n",
              "</table>\n",
              "</div>"
            ],
            "text/plain": [
              "                 Time  power_kW  year  month\n",
              "0 2020-01-01 00:00:00  226.3984  2020      1\n",
              "1 2020-01-01 00:05:00  220.7581  2020      1\n",
              "2 2020-01-01 00:10:00  227.4362  2020      1\n",
              "3 2020-01-01 00:15:00  222.1747  2020      1\n",
              "4 2020-01-01 00:20:00  217.8452  2020      1"
            ]
          },
          "metadata": {
            "tags": []
          },
          "execution_count": 48
        }
      ]
    },
    {
      "cell_type": "code",
      "metadata": {
        "id": "rQrujsprPD7A"
      },
      "source": [
        "# power_df.power_kW[15701] = (power_df.power_kW[15700] + power_df.power_kW[15702])/2\n",
        "# power_df.power_kW[81976] = (power_df.power_kW[81975] + power_df.power_kW[81977])/2\n",
        "# power_df.power_kW[86018] = (power_df.power_kW[86017] + power_df.power_kW[86019])/2\n",
        "# power_df.power_kW[98901] = (power_df.power_kW[98900] + power_df.power_kW[98902])/2"
      ],
      "execution_count": 49,
      "outputs": []
    },
    {
      "cell_type": "code",
      "metadata": {
        "colab": {
          "base_uri": "https://localhost:8080/",
          "height": 488
        },
        "id": "HPYU4xr6bgxr",
        "outputId": "73cda4c6-dbb4-40c4-d059-8b4d5aac1d4d"
      },
      "source": [
        "infos = power_df.groupby(power_df.month).describe()\n",
        "infos"
      ],
      "execution_count": 50,
      "outputs": [
        {
          "output_type": "execute_result",
          "data": {
            "text/html": [
              "<div>\n",
              "<style scoped>\n",
              "    .dataframe tbody tr th:only-of-type {\n",
              "        vertical-align: middle;\n",
              "    }\n",
              "\n",
              "    .dataframe tbody tr th {\n",
              "        vertical-align: top;\n",
              "    }\n",
              "\n",
              "    .dataframe thead tr th {\n",
              "        text-align: left;\n",
              "    }\n",
              "\n",
              "    .dataframe thead tr:last-of-type th {\n",
              "        text-align: right;\n",
              "    }\n",
              "</style>\n",
              "<table border=\"1\" class=\"dataframe\">\n",
              "  <thead>\n",
              "    <tr>\n",
              "      <th></th>\n",
              "      <th colspan=\"8\" halign=\"left\">power_kW</th>\n",
              "      <th colspan=\"8\" halign=\"left\">year</th>\n",
              "    </tr>\n",
              "    <tr>\n",
              "      <th></th>\n",
              "      <th>count</th>\n",
              "      <th>mean</th>\n",
              "      <th>std</th>\n",
              "      <th>min</th>\n",
              "      <th>25%</th>\n",
              "      <th>50%</th>\n",
              "      <th>75%</th>\n",
              "      <th>max</th>\n",
              "      <th>count</th>\n",
              "      <th>mean</th>\n",
              "      <th>std</th>\n",
              "      <th>min</th>\n",
              "      <th>25%</th>\n",
              "      <th>50%</th>\n",
              "      <th>75%</th>\n",
              "      <th>max</th>\n",
              "    </tr>\n",
              "    <tr>\n",
              "      <th>month</th>\n",
              "      <th></th>\n",
              "      <th></th>\n",
              "      <th></th>\n",
              "      <th></th>\n",
              "      <th></th>\n",
              "      <th></th>\n",
              "      <th></th>\n",
              "      <th></th>\n",
              "      <th></th>\n",
              "      <th></th>\n",
              "      <th></th>\n",
              "      <th></th>\n",
              "      <th></th>\n",
              "      <th></th>\n",
              "      <th></th>\n",
              "      <th></th>\n",
              "    </tr>\n",
              "  </thead>\n",
              "  <tbody>\n",
              "    <tr>\n",
              "      <th>1</th>\n",
              "      <td>8928.0</td>\n",
              "      <td>237.864164</td>\n",
              "      <td>60.669328</td>\n",
              "      <td>24.5442</td>\n",
              "      <td>201.496400</td>\n",
              "      <td>225.013438</td>\n",
              "      <td>290.262050</td>\n",
              "      <td>366.8120</td>\n",
              "      <td>8928.0</td>\n",
              "      <td>2020.0</td>\n",
              "      <td>0.0</td>\n",
              "      <td>2020.0</td>\n",
              "      <td>2020.0</td>\n",
              "      <td>2020.0</td>\n",
              "      <td>2020.0</td>\n",
              "      <td>2020.0</td>\n",
              "    </tr>\n",
              "    <tr>\n",
              "      <th>2</th>\n",
              "      <td>8352.0</td>\n",
              "      <td>263.706474</td>\n",
              "      <td>48.747152</td>\n",
              "      <td>179.7528</td>\n",
              "      <td>219.206900</td>\n",
              "      <td>251.181450</td>\n",
              "      <td>311.306300</td>\n",
              "      <td>378.6985</td>\n",
              "      <td>8352.0</td>\n",
              "      <td>2020.0</td>\n",
              "      <td>0.0</td>\n",
              "      <td>2020.0</td>\n",
              "      <td>2020.0</td>\n",
              "      <td>2020.0</td>\n",
              "      <td>2020.0</td>\n",
              "      <td>2020.0</td>\n",
              "    </tr>\n",
              "    <tr>\n",
              "      <th>3</th>\n",
              "      <td>8928.0</td>\n",
              "      <td>227.319778</td>\n",
              "      <td>61.521538</td>\n",
              "      <td>125.1767</td>\n",
              "      <td>168.628347</td>\n",
              "      <td>216.121850</td>\n",
              "      <td>276.633775</td>\n",
              "      <td>399.4743</td>\n",
              "      <td>8928.0</td>\n",
              "      <td>2020.0</td>\n",
              "      <td>0.0</td>\n",
              "      <td>2020.0</td>\n",
              "      <td>2020.0</td>\n",
              "      <td>2020.0</td>\n",
              "      <td>2020.0</td>\n",
              "      <td>2020.0</td>\n",
              "    </tr>\n",
              "    <tr>\n",
              "      <th>4</th>\n",
              "      <td>8640.0</td>\n",
              "      <td>181.527956</td>\n",
              "      <td>21.766763</td>\n",
              "      <td>39.3348</td>\n",
              "      <td>160.667075</td>\n",
              "      <td>188.346650</td>\n",
              "      <td>200.672600</td>\n",
              "      <td>246.2416</td>\n",
              "      <td>8640.0</td>\n",
              "      <td>2020.0</td>\n",
              "      <td>0.0</td>\n",
              "      <td>2020.0</td>\n",
              "      <td>2020.0</td>\n",
              "      <td>2020.0</td>\n",
              "      <td>2020.0</td>\n",
              "      <td>2020.0</td>\n",
              "    </tr>\n",
              "    <tr>\n",
              "      <th>5</th>\n",
              "      <td>8928.0</td>\n",
              "      <td>198.399287</td>\n",
              "      <td>24.633019</td>\n",
              "      <td>141.1062</td>\n",
              "      <td>174.289625</td>\n",
              "      <td>204.738650</td>\n",
              "      <td>216.991650</td>\n",
              "      <td>269.3244</td>\n",
              "      <td>8928.0</td>\n",
              "      <td>2020.0</td>\n",
              "      <td>0.0</td>\n",
              "      <td>2020.0</td>\n",
              "      <td>2020.0</td>\n",
              "      <td>2020.0</td>\n",
              "      <td>2020.0</td>\n",
              "      <td>2020.0</td>\n",
              "    </tr>\n",
              "    <tr>\n",
              "      <th>6</th>\n",
              "      <td>8640.0</td>\n",
              "      <td>176.910455</td>\n",
              "      <td>26.939919</td>\n",
              "      <td>89.5351</td>\n",
              "      <td>153.349850</td>\n",
              "      <td>163.110350</td>\n",
              "      <td>203.314475</td>\n",
              "      <td>251.4524</td>\n",
              "      <td>8640.0</td>\n",
              "      <td>2020.0</td>\n",
              "      <td>0.0</td>\n",
              "      <td>2020.0</td>\n",
              "      <td>2020.0</td>\n",
              "      <td>2020.0</td>\n",
              "      <td>2020.0</td>\n",
              "      <td>2020.0</td>\n",
              "    </tr>\n",
              "    <tr>\n",
              "      <th>7</th>\n",
              "      <td>8928.0</td>\n",
              "      <td>176.593907</td>\n",
              "      <td>21.903892</td>\n",
              "      <td>12.7863</td>\n",
              "      <td>159.215600</td>\n",
              "      <td>167.837400</td>\n",
              "      <td>197.456900</td>\n",
              "      <td>241.8515</td>\n",
              "      <td>8928.0</td>\n",
              "      <td>2020.0</td>\n",
              "      <td>0.0</td>\n",
              "      <td>2020.0</td>\n",
              "      <td>2020.0</td>\n",
              "      <td>2020.0</td>\n",
              "      <td>2020.0</td>\n",
              "      <td>2020.0</td>\n",
              "    </tr>\n",
              "    <tr>\n",
              "      <th>8</th>\n",
              "      <td>8928.0</td>\n",
              "      <td>166.222623</td>\n",
              "      <td>20.556581</td>\n",
              "      <td>110.8487</td>\n",
              "      <td>149.298875</td>\n",
              "      <td>162.892750</td>\n",
              "      <td>184.396800</td>\n",
              "      <td>233.7269</td>\n",
              "      <td>8928.0</td>\n",
              "      <td>2020.0</td>\n",
              "      <td>0.0</td>\n",
              "      <td>2020.0</td>\n",
              "      <td>2020.0</td>\n",
              "      <td>2020.0</td>\n",
              "      <td>2020.0</td>\n",
              "      <td>2020.0</td>\n",
              "    </tr>\n",
              "    <tr>\n",
              "      <th>9</th>\n",
              "      <td>8640.0</td>\n",
              "      <td>196.675106</td>\n",
              "      <td>29.403104</td>\n",
              "      <td>56.9112</td>\n",
              "      <td>174.981250</td>\n",
              "      <td>189.331850</td>\n",
              "      <td>220.312975</td>\n",
              "      <td>285.5830</td>\n",
              "      <td>8640.0</td>\n",
              "      <td>2020.0</td>\n",
              "      <td>0.0</td>\n",
              "      <td>2020.0</td>\n",
              "      <td>2020.0</td>\n",
              "      <td>2020.0</td>\n",
              "      <td>2020.0</td>\n",
              "      <td>2020.0</td>\n",
              "    </tr>\n",
              "    <tr>\n",
              "      <th>10</th>\n",
              "      <td>8928.0</td>\n",
              "      <td>195.484687</td>\n",
              "      <td>36.410124</td>\n",
              "      <td>70.2638</td>\n",
              "      <td>175.120009</td>\n",
              "      <td>189.308673</td>\n",
              "      <td>213.206575</td>\n",
              "      <td>310.3619</td>\n",
              "      <td>8928.0</td>\n",
              "      <td>2020.0</td>\n",
              "      <td>0.0</td>\n",
              "      <td>2020.0</td>\n",
              "      <td>2020.0</td>\n",
              "      <td>2020.0</td>\n",
              "      <td>2020.0</td>\n",
              "      <td>2020.0</td>\n",
              "    </tr>\n",
              "    <tr>\n",
              "      <th>11</th>\n",
              "      <td>8640.0</td>\n",
              "      <td>229.695052</td>\n",
              "      <td>35.517409</td>\n",
              "      <td>61.7367</td>\n",
              "      <td>196.098700</td>\n",
              "      <td>226.858250</td>\n",
              "      <td>267.049114</td>\n",
              "      <td>325.7890</td>\n",
              "      <td>8640.0</td>\n",
              "      <td>2020.0</td>\n",
              "      <td>0.0</td>\n",
              "      <td>2020.0</td>\n",
              "      <td>2020.0</td>\n",
              "      <td>2020.0</td>\n",
              "      <td>2020.0</td>\n",
              "      <td>2020.0</td>\n",
              "    </tr>\n",
              "    <tr>\n",
              "      <th>12</th>\n",
              "      <td>8641.0</td>\n",
              "      <td>211.841849</td>\n",
              "      <td>39.085272</td>\n",
              "      <td>38.1798</td>\n",
              "      <td>184.675200</td>\n",
              "      <td>200.926800</td>\n",
              "      <td>247.109000</td>\n",
              "      <td>316.0458</td>\n",
              "      <td>8641.0</td>\n",
              "      <td>2020.0</td>\n",
              "      <td>0.0</td>\n",
              "      <td>2020.0</td>\n",
              "      <td>2020.0</td>\n",
              "      <td>2020.0</td>\n",
              "      <td>2020.0</td>\n",
              "      <td>2020.0</td>\n",
              "    </tr>\n",
              "  </tbody>\n",
              "</table>\n",
              "</div>"
            ],
            "text/plain": [
              "      power_kW                                   ...    year                        \n",
              "         count        mean        std       min  ...     25%     50%     75%     max\n",
              "month                                            ...                                \n",
              "1       8928.0  237.864164  60.669328   24.5442  ...  2020.0  2020.0  2020.0  2020.0\n",
              "2       8352.0  263.706474  48.747152  179.7528  ...  2020.0  2020.0  2020.0  2020.0\n",
              "3       8928.0  227.319778  61.521538  125.1767  ...  2020.0  2020.0  2020.0  2020.0\n",
              "4       8640.0  181.527956  21.766763   39.3348  ...  2020.0  2020.0  2020.0  2020.0\n",
              "5       8928.0  198.399287  24.633019  141.1062  ...  2020.0  2020.0  2020.0  2020.0\n",
              "6       8640.0  176.910455  26.939919   89.5351  ...  2020.0  2020.0  2020.0  2020.0\n",
              "7       8928.0  176.593907  21.903892   12.7863  ...  2020.0  2020.0  2020.0  2020.0\n",
              "8       8928.0  166.222623  20.556581  110.8487  ...  2020.0  2020.0  2020.0  2020.0\n",
              "9       8640.0  196.675106  29.403104   56.9112  ...  2020.0  2020.0  2020.0  2020.0\n",
              "10      8928.0  195.484687  36.410124   70.2638  ...  2020.0  2020.0  2020.0  2020.0\n",
              "11      8640.0  229.695052  35.517409   61.7367  ...  2020.0  2020.0  2020.0  2020.0\n",
              "12      8641.0  211.841849  39.085272   38.1798  ...  2020.0  2020.0  2020.0  2020.0\n",
              "\n",
              "[12 rows x 16 columns]"
            ]
          },
          "metadata": {
            "tags": []
          },
          "execution_count": 50
        }
      ]
    },
    {
      "cell_type": "code",
      "metadata": {
        "colab": {
          "base_uri": "https://localhost:8080/",
          "height": 399
        },
        "id": "7f3icsx5YqcD",
        "outputId": "fb7aefe8-2b1a-4ce6-993a-22fb642268e2"
      },
      "source": [
        "infos = power_df.groupby(power_df.month).describe()\n",
        "idx = pd.IndexSlice\n",
        "monthly_max = infos.loc[:,idx[:,'max']].power_kW.values.flatten()\n",
        "monthly_avg = infos.loc[:,idx[:,'mean']].power_kW.values.flatten()\n",
        "\n",
        "months = list(range(1,13))\n",
        "plt.xticks(np.arange(1,13), 'Jan Feb Mar Apr May Jun Jul Aug Sep Oct Nov Dec'.split())\n",
        "# plt.xtciks()\n",
        "plt.rc('xtick',labelsize = 15)\n",
        "plt.rc('ytick',labelsize = 15)\n",
        "\n",
        "plt.bar(months, monthly_avg, alpha = 0.6, color = 'green', label = 'monthly_avg')\n",
        "plt.bar(months, monthly_max, alpha = 0.6, color = 'red', label = 'monthly_max')\n",
        "# plt.xlabel('months', fontsize = 15)\n",
        "plt.ylabel('load(kW', fontsize = 15)\n",
        "plt.title('Monthly average and maximum load', fontweight = 'bold', fontsize = 18)\n",
        "plt.legend()\n",
        "# plt.savefig(\"monthly_stats.png\",bbox_inches = \"tight\")\n",
        "# files.download(\"monthly_stats.png\") \n",
        "plt.show()"
      ],
      "execution_count": 51,
      "outputs": [
        {
          "output_type": "display_data",
          "data": {
            "image/png": "[encoded data removed]",
            "text/plain": [
              "<Figure size 720x432 with 1 Axes>"
            ]
          },
          "metadata": {
            "tags": []
          }
        }
      ]
    },
    {
      "cell_type": "code",
      "metadata": {
        "colab": {
          "base_uri": "https://localhost:8080/",
          "height": 418
        },
        "id": "S3FChlP_z0OB",
        "outputId": "d194d3a5-cd5f-409d-d498-24e8583b0e67"
      },
      "source": [
        "time = np.arange(365)\n",
        "plt.plot(time, temp, linewidth = 2, label = 'Avg_temp')\n",
        "\n",
        "plt.xticks(np.arange(0,365,30), 'Jan Feb Mar Apr May June July Aug Sep oct Nov Dec'.split() )\n",
        "# xlab = 'Jan Feb Mar Apr May June July Aug Sep oct Nov Dec'.split() \n",
        "plt.rc('xtick',labelsize = 15)\n",
        "plt.rc('ytick',labelsize = 15)\n",
        "\n",
        "plt.xlabel('Days', fontsize = 15)\n",
        "plt.ylabel('Temerature(K)', fontsize = 15)\n",
        "plt.title('Yearly temperature profile of Hyderabad(2020)', fontsize = 18, fontweight = 'bold')\n",
        "plt.legend()\n",
        "plt.grid()\n",
        "# plt.savefig(\"anuual_temp_profile.eps\",bbox_inches = \"tight\")\n",
        "# files.download(\"anuual_temp_profile.eps\") \n",
        "plt.show()"
      ],
      "execution_count": 52,
      "outputs": [
        {
          "output_type": "display_data",
          "data": {
            "image/png": "[encoded data removed]",
            "text/plain": [
              "<Figure size 720x432 with 1 Axes>"
            ]
          },
          "metadata": {
            "tags": []
          }
        }
      ]
    },
    {
      "cell_type": "markdown",
      "metadata": {
        "id": "Z22WABfl_beO"
      },
      "source": [
        "## **Data Analysis from 17-09-2020 to 23-09-2020**"
      ]
    },
    {
      "cell_type": "markdown",
      "metadata": {
        "id": "K4gZ1ZKaHpVU"
      },
      "source": [
        "### Data of 17-09-2020"
      ]
    },
    {
      "cell_type": "code",
      "metadata": {
        "colab": {
          "base_uri": "https://localhost:8080/",
          "height": 206
        },
        "id": "HGAakFLAxuNC",
        "outputId": "27616514-8970-4727-e4a0-de78db61e168"
      },
      "source": [
        "start_index = power_df[power_df.Time == '2020-09-17 00:00:00'].index.values[0]\n",
        "tmp_df = power_df[start_index:start_index + 288*7][:288] # for 1 day\n",
        "tmp_df.head()"
      ],
      "execution_count": 53,
      "outputs": [
        {
          "output_type": "execute_result",
          "data": {
            "text/html": [
              "<div>\n",
              "<style scoped>\n",
              "    .dataframe tbody tr th:only-of-type {\n",
              "        vertical-align: middle;\n",
              "    }\n",
              "\n",
              "    .dataframe tbody tr th {\n",
              "        vertical-align: top;\n",
              "    }\n",
              "\n",
              "    .dataframe thead th {\n",
              "        text-align: right;\n",
              "    }\n",
              "</style>\n",
              "<table border=\"1\" class=\"dataframe\">\n",
              "  <thead>\n",
              "    <tr style=\"text-align: right;\">\n",
              "      <th></th>\n",
              "      <th>Time</th>\n",
              "      <th>power_kW</th>\n",
              "      <th>year</th>\n",
              "      <th>month</th>\n",
              "    </tr>\n",
              "  </thead>\n",
              "  <tbody>\n",
              "    <tr>\n",
              "      <th>74880</th>\n",
              "      <td>2020-09-17 00:00:00</td>\n",
              "      <td>181.3058</td>\n",
              "      <td>2020</td>\n",
              "      <td>9</td>\n",
              "    </tr>\n",
              "    <tr>\n",
              "      <th>74881</th>\n",
              "      <td>2020-09-17 00:05:00</td>\n",
              "      <td>184.7308</td>\n",
              "      <td>2020</td>\n",
              "      <td>9</td>\n",
              "    </tr>\n",
              "    <tr>\n",
              "      <th>74882</th>\n",
              "      <td>2020-09-17 00:10:00</td>\n",
              "      <td>175.0455</td>\n",
              "      <td>2020</td>\n",
              "      <td>9</td>\n",
              "    </tr>\n",
              "    <tr>\n",
              "      <th>74883</th>\n",
              "      <td>2020-09-17 00:15:00</td>\n",
              "      <td>173.8043</td>\n",
              "      <td>2020</td>\n",
              "      <td>9</td>\n",
              "    </tr>\n",
              "    <tr>\n",
              "      <th>74884</th>\n",
              "      <td>2020-09-17 00:20:00</td>\n",
              "      <td>172.9643</td>\n",
              "      <td>2020</td>\n",
              "      <td>9</td>\n",
              "    </tr>\n",
              "  </tbody>\n",
              "</table>\n",
              "</div>"
            ],
            "text/plain": [
              "                     Time  power_kW  year  month\n",
              "74880 2020-09-17 00:00:00  181.3058  2020      9\n",
              "74881 2020-09-17 00:05:00  184.7308  2020      9\n",
              "74882 2020-09-17 00:10:00  175.0455  2020      9\n",
              "74883 2020-09-17 00:15:00  173.8043  2020      9\n",
              "74884 2020-09-17 00:20:00  172.9643  2020      9"
            ]
          },
          "metadata": {
            "tags": []
          },
          "execution_count": 53
        }
      ]
    },
    {
      "cell_type": "markdown",
      "metadata": {
        "id": "-XvucoOmem8V"
      },
      "source": [
        "## Data Visulization"
      ]
    },
    {
      "cell_type": "code",
      "metadata": {
        "colab": {
          "base_uri": "https://localhost:8080/",
          "height": 418
        },
        "id": "DaUd2HHL1MkS",
        "outputId": "1b353832-27fc-4dfc-e2eb-5518ac81f61f"
      },
      "source": [
        "time_step = np.arange(1,1+len(tmp_df))\n",
        "power = tmp_df.power_kW.values\n",
        "\n",
        "xlab = 'time(h)'\n",
        "ylab = 'power(kW)'\n",
        "xvals = time_step\n",
        "yvals = power\n",
        "title = \"17th Sept 2020 load profile of A block\"\n",
        "# myplot(xvals, yvals, xlab, ylab,title)\n",
        "\n",
        "# plt.xticks(np.linspace(0,len(power_df),), list(range(0,int(24*60/stepsize),5)))\n",
        "plt.xticks(np.arange(0,24*(12+1),12), np.arange(0,24+1))\n",
        "# xlab = 'Jan Feb Mar Apr May June July Aug Sep oct Nov Dec'.split() \n",
        "plt.rc('xtick',labelsize = 15)\n",
        "plt.rc('ytick',labelsize = 15)\n",
        "\n",
        "plt.bar(xvals, yvals, color='b',label = 'daily_load')\n",
        "# plt.plot(xvals, yvals2, 'r--',label = 'range_max_load')\n",
        "# plt.plot(xvals, yvals3, 'r--')\n",
        "plt.xlabel(xlab, fontsize = 15)\n",
        "plt.ylabel(ylab, fontsize = 15)\n",
        "plt.title(title, fontsize = 18, fontweight = 'bold')\n",
        "plt.legend()\n",
        "plt.grid()\n",
        "plt.show()"
      ],
      "execution_count": 54,
      "outputs": [
        {
          "output_type": "display_data",
          "data": {
            "image/png": "[encoded data removed]",
            "text/plain": [
              "<Figure size 720x432 with 1 Axes>"
            ]
          },
          "metadata": {
            "tags": []
          }
        }
      ]
    },
    {
      "cell_type": "markdown",
      "metadata": {
        "id": "IjrVSjz0_u8i"
      },
      "source": [
        "### Uncoordinated power conversion\n",
        "* Here vehicle will discharge in building as soon as it arrives.So perform calculations based on this thing only."
      ]
    },
    {
      "cell_type": "markdown",
      "metadata": {
        "id": "J_D6U3T8_KRC"
      },
      "source": [
        "## Degradation Program for 365 days + 1 Car \n",
        "### Uncoordinated power conversion\n",
        "* Here vehicle will discharge in building as soon as it arrives.\n",
        "\n",
        "\n"
      ]
    },
    {
      "cell_type": "markdown",
      "metadata": {
        "id": "4goZF_Kg0EHX"
      },
      "source": [
        "### Assumptions\n",
        "1. Power is constant throughout the period.\n",
        "2. Temperature is constant throughout the period. \n",
        "3. Battery voltage is constant throughout the period.\n",
        "4. Arrival and departure time duration is considered instead of whole day.\n",
        "5. Power consumed during driving and its dependency on driving pattern is ignored.\n",
        "\n",
        "\\begin{equation*}\n",
        "P_{DC} = \\frac {P_{AC}}{\\eta} \\\\\n",
        "C-rate = \\frac {Charger \\space power(kW)} {Battery \\space Capacity (kWh)} \\\\\n",
        "C-rate = \\frac {P_{AC}} {\\eta \\cdot Battery \\space Capacity (kWh) } \\\\\n",
        "\\end{equation*}"
      ]
    },
    {
      "cell_type": "code",
      "metadata": {
        "id": "y5rJTW7amILC"
      },
      "source": [
        "def cycle_deg( T, b_current, c_rate, del_t):\n",
        "    cycle_const = [8.6772e-6, -5.1613e-3, 7.6788e-1, -6.7e-3, 2.35] #[a, b, c, d, e]\n",
        "    a,b,c,d,e = cycle_const[0], cycle_const[1], cycle_const[2], cycle_const[3], cycle_const[4]\n",
        "    cells_per_mod = 72\n",
        "\n",
        "    B1 = a*pow(T,2) + b*T + c\n",
        "    B2 = d*T + e\n",
        "    cell_current = b_current / cells_per_mod\n",
        "    cycle_loss = B1 * np.exp(B2 * c_rate) * cell_current * (del_t/60) # del_t in hour\n",
        "    return cycle_loss\n",
        "\n",
        "\n",
        "# def cal_deg(cal_const, T, t, del_t):\n",
        "#     cal_const = [14786, 24500, 8.314] # [f, Ea, R]\n",
        "#     f,Ea,R = cal_const[0], cal_const[1], cal_const[2]\n",
        "#     # f,Ea,R = 14786, 29500, 8.314\n",
        "\n",
        "#     # t = t/24 # Convert it into day\n",
        "#     cal_deg = f * np.exp(-Ea/(R*T)) * pow(t/24,0.5)\n",
        "#     # cal_deg = 0.5 * f * np.exp(-Ea/(R*T)) * pow(t,-0.5) * (del_t/(60*24)) # del_t in days\n",
        "#     return cal_deg\n",
        "\n",
        "def cal_deg2(temp, t):\n",
        "    alpha, beta = 165000, -4148\n",
        "    cal_deg = alpha * np.exp(beta/temp) * pow(t,0.5)\n",
        "    return cal_deg # in %\n",
        "\n",
        "# def cal_deg2(T, t):\n",
        "#     cal_const = [14786, 24500, 8.314] # [f, Ea, R]\n",
        "#     f,Ea,R = cal_const[0], cal_const[1], cal_const[2]\n",
        "#     cal_deg = f * np.exp(-Ea/(R*T)) * pow(t,0.5)\n",
        "#     return cal_deg\n",
        "\n",
        "def hour2min2hour(hour1, hour2):\n",
        "    \"\"\"\n",
        "    hour1 = arrival time,\n",
        "    hour2 = departure time\n",
        "    \"\"\"\n",
        "    frac_hour1 = hour1 - int(hour1)\n",
        "    frac_hour2 = hour2 - int(hour2)\n",
        "    min = ( (int(hour2) - int(hour1))*60 + (frac_hour2 - frac_hour1)*100 ) / 60\n",
        "    return min\n",
        "\n",
        "def hour2steps(hour,step_size):\n",
        "    \"\"\"\n",
        "    -> Convert hour into minute.Unit of step_size in minutes\n",
        "    -> Divide minutes with step size and u will get steps.\n",
        "    \"\"\"\n",
        "    steps = int(hour * 60 / step_size)\n",
        "    return steps\n",
        "\n",
        "def myTemp(ambient_temp, power):\n",
        "    rth = 2 # Celcius / kW\n",
        "    return ambient_temp + rth * power\n",
        "\n",
        "def myplot(xvals,yvals, kind='plot', labels=None,xlab=None,ylab=None,titles=None,colors='b',image_name = 'imag.png',save=False):\n",
        "    plt.rc('xtick',labelsize = 15)\n",
        "    plt.rc('ytick',labelsize = 15)\n",
        "    if kind.lower() == 'bar': \n",
        "        plt.bar(xvals,yvals,label = labels, linewidth = 2, color = colors)\n",
        "    else:\n",
        "        plt.plot(xvals,yvals,label = labels, linewidth = 2, color = colors)\n",
        "    plt.xlabel(xlab,fontsize = 16)\n",
        "    plt.ylabel(ylab,fontsize = 16)\n",
        "    plt.title(titles,fontsize = 18,color = 'black',fontweight = 'bold')\n",
        "    name = image_name\n",
        "    if save:\n",
        "        plt.legend()\n",
        "        plt.grid()\n",
        "        plt.savefig(name,bbox_inches = 'tight',orientation = 'portrait')\n",
        "        files.download(name) \n",
        "    plt.legend()\n",
        "    plt.grid()\n",
        "    plt.show()\n",
        "\n",
        "def print_deg_results(disch_power, disch_time, energy, c_rate, total_deg):\n",
        "    print(f\" disch_power = {disch_power:3f} kW \\n disch_time = {disch_time:3f} h \\n disch_energy = {energy:3f} kWh \\n disc_rate = {c_rate:3f} \\n total_deg = {total_deg:5f} %\")"
      ],
      "execution_count": 55,
      "outputs": []
    },
    {
      "cell_type": "code",
      "metadata": {
        "id": "XK3mbcRoDc_K"
      },
      "source": [
        "# np.random.seed(1)\n",
        "# int_arr_time = np.random.randint( 9,11, size = year*days )\n",
        "# int_dep_time = np.random.randint( 17,19, size = year*days )\n",
        "# time = np.arange(365)\n",
        "\n",
        "# # plt.bar(time, int_arr_time, linewidth = 2, alpha = 0.6, color  ='red', label = 'arr_time')\n",
        "# # plt.bar(time, int_dep_time, linewidth = 2, alpha = 0.6, color = 'blue', label = 'dep_time')\n",
        "# plt.hist(int_arr_time, label = 'arr_time', color = 'red')\n",
        "# plt.hist(int_dep_time, label = 'dep_time', color = 'blue')\n",
        "# plt.xlabel(\"Time(24h format)\", fontsize = 15)\n",
        "# plt.ylabel(\"Total no. of days during 1 year\", fontsize = 15)\n",
        "# plt.title(\"Arrival and departure time of EV for 1 year duration\", fontsize = 18, fontweight = 'bold')\n",
        "# plt.xticks(np.arange(9,19,1), np.arange(9,19,1))\n",
        "\n",
        "# plt.legend(loc = 'upper center')\n",
        "# plt.grid()\n",
        "# # plt.savefig(\"arr_dep_profile.eps\",bbox_inches = \"tight\")\n",
        "# # files.download(\"arr_dep_profile.eps\") \n",
        "# plt.show()"
      ],
      "execution_count": 56,
      "outputs": []
    },
    {
      "cell_type": "markdown",
      "metadata": {
        "id": "-0fbpVcWzG-K"
      },
      "source": [
        "# <font color = 'green'> Calendar and Cycle Degradation for V2G + Driving </font>"
      ]
    },
    {
      "cell_type": "markdown",
      "metadata": {
        "id": "vs8-lqEIbhtZ"
      },
      "source": [
        "## 2D vector type arrangement where row = days, column = disch_rates\n",
        "Still needs to take care of efficiency!"
      ]
    },
    {
      "cell_type": "code",
      "metadata": {
        "colab": {
          "base_uri": "https://localhost:8080/"
        },
        "id": "WekjR-EaOkQc",
        "outputId": "4024c5e4-36b6-4c19-98de-bdbc590cc925"
      },
      "source": [
        "temp = 273 + vehicle_df.temp.values # for resetting the temperature vector\n",
        "year, days = 8, len(vehicle_df)\n",
        "temp = list(temp)*year\n",
        "# disch_rate = np.array([0])\n",
        "disch_rate = np.arange(0,0.8,0.1)\n",
        "# disch_rate = np.arange(0,0.75,0.01)\n",
        "\n",
        "print(len(temp))\n",
        "print(disch_rate)"
      ],
      "execution_count": 57,
      "outputs": [
        {
          "output_type": "stream",
          "text": [
            "2920\n",
            "[0.  0.1 0.2 0.3 0.4 0.5 0.6 0.7]\n"
          ],
          "name": "stdout"
        }
      ]
    },
    {
      "cell_type": "markdown",
      "metadata": {
        "id": "jZS3lNErzc-R"
      },
      "source": [
        "### Calendar and Cycle Degradation for only driving case"
      ]
    },
    {
      "cell_type": "code",
      "metadata": {
        "colab": {
          "base_uri": "https://localhost:8080/"
        },
        "id": "BNH6V69k_K8U",
        "outputId": "22e0e068-9ddb-4a1e-ceb4-3a2f71cce120"
      },
      "source": [
        "b_cap = 38.34 #kWh\n",
        "b_volt = 355.2 #volt\n",
        "step = 5\n",
        "del_t = step\n",
        "\n",
        "# charger_eff = 0.873 # No use here\n",
        "# eff_b2w = 0.7 # efficiency of battery to wheel(No use)\n",
        "\n",
        "# At home\n",
        "home_charger = 3.3 #kW\n",
        "rth = 2 # Celcius/kW\n",
        "\n",
        "# Arrival and Departure time generation\n",
        "np.random.seed(1)\n",
        "int_arr_time = np.random.randint( 9,11, size = year*days )\n",
        "int_dep_time = np.random.randint( 17,19, size = year*days )\n",
        "\n",
        "def deg_drive():\n",
        "    total_deg2 = np.zeros(len(temp)+1)\n",
        "    cum_cal_deg2 = np.zeros(len(temp)+1)\n",
        "    cum_cal_time = np.zeros(len(temp)+1)\n",
        "    cum_cycle_deg2 = 0\n",
        "    \n",
        "    b_percent_cap2 = np.zeros(len(temp)+1)\n",
        "    b_percent_cap2[0] = 100\n",
        "\n",
        "    cum_charge_energy2 = 0\n",
        "\n",
        "    isCharged = True\n",
        "    for i in range(year*days):\n",
        "        b_cap_kwh = b_percent_cap2[i] * b_cap / 100\n",
        "        if isCharged:\n",
        "            current_energy = b_cap_kwh\n",
        "        \n",
        "        #### Degradation during travelling from and to the building (Cycle)\n",
        "        cyc_time = 45/60\n",
        "        travel_energy = 0.1 * b_cap  # 10% energy is lost in travel time\n",
        "        bty_tvl_pwr = travel_energy / (cyc_time) # * eff_b2w) # Power from battery after travelling\n",
        "        b_temp = myTemp(temp[i], bty_tvl_pwr)\n",
        "        if b_temp > 273+45:\n",
        "                b_temp = 273+45\n",
        "        b_current = bty_tvl_pwr*1000 / b_volt\n",
        "        c_rate = bty_tvl_pwr / b_cap_kwh\n",
        "        cyc_steps = hour2steps(cyc_time, step)\n",
        "\n",
        "        daily_cycle_deg, daily_cal_time = 0,0\n",
        "\n",
        "        for j in range(cyc_steps):\n",
        "            daily_cycle_deg += cycle_deg(b_temp, b_current, c_rate, del_t)\n",
        "        daily_cycle_deg *= 2\n",
        "\n",
        "        #### Degradation at building(Calendar)\n",
        "        standing_time = int_dep_time[i] - int_arr_time[i]\n",
        "        daily_cal_time += standing_time \n",
        "\n",
        "        # Charge if current energy < next day requirement\n",
        "        current_energy -= (2*travel_energy)\n",
        "\n",
        "        #### Degradation at home(Cycle + Calendar)\n",
        "        # Charging of car\n",
        "        if current_energy < 2*travel_energy:\n",
        "            isCharged = True\n",
        "            charge_energy = b_cap_kwh - current_energy # charge to 100% of that day capacity\n",
        "            cum_charge_energy2 += charge_energy \n",
        "            charge_power = home_charger\n",
        "            cycle_time = charge_energy / charge_power\n",
        "            b_current = charge_power*1000 / b_volt\n",
        "            cycle_steps = hour2steps(cycle_time, step)\n",
        "            c_rate = charge_power / b_cap_kwh\n",
        "            cycle_temp = myTemp(temp[i], charge_power)\n",
        "            if cycle_temp > 273+45:\n",
        "                cycle_temp = 273+45\n",
        "\n",
        "            # Cycle degradation during charge at home\n",
        "            for j in range(cycle_steps):\n",
        "                daily_cycle_deg += cycle_deg(cycle_temp, b_current, c_rate, del_t)\n",
        "\n",
        "            # Calendar time calculation at home\n",
        "            daily_cal_time += 24 - 2*cyc_time - standing_time - cycle_time\n",
        "        \n",
        "        # Car will remain idle until for next day\n",
        "        else:\n",
        "            isCharged = False\n",
        "            # Calendar time calculation at home\n",
        "            daily_cal_time += 24 - 2*cyc_time - standing_time\n",
        "\n",
        "        ### Total Calendar degradation during whole day\n",
        "        cum_cal_time[i+1] =  cum_cal_time[i] +  daily_cal_time \n",
        "        daily_cal_deg = cal_deg2(temp[i], cum_cal_time[i+1]/24) - cal_deg2(temp[i], cum_cal_time[i]/24)  # Cum_deg of total day - previous day degradation\n",
        "        cum_cal_deg2[i+1] = cum_cal_deg2[i] + daily_cal_deg\n",
        "        total_deg2[i+1] = daily_cal_deg + daily_cycle_deg\n",
        "        cum_cycle_deg2 += daily_cycle_deg\n",
        "        b_percent_cap2[i+1] = b_percent_cap2[i] - total_deg2[i+1]\n",
        "\n",
        "    return cum_cycle_deg2, cum_cal_deg2, b_percent_cap2, cum_charge_energy2\n",
        "\n",
        "cum_cycle_deg2, cum_cal_deg2, b_percent_cap2, cum_charge_energy2= deg_drive()\n",
        "# cum_deg2 = cum_cycle_deg2[-1] + cum_cal_deg2[-1]\n",
        "cum_deg2 = cum_cycle_deg2 + cum_cal_deg2[-1]\n",
        "\n",
        "print(f\"Cumulaive Cycle Degradation: {cum_cycle_deg2:.3f}%\\nCumulaive Calender Degradation: {cum_cal_deg2[-1]:.3f}%\")\n",
        "print(f\"total deg after {year}  year : {(b_percent_cap2[0] - b_percent_cap2[-1]):.3f}%\")\n",
        "print(f\"total_charged_energy = {cum_charge_energy2:.3f}\")"
      ],
      "execution_count": 103,
      "outputs": [
        {
          "output_type": "stream",
          "text": [
            "Cumulaive Cycle Degradation: 2.947%\n",
            "Cumulaive Calender Degradation: 8.167%\n",
            "total deg after 8  year : 11.114%\n",
            "total_charged_energy = 22364.410\n"
          ],
          "name": "stdout"
        }
      ]
    },
    {
      "cell_type": "code",
      "metadata": {
        "colab": {
          "base_uri": "https://localhost:8080/",
          "height": 318
        },
        "id": "4r3l9WZtBvBi",
        "outputId": "4f82183b-10eb-4c27-ca0c-b221d3d67f0e"
      },
      "source": [
        "disch_power = 15 # Bharat DC-001 charger(Upto 72 V)\n",
        "\n",
        "def deg_drive_V2G(disch_rate, disch_power):\n",
        "    cum_charge_energy = np.zeros((1, len(disch_rate)))\n",
        "    \n",
        "    cum_cycle_deg = np.zeros((len(temp)+1, len(disch_rate)))\n",
        "    cum_cal_deg = np.zeros((len(temp)+1, len(disch_rate)))\n",
        "    discharge_energy = np.zeros((len(temp)+1, len(disch_rate)))\n",
        "    cum_cal_time = np.zeros((len(temp)+1, len(disch_rate)))\n",
        "    \n",
        "    b_percent_cap = np.zeros((len(temp)+1, len(disch_rate)))\n",
        "    b_percent_cap[0,:] = 100 # Initilal capacity = 100%\n",
        "\n",
        "    for col, d_rate in enumerate(disch_rate): ############################\n",
        "        isCharged = True\n",
        "        for row in range(year*days):\n",
        "            b_cap_kwh = b_percent_cap[row,col] * b_cap / 100\n",
        "            if isCharged:\n",
        "                current_energy = b_cap_kwh\n",
        "\n",
        "            #### Degradation during travelling from and to the building (Cycle)\n",
        "            cyc_time = 45/60 # hour\n",
        "            travel_energy = 0.1 * b_cap  # 10% energy is lost in travel time\n",
        "            cyc_pwr = travel_energy / cyc_time # * eff_b2w) # Power from battery after travelling\n",
        "            b_temp = myTemp(temp[row], cyc_pwr)\n",
        "            if b_temp > 273+45:\n",
        "                b_temp = 273+45\n",
        "            b_current = cyc_pwr*1000 / b_volt\n",
        "            c_rate = cyc_pwr / b_cap_kwh\n",
        "            cyc_steps = hour2steps(cyc_time, step)\n",
        "\n",
        "            daily_cycle_deg, daily_cal_time = 0,0\n",
        "                \n",
        "            for j in range(cyc_steps):\n",
        "                daily_cycle_deg += cycle_deg(b_temp, b_current, c_rate, del_t)\n",
        "            daily_cycle_deg *= 2 # Multiply by 2 because of same degradation while returning to home\n",
        "\n",
        "            #### Degradation in the building(Calendar + Cycle)\n",
        "            disch_energy = d_rate * b_cap \n",
        "            standing_time = int_dep_time[row] - int_arr_time[row]\n",
        "            cycle_time = disch_energy / disch_power\n",
        "            b_current = disch_power*1000 / (b_volt)\n",
        "            c_rate = disch_power / b_cap_kwh\n",
        "            cycle_temp = myTemp(temp[row], disch_power)\n",
        "            if cycle_temp > 273+45:\n",
        "                cycle_temp = 273+45\n",
        "            daily_cal_time += standing_time - cycle_time\n",
        "            cycle_steps = hour2steps(cycle_time, step)\n",
        "\n",
        "            # Cycle degradation during discharge into building\n",
        "            for j in range(cycle_steps):\n",
        "                daily_cycle_deg += cycle_deg(cycle_temp, b_current, c_rate, del_t)\n",
        "            \n",
        "            # Charge if current energy < next day requirement\n",
        "            current_energy -= 2*travel_energy + disch_energy\n",
        "            \n",
        "            #### Degradation at home(Cycle+Calendar)\n",
        "            # Charging of car\n",
        "            if current_energy < 2*travel_energy + disch_energy:\n",
        "                isCharged = True\n",
        "                charge_energy = b_cap_kwh - current_energy # charge to 100% of that day capacity\n",
        "                cum_charge_energy[0, col] += charge_energy\n",
        "                charge_power = home_charger\n",
        "                cycle_time = charge_energy / charge_power\n",
        "                b_current = charge_power*1000 / b_volt\n",
        "                cycle_steps = hour2steps(cycle_time, step)\n",
        "                c_rate = charge_power / b_cap_kwh\n",
        "                cycle_temp = myTemp(temp[row], charge_power)\n",
        "                if cycle_temp > 273+45:\n",
        "                    cycle_temp = 273+45\n",
        "\n",
        "                # Cycle degradation during charge at home\n",
        "                for j in range(cycle_steps):\n",
        "                    daily_cycle_deg += cycle_deg(cycle_temp, b_current, c_rate, del_t)\n",
        "\n",
        "                # Calendar degradation during idle at home\n",
        "                daily_cal_time += 24 - 2*cyc_time - standing_time - cycle_time\n",
        "            else:\n",
        "                isCharged = False\n",
        "                # Calendar degradation during idle at home\n",
        "                daily_cal_time += 24 - 2*cyc_time - standing_time\n",
        "            \n",
        "            cum_cal_time[row+1, col] =  cum_cal_time[row, col] +  daily_cal_time  # cum_cal_time in hours\n",
        "            daily_cal_deg = cal_deg2(temp[row], cum_cal_time[row+1, col]/24) - cal_deg2(temp[row], cum_cal_time[row,col]/24)  # Cum_deg of total day - previous day degradation\n",
        "            \n",
        "            cum_cal_deg[row+1, col] = cum_cal_deg[row,col] + daily_cal_deg\n",
        "            cum_cycle_deg[row+1, col] = cum_cycle_deg[row,col] + daily_cycle_deg\n",
        "            discharge_energy[row+1, col] = discharge_energy[row,col] + disch_energy\n",
        "            \n",
        "            total_deg = daily_cycle_deg + daily_cal_deg\n",
        "            b_percent_cap[row+1,col]  = b_percent_cap[row,col] - total_deg\n",
        "\n",
        "                \n",
        "    return  cum_cycle_deg[-1,:], cum_cal_deg[-1,:], b_percent_cap, cum_charge_energy.flatten(), discharge_energy[-1,:]\n",
        "\n",
        "cum_cycle_deg, cum_cal_deg, b_percent_cap, cum_charge_energy, disch_energy = deg_drive_V2G(disch_rate, disch_power)\n",
        "cum_deg = cum_cycle_deg + cum_cal_deg\n",
        "\n",
        "df1 = pd.DataFrame({\n",
        "    'Discharge': disch_rate*100,\n",
        "    'Energy(kWh)': disch_energy,\n",
        "    'Cycle Deg(%)' : cum_cycle_deg,\n",
        "    'Calendar Deg(%)' : cum_cal_deg,\n",
        "    'Total_Deg(%)' : cum_deg\n",
        "})\n",
        "\n",
        "print(f\"Deg for {year} year\")\n",
        "df1\n"
      ],
      "execution_count": 68,
      "outputs": [
        {
          "output_type": "stream",
          "text": [
            "Deg for 8 year\n"
          ],
          "name": "stdout"
        },
        {
          "output_type": "execute_result",
          "data": {
            "text/html": [
              "<div>\n",
              "<style scoped>\n",
              "    .dataframe tbody tr th:only-of-type {\n",
              "        vertical-align: middle;\n",
              "    }\n",
              "\n",
              "    .dataframe tbody tr th {\n",
              "        vertical-align: top;\n",
              "    }\n",
              "\n",
              "    .dataframe thead th {\n",
              "        text-align: right;\n",
              "    }\n",
              "</style>\n",
              "<table border=\"1\" class=\"dataframe\">\n",
              "  <thead>\n",
              "    <tr style=\"text-align: right;\">\n",
              "      <th></th>\n",
              "      <th>Discharge</th>\n",
              "      <th>Energy(kWh)</th>\n",
              "      <th>Cycle Deg(%)</th>\n",
              "      <th>Calendar Deg(%)</th>\n",
              "      <th>Total_Deg(%)</th>\n",
              "    </tr>\n",
              "  </thead>\n",
              "  <tbody>\n",
              "    <tr>\n",
              "      <th>0</th>\n",
              "      <td>0.0</td>\n",
              "      <td>0.00</td>\n",
              "      <td>2.947146</td>\n",
              "      <td>8.167065</td>\n",
              "      <td>11.114211</td>\n",
              "    </tr>\n",
              "    <tr>\n",
              "      <th>1</th>\n",
              "      <td>10.0</td>\n",
              "      <td>11195.28</td>\n",
              "      <td>5.434482</td>\n",
              "      <td>7.873717</td>\n",
              "      <td>13.308199</td>\n",
              "    </tr>\n",
              "    <tr>\n",
              "      <th>2</th>\n",
              "      <td>20.0</td>\n",
              "      <td>22390.56</td>\n",
              "      <td>7.926651</td>\n",
              "      <td>7.570769</td>\n",
              "      <td>15.497420</td>\n",
              "    </tr>\n",
              "    <tr>\n",
              "      <th>3</th>\n",
              "      <td>30.0</td>\n",
              "      <td>33585.84</td>\n",
              "      <td>10.407891</td>\n",
              "      <td>7.254588</td>\n",
              "      <td>17.662479</td>\n",
              "    </tr>\n",
              "    <tr>\n",
              "      <th>4</th>\n",
              "      <td>40.0</td>\n",
              "      <td>44781.12</td>\n",
              "      <td>12.915049</td>\n",
              "      <td>6.925359</td>\n",
              "      <td>19.840409</td>\n",
              "    </tr>\n",
              "    <tr>\n",
              "      <th>5</th>\n",
              "      <td>50.0</td>\n",
              "      <td>55976.40</td>\n",
              "      <td>15.427644</td>\n",
              "      <td>6.578334</td>\n",
              "      <td>22.005977</td>\n",
              "    </tr>\n",
              "    <tr>\n",
              "      <th>6</th>\n",
              "      <td>60.0</td>\n",
              "      <td>67171.68</td>\n",
              "      <td>17.945825</td>\n",
              "      <td>6.211952</td>\n",
              "      <td>24.157776</td>\n",
              "    </tr>\n",
              "    <tr>\n",
              "      <th>7</th>\n",
              "      <td>70.0</td>\n",
              "      <td>78366.96</td>\n",
              "      <td>20.469787</td>\n",
              "      <td>5.822561</td>\n",
              "      <td>26.292347</td>\n",
              "    </tr>\n",
              "  </tbody>\n",
              "</table>\n",
              "</div>"
            ],
            "text/plain": [
              "   Discharge  Energy(kWh)  Cycle Deg(%)  Calendar Deg(%)  Total_Deg(%)\n",
              "0        0.0         0.00      2.947146         8.167065     11.114211\n",
              "1       10.0     11195.28      5.434482         7.873717     13.308199\n",
              "2       20.0     22390.56      7.926651         7.570769     15.497420\n",
              "3       30.0     33585.84     10.407891         7.254588     17.662479\n",
              "4       40.0     44781.12     12.915049         6.925359     19.840409\n",
              "5       50.0     55976.40     15.427644         6.578334     22.005977\n",
              "6       60.0     67171.68     17.945825         6.211952     24.157776\n",
              "7       70.0     78366.96     20.469787         5.822561     26.292347"
            ]
          },
          "metadata": {
            "tags": []
          },
          "execution_count": 68
        }
      ]
    },
    {
      "cell_type": "markdown",
      "metadata": {
        "id": "3nw5fxoZGVHI"
      },
      "source": [
        "## Deg cost for V2B+Drive System"
      ]
    },
    {
      "cell_type": "code",
      "metadata": {
        "colab": {
          "base_uri": "https://localhost:8080/",
          "height": 300
        },
        "id": "Oaur5-DpwOLD",
        "outputId": "0b029857-4a4d-4f43-a108-3758e9127da0"
      },
      "source": [
        "purchase_price_g2b = 7 #@param {type:\"slider\", min:3, max:8, step:1}\n",
        "sell_price_v2b = 6 #@param {type:\"slider\", min:3, max:8, step:1}\n",
        "purchase_price_g2v = 2 #@param {type:\"slider\", min:1, max:8, step:1}\n",
        "new_battery_price = 600000 #@param {type:\"slider\", min:200000, max:700000, step:50000}\n",
        "old_battery_price = 0.25 * new_battery_price \n",
        "#@markdown ---\n",
        "\n",
        "deg_cost = (cum_deg / 20) * (new_battery_price - old_battery_price)\n",
        "building_profit = (purchase_price_g2b - sell_price_v2b) * disch_energy\n",
        "ev_profit = disch_energy*sell_price_v2b - cum_charge_energy*purchase_price_g2v - deg_cost\n",
        "\n",
        "df2 = pd.DataFrame({\n",
        "    'Discharge': disch_rate*100,\n",
        "    'Energy(kWh)': disch_energy,\n",
        "    'Charge_energy(kWh)':cum_charge_energy,\n",
        "    'Total_Deg(%)' : cum_deg,\n",
        "    'Deg_cost_v2g' : deg_cost,\n",
        "    'Building_profit' : building_profit,\n",
        "    'EV_profit_v2g' : ev_profit\n",
        "})\n",
        "\n",
        "df2"
      ],
      "execution_count": 88,
      "outputs": [
        {
          "output_type": "execute_result",
          "data": {
            "text/html": [
              "<div>\n",
              "<style scoped>\n",
              "    .dataframe tbody tr th:only-of-type {\n",
              "        vertical-align: middle;\n",
              "    }\n",
              "\n",
              "    .dataframe tbody tr th {\n",
              "        vertical-align: top;\n",
              "    }\n",
              "\n",
              "    .dataframe thead th {\n",
              "        text-align: right;\n",
              "    }\n",
              "</style>\n",
              "<table border=\"1\" class=\"dataframe\">\n",
              "  <thead>\n",
              "    <tr style=\"text-align: right;\">\n",
              "      <th></th>\n",
              "      <th>Discharge</th>\n",
              "      <th>Energy(kWh)</th>\n",
              "      <th>Charge_energy(kWh)</th>\n",
              "      <th>Total_Deg(%)</th>\n",
              "      <th>Deg_cost_v2g</th>\n",
              "      <th>Building_profit</th>\n",
              "      <th>EV_profit_v2g</th>\n",
              "    </tr>\n",
              "  </thead>\n",
              "  <tbody>\n",
              "    <tr>\n",
              "      <th>0</th>\n",
              "      <td>0.0</td>\n",
              "      <td>0.00</td>\n",
              "      <td>22364.409952</td>\n",
              "      <td>11.114211</td>\n",
              "      <td>250069.743119</td>\n",
              "      <td>0.00</td>\n",
              "      <td>-294798.563024</td>\n",
              "    </tr>\n",
              "    <tr>\n",
              "      <th>1</th>\n",
              "      <td>10.0</td>\n",
              "      <td>11195.28</td>\n",
              "      <td>33582.689636</td>\n",
              "      <td>13.308199</td>\n",
              "      <td>299434.486871</td>\n",
              "      <td>11195.28</td>\n",
              "      <td>-299428.186142</td>\n",
              "    </tr>\n",
              "    <tr>\n",
              "      <th>2</th>\n",
              "      <td>20.0</td>\n",
              "      <td>22390.56</td>\n",
              "      <td>44778.191642</td>\n",
              "      <td>15.497420</td>\n",
              "      <td>348691.940302</td>\n",
              "      <td>22390.56</td>\n",
              "      <td>-303904.963586</td>\n",
              "    </tr>\n",
              "    <tr>\n",
              "      <th>3</th>\n",
              "      <td>30.0</td>\n",
              "      <td>33585.84</td>\n",
              "      <td>55976.355919</td>\n",
              "      <td>17.662479</td>\n",
              "      <td>397405.766775</td>\n",
              "      <td>33585.84</td>\n",
              "      <td>-307843.438612</td>\n",
              "    </tr>\n",
              "    <tr>\n",
              "      <th>4</th>\n",
              "      <td>40.0</td>\n",
              "      <td>44781.12</td>\n",
              "      <td>67171.680000</td>\n",
              "      <td>19.840409</td>\n",
              "      <td>446409.196345</td>\n",
              "      <td>44781.12</td>\n",
              "      <td>-312065.836345</td>\n",
              "    </tr>\n",
              "    <tr>\n",
              "      <th>5</th>\n",
              "      <td>50.0</td>\n",
              "      <td>55976.40</td>\n",
              "      <td>78366.960000</td>\n",
              "      <td>22.005977</td>\n",
              "      <td>495134.487283</td>\n",
              "      <td>55976.40</td>\n",
              "      <td>-316010.007283</td>\n",
              "    </tr>\n",
              "    <tr>\n",
              "      <th>6</th>\n",
              "      <td>60.0</td>\n",
              "      <td>67171.68</td>\n",
              "      <td>89562.240000</td>\n",
              "      <td>24.157776</td>\n",
              "      <td>543549.963767</td>\n",
              "      <td>67171.68</td>\n",
              "      <td>-319644.363767</td>\n",
              "    </tr>\n",
              "    <tr>\n",
              "      <th>7</th>\n",
              "      <td>70.0</td>\n",
              "      <td>78366.96</td>\n",
              "      <td>100757.520000</td>\n",
              "      <td>26.292347</td>\n",
              "      <td>591577.817396</td>\n",
              "      <td>78366.96</td>\n",
              "      <td>-322891.097396</td>\n",
              "    </tr>\n",
              "  </tbody>\n",
              "</table>\n",
              "</div>"
            ],
            "text/plain": [
              "   Discharge  Energy(kWh)  ...  Building_profit  EV_profit_v2g\n",
              "0        0.0         0.00  ...             0.00 -294798.563024\n",
              "1       10.0     11195.28  ...         11195.28 -299428.186142\n",
              "2       20.0     22390.56  ...         22390.56 -303904.963586\n",
              "3       30.0     33585.84  ...         33585.84 -307843.438612\n",
              "4       40.0     44781.12  ...         44781.12 -312065.836345\n",
              "5       50.0     55976.40  ...         55976.40 -316010.007283\n",
              "6       60.0     67171.68  ...         67171.68 -319644.363767\n",
              "7       70.0     78366.96  ...         78366.96 -322891.097396\n",
              "\n",
              "[8 rows x 7 columns]"
            ]
          },
          "metadata": {
            "tags": []
          },
          "execution_count": 88
        }
      ]
    },
    {
      "cell_type": "code",
      "metadata": {
        "id": "1NPZg4yaFx_k"
      },
      "source": [
        "# time = np.arange(year*days+1)\n",
        "# plt.plot(time, cum_deg[:,0], label = 'discharge = 50%', linewidth = 2)\n",
        "# plt.plot(time, cum_deg[:,1], label = 'discharge = 60%', linewidth = 2)\n",
        "# plt.plot(time, cum_deg[:,2], label = 'discharge = 70%', linewidth = 2)\n",
        "# plt.plot(time, cum_deg2, label = 'Drive', linewidth = 2)\n",
        "# plt.plot()\n",
        "\n",
        "# # plt.xticks(np.arange(0,year*days+1, 365), np.arange(1,year+2))\n",
        "# plt.xlabel('Years', fontsize = 15)\n",
        "# plt.ylabel(\"Capacity degradation(%)\", fontsize = 15)\n",
        "# plt.title(\"Battery degradation for 1 year with V2B and without V2B system\", fontsize = 15, fontweight = 'bold')\n",
        "# plt.legend()\n",
        "# plt.grid()\n",
        "# # plt.savefig(\"one_year_battery_deg.eps\",bbox_inches = \"tight\")\n",
        "# # files.download(\"one_year_battery_deg.eps\") \n",
        "# plt.show()"
      ],
      "execution_count": 89,
      "outputs": []
    },
    {
      "cell_type": "markdown",
      "metadata": {
        "id": "426DEMajSUVp"
      },
      "source": [
        "## Program for comparision of final profit of Drive+V2G and Only drive system"
      ]
    },
    {
      "cell_type": "markdown",
      "metadata": {
        "id": "WzqB7iwAZP1y"
      },
      "source": [
        "### **Degradation cost for Drive + Net profit calculation**"
      ]
    },
    {
      "cell_type": "code",
      "metadata": {
        "colab": {
          "base_uri": "https://localhost:8080/",
          "height": 352
        },
        "id": "9fp9ZGWsmKsD",
        "outputId": "907cc563-a626-4810-d7fe-31cbc1611008"
      },
      "source": [
        "deg_cost2 = (cum_deg2 / 20 ) * (new_battery_price - old_battery_price)\n",
        "ev_profit2 = - cum_charge_energy2 * purchase_price_g2v - deg_cost2\n",
        "\n",
        "print(\"total_deg :\", cum_deg2)\n",
        "print(\"total_deg_cost :\", deg_cost2)\n",
        "print(\"EV_profit :\", ev_profit2)\n",
        "\n",
        "### Profit for combined system\n",
        "df3 = pd.DataFrame({\n",
        "        'Discharge(%)': disch_rate*100,\n",
        "        'V2B_Energy(kWh)': disch_energy,\n",
        "        'Charge_energy(kWh)': cum_charge_energy,\n",
        "        'total_deg(%)': cum_deg,\n",
        "        'With_V2G_loss':ev_profit,\n",
        "        'Charge_energy2(kWh)': cum_charge_energy2,\n",
        "        'Without_V2G_loss': ev_profit2,\n",
        "        'Net_profit' : ev_profit - ev_profit2\n",
        "    })\n",
        "df3"
      ],
      "execution_count": 105,
      "outputs": [
        {
          "output_type": "stream",
          "text": [
            "total_deg : 11.114210805298786\n",
            "total_deg_cost : 250069.74311922266\n",
            "EV_profit : -294798.5630240086\n"
          ],
          "name": "stdout"
        },
        {
          "output_type": "execute_result",
          "data": {
            "text/html": [
              "<div>\n",
              "<style scoped>\n",
              "    .dataframe tbody tr th:only-of-type {\n",
              "        vertical-align: middle;\n",
              "    }\n",
              "\n",
              "    .dataframe tbody tr th {\n",
              "        vertical-align: top;\n",
              "    }\n",
              "\n",
              "    .dataframe thead th {\n",
              "        text-align: right;\n",
              "    }\n",
              "</style>\n",
              "<table border=\"1\" class=\"dataframe\">\n",
              "  <thead>\n",
              "    <tr style=\"text-align: right;\">\n",
              "      <th></th>\n",
              "      <th>Discharge(%)</th>\n",
              "      <th>V2B_Energy(kWh)</th>\n",
              "      <th>Charge_energy(kWh)</th>\n",
              "      <th>total_deg(%)</th>\n",
              "      <th>With_V2G_loss</th>\n",
              "      <th>Charge_energy2(kWh)</th>\n",
              "      <th>Without_V2G_loss</th>\n",
              "      <th>Net_profit</th>\n",
              "    </tr>\n",
              "  </thead>\n",
              "  <tbody>\n",
              "    <tr>\n",
              "      <th>0</th>\n",
              "      <td>0.0</td>\n",
              "      <td>0.00</td>\n",
              "      <td>22364.409952</td>\n",
              "      <td>11.114211</td>\n",
              "      <td>-294798.563024</td>\n",
              "      <td>22364.409952</td>\n",
              "      <td>-294798.563024</td>\n",
              "      <td>0.000000</td>\n",
              "    </tr>\n",
              "    <tr>\n",
              "      <th>1</th>\n",
              "      <td>10.0</td>\n",
              "      <td>11195.28</td>\n",
              "      <td>33582.689636</td>\n",
              "      <td>13.308199</td>\n",
              "      <td>-299428.186142</td>\n",
              "      <td>22364.409952</td>\n",
              "      <td>-294798.563024</td>\n",
              "      <td>-4629.623118</td>\n",
              "    </tr>\n",
              "    <tr>\n",
              "      <th>2</th>\n",
              "      <td>20.0</td>\n",
              "      <td>22390.56</td>\n",
              "      <td>44778.191642</td>\n",
              "      <td>15.497420</td>\n",
              "      <td>-303904.963586</td>\n",
              "      <td>22364.409952</td>\n",
              "      <td>-294798.563024</td>\n",
              "      <td>-9106.400562</td>\n",
              "    </tr>\n",
              "    <tr>\n",
              "      <th>3</th>\n",
              "      <td>30.0</td>\n",
              "      <td>33585.84</td>\n",
              "      <td>55976.355919</td>\n",
              "      <td>17.662479</td>\n",
              "      <td>-307843.438612</td>\n",
              "      <td>22364.409952</td>\n",
              "      <td>-294798.563024</td>\n",
              "      <td>-13044.875588</td>\n",
              "    </tr>\n",
              "    <tr>\n",
              "      <th>4</th>\n",
              "      <td>40.0</td>\n",
              "      <td>44781.12</td>\n",
              "      <td>67171.680000</td>\n",
              "      <td>19.840409</td>\n",
              "      <td>-312065.836345</td>\n",
              "      <td>22364.409952</td>\n",
              "      <td>-294798.563024</td>\n",
              "      <td>-17267.273321</td>\n",
              "    </tr>\n",
              "    <tr>\n",
              "      <th>5</th>\n",
              "      <td>50.0</td>\n",
              "      <td>55976.40</td>\n",
              "      <td>78366.960000</td>\n",
              "      <td>22.005977</td>\n",
              "      <td>-316010.007283</td>\n",
              "      <td>22364.409952</td>\n",
              "      <td>-294798.563024</td>\n",
              "      <td>-21211.444259</td>\n",
              "    </tr>\n",
              "    <tr>\n",
              "      <th>6</th>\n",
              "      <td>60.0</td>\n",
              "      <td>67171.68</td>\n",
              "      <td>89562.240000</td>\n",
              "      <td>24.157776</td>\n",
              "      <td>-319644.363767</td>\n",
              "      <td>22364.409952</td>\n",
              "      <td>-294798.563024</td>\n",
              "      <td>-24845.800743</td>\n",
              "    </tr>\n",
              "    <tr>\n",
              "      <th>7</th>\n",
              "      <td>70.0</td>\n",
              "      <td>78366.96</td>\n",
              "      <td>100757.520000</td>\n",
              "      <td>26.292347</td>\n",
              "      <td>-322891.097396</td>\n",
              "      <td>22364.409952</td>\n",
              "      <td>-294798.563024</td>\n",
              "      <td>-28092.534372</td>\n",
              "    </tr>\n",
              "  </tbody>\n",
              "</table>\n",
              "</div>"
            ],
            "text/plain": [
              "   Discharge(%)  V2B_Energy(kWh)  ...  Without_V2G_loss    Net_profit\n",
              "0           0.0             0.00  ...    -294798.563024      0.000000\n",
              "1          10.0         11195.28  ...    -294798.563024  -4629.623118\n",
              "2          20.0         22390.56  ...    -294798.563024  -9106.400562\n",
              "3          30.0         33585.84  ...    -294798.563024 -13044.875588\n",
              "4          40.0         44781.12  ...    -294798.563024 -17267.273321\n",
              "5          50.0         55976.40  ...    -294798.563024 -21211.444259\n",
              "6          60.0         67171.68  ...    -294798.563024 -24845.800743\n",
              "7          70.0         78366.96  ...    -294798.563024 -28092.534372\n",
              "\n",
              "[8 rows x 8 columns]"
            ]
          },
          "metadata": {
            "tags": []
          },
          "execution_count": 105
        }
      ]
    },
    {
      "cell_type": "markdown",
      "metadata": {
        "id": "DI_UKYex5LHg"
      },
      "source": [
        "### <font color = 'red'> Cost analysis suggested by Pradeep sir </font>"
      ]
    },
    {
      "cell_type": "code",
      "metadata": {
        "colab": {
          "base_uri": "https://localhost:8080/",
          "height": 318
        },
        "id": "RtVVnhiG5P7j",
        "outputId": "951697eb-1dc6-47e6-cb83-467e53efbb1a"
      },
      "source": [
        "## Without V2B operation\n",
        "a3 = (cum_deg2 / 20 ) * (new_battery_price - old_battery_price) # Deg due to EV only\n",
        "b3 = cum_charge_energy2 * purchase_price_g2v # Cost of purchase power from the grid\n",
        "\n",
        "## With V2B operation\n",
        "a4 =  (cum_deg / 20 ) * (new_battery_price - old_battery_price) # Degradation due to EV + V2B operation\n",
        "b4 =  cum_charge_energy * purchase_price_g2v # Cost of the purchase power from the grid\n",
        "c4 =  sell_price_v2b * disch_energy # Revenue from the building\n",
        "d4 =  (b4-b3)+(a4-a3) # Total addition cost\n",
        "final_ans =  (c4-d4) # Final ans(find max of 4c-4d)\n",
        "\n",
        "df5 = pd.DataFrame({\n",
        "    'discharge(%)' : disch_rate*100,\n",
        "    'final_ans' : final_ans\n",
        "})\n",
        "\n",
        "print(f\"Deg for {year} year\")\n",
        "df5"
      ],
      "execution_count": 106,
      "outputs": [
        {
          "output_type": "stream",
          "text": [
            "Deg for 8 year\n"
          ],
          "name": "stdout"
        },
        {
          "output_type": "execute_result",
          "data": {
            "text/html": [
              "<div>\n",
              "<style scoped>\n",
              "    .dataframe tbody tr th:only-of-type {\n",
              "        vertical-align: middle;\n",
              "    }\n",
              "\n",
              "    .dataframe tbody tr th {\n",
              "        vertical-align: top;\n",
              "    }\n",
              "\n",
              "    .dataframe thead th {\n",
              "        text-align: right;\n",
              "    }\n",
              "</style>\n",
              "<table border=\"1\" class=\"dataframe\">\n",
              "  <thead>\n",
              "    <tr style=\"text-align: right;\">\n",
              "      <th></th>\n",
              "      <th>discharge(%)</th>\n",
              "      <th>final_ans</th>\n",
              "    </tr>\n",
              "  </thead>\n",
              "  <tbody>\n",
              "    <tr>\n",
              "      <th>0</th>\n",
              "      <td>0.0</td>\n",
              "      <td>0.000000</td>\n",
              "    </tr>\n",
              "    <tr>\n",
              "      <th>1</th>\n",
              "      <td>10.0</td>\n",
              "      <td>-4629.623118</td>\n",
              "    </tr>\n",
              "    <tr>\n",
              "      <th>2</th>\n",
              "      <td>20.0</td>\n",
              "      <td>-9106.400562</td>\n",
              "    </tr>\n",
              "    <tr>\n",
              "      <th>3</th>\n",
              "      <td>30.0</td>\n",
              "      <td>-13044.875588</td>\n",
              "    </tr>\n",
              "    <tr>\n",
              "      <th>4</th>\n",
              "      <td>40.0</td>\n",
              "      <td>-17267.273321</td>\n",
              "    </tr>\n",
              "    <tr>\n",
              "      <th>5</th>\n",
              "      <td>50.0</td>\n",
              "      <td>-21211.444259</td>\n",
              "    </tr>\n",
              "    <tr>\n",
              "      <th>6</th>\n",
              "      <td>60.0</td>\n",
              "      <td>-24845.800743</td>\n",
              "    </tr>\n",
              "    <tr>\n",
              "      <th>7</th>\n",
              "      <td>70.0</td>\n",
              "      <td>-28092.534372</td>\n",
              "    </tr>\n",
              "  </tbody>\n",
              "</table>\n",
              "</div>"
            ],
            "text/plain": [
              "   discharge(%)     final_ans\n",
              "0           0.0      0.000000\n",
              "1          10.0  -4629.623118\n",
              "2          20.0  -9106.400562\n",
              "3          30.0 -13044.875588\n",
              "4          40.0 -17267.273321\n",
              "5          50.0 -21211.444259\n",
              "6          60.0 -24845.800743\n",
              "7          70.0 -28092.534372"
            ]
          },
          "metadata": {
            "tags": []
          },
          "execution_count": 106
        }
      ]
    },
    {
      "cell_type": "code",
      "metadata": {
        "id": "0gMKwYpMc3Do"
      },
      "source": [
        "def annot_max(x,y, ax=None):\n",
        "    xmax = x[np.argmax(y)]\n",
        "    ymax = y.max()\n",
        "    text= \"x={:.3f}, y={:.3f}\".format(xmax, ymax)\n",
        "    if not ax:\n",
        "        ax=plt.gca()\n",
        "    bbox_props = dict(boxstyle=\"square,pad=0.3\", fc=\"w\", ec=\"k\", lw=0.72)\n",
        "    arrowprops=dict(arrowstyle=\"->\",connectionstyle=\"angle,angleA=0,angleB=60\")\n",
        "    kw = dict(xycoords='data',textcoords=\"axes fraction\",\n",
        "              arrowprops=arrowprops, bbox=bbox_props, ha=\"right\", va=\"top\")\n",
        "    ax.annotate(text, xy=(xmax, ymax), xytext=(0.94,0.96), **kw)"
      ],
      "execution_count": 64,
      "outputs": []
    },
    {
      "cell_type": "code",
      "metadata": {
        "colab": {
          "base_uri": "https://localhost:8080/",
          "height": 934
        },
        "id": "4Snnk2LInf2F",
        "outputId": "13d7e40f-22d7-42e7-977e-5bd63c0908d3"
      },
      "source": [
        "purchase_prices_g2v = np.arange(1,7)\n",
        "c_delta = []\n",
        "max_profit = []\n",
        "threshold_dod = []\n",
        "\n",
        "for purchase_price_g2v in purchase_prices_g2v:\n",
        "\n",
        "    deg_cost = (cum_deg[-1] / 20 ) * (new_battery_price - old_battery_price)\n",
        "    building_profit = (purchase_price_g2b - sell_price_v2b) * disch_energy[-1]\n",
        "    ev_profit = disch_energy[-1] * (sell_price_v2b - purchase_price_g2v) - deg_cost\n",
        "\n",
        "    deg_cost2 = (cum_deg2[-1] / 20 ) * (new_battery_price - old_battery_price)\n",
        "    ev_profit2 = - cum_charge_energy2 * purchase_price_g2v - deg_cost2\n",
        "\n",
        "    delta_price = sell_price_v2b - purchase_price_g2v \n",
        "    df3 = pd.DataFrame({\n",
        "        'Discharge': disch_rate*100,\n",
        "        'V2B_Energy': disch_energy,\n",
        "        'With_V2G_loss':ev_profit,\n",
        "        'Without_V2G_loss': ev_profit2,\n",
        "        'Net_profit' : ev_profit - ev_profit2\n",
        "    })\n",
        "\n",
        "    cost = sell_price_v2b - purchase_price_g2v\n",
        "    c_delta.append(cost)\n",
        "    max_profit.append(df3.Net_profit.max())\n",
        "    # opti_dod = df3[df3.Net_profit == df3.Net_profit.max()]['Discharge'].values[0]\n",
        "    opti_dod = df3[df3.Net_profit > 0].Discharge.values\n",
        "    threshold_dod.append(opti_dod)\n",
        "\n",
        "    plt.plot(df3.Discharge.values, df3.Net_profit.values, label = '$\\Delta_C$ = '+str(cost), linewidth = 2)\n",
        "    # annot_max(df3.Discharge.values, df3.Net_profit.values)\n",
        "    \n",
        "plt.xlabel('Discharge rate(%)', fontsize = 15)\n",
        "plt.ylabel(\"Net profit of EV owner(Rs)\", fontsize = 15)\n",
        "plt.title(\"Profit vs Discharge rate curve\", fontweight = 'bold', fontsize = '18')\n",
        "plt.grid()\n",
        "plt.legend(loc = 'lower left')\n",
        "# plt.savefig(\"optimal_d_rate.jpg\",bbox_inches = \"tight\")\n",
        "# files.download(\"optimal_d_rate.jpg\") \n",
        "plt.show()\n",
        "# print(f\"year = {year}\")\n",
        "# print(\"delta_price =\", delta_price)\n",
        "\n",
        "pd.DataFrame({\n",
        "    'delta_C': c_delta,\n",
        "    \"max_profit\": max_profit,\n",
        "    'threshold_DoD': threshold_dod\n",
        "})"
      ],
      "execution_count": 65,
      "outputs": [
        {
          "output_type": "stream",
          "text": [
            "<input>:31: DeprecationWarning: invalid escape sequence \\D\n",
            "<input>:31: DeprecationWarning: invalid escape sequence \\D\n",
            "<input>:31: DeprecationWarning: invalid escape sequence \\D\n",
            "<input>:31: DeprecationWarning: invalid escape sequence \\D\n",
            "<input>:31: DeprecationWarning: invalid escape sequence \\D\n",
            "<input>:31: DeprecationWarning: invalid escape sequence \\D\n",
            "<input>:31: DeprecationWarning: invalid escape sequence \\D\n",
            "<input>:31: DeprecationWarning: invalid escape sequence \\D\n",
            "<input>:31: DeprecationWarning: invalid escape sequence \\D\n",
            "<input>:31: DeprecationWarning: invalid escape sequence \\D\n",
            "<input>:31: DeprecationWarning: invalid escape sequence \\D\n",
            "<input>:31: DeprecationWarning: invalid escape sequence \\D\n",
            "<input>:31: DeprecationWarning: invalid escape sequence \\D\n",
            "<input>:31: DeprecationWarning: invalid escape sequence \\D\n",
            "<input>:31: DeprecationWarning: invalid escape sequence \\D\n",
            "<ipython-input-65-0c703ea8d42e>:31: DeprecationWarning: invalid escape sequence \\D\n",
            "  plt.plot(df3.Discharge.values, df3.Net_profit.values, label = '$\\Delta_C$ = '+str(cost), linewidth = 2)\n"
          ],
          "name": "stderr"
        },
        {
          "output_type": "display_data",
          "data": {
            "image/png": "[encoded data removed]",
            "text/plain": [
              "<Figure size 720x432 with 1 Axes>"
            ]
          },
          "metadata": {
            "tags": []
          }
        },
        {
          "output_type": "execute_result",
          "data": {
            "text/html": [
              "<div>\n",
              "<style scoped>\n",
              "    .dataframe tbody tr th:only-of-type {\n",
              "        vertical-align: middle;\n",
              "    }\n",
              "\n",
              "    .dataframe tbody tr th {\n",
              "        vertical-align: top;\n",
              "    }\n",
              "\n",
              "    .dataframe thead th {\n",
              "        text-align: right;\n",
              "    }\n",
              "</style>\n",
              "<table border=\"1\" class=\"dataframe\">\n",
              "  <thead>\n",
              "    <tr style=\"text-align: right;\">\n",
              "      <th></th>\n",
              "      <th>delta_C</th>\n",
              "      <th>max_profit</th>\n",
              "      <th>threshold_DoD</th>\n",
              "    </tr>\n",
              "  </thead>\n",
              "  <tbody>\n",
              "    <tr>\n",
              "      <th>0</th>\n",
              "      <td>5</td>\n",
              "      <td>72691.135676</td>\n",
              "      <td>[0.0, 10.0, 20.0, 30.000000000000004, 40.0, 50...</td>\n",
              "    </tr>\n",
              "    <tr>\n",
              "      <th>1</th>\n",
              "      <td>4</td>\n",
              "      <td>16688.585628</td>\n",
              "      <td>[0.0, 10.0, 20.0, 30.000000000000004, 40.0, 50...</td>\n",
              "    </tr>\n",
              "    <tr>\n",
              "      <th>2</th>\n",
              "      <td>3</td>\n",
              "      <td>-39313.964419</td>\n",
              "      <td>[]</td>\n",
              "    </tr>\n",
              "    <tr>\n",
              "      <th>3</th>\n",
              "      <td>2</td>\n",
              "      <td>-95316.514467</td>\n",
              "      <td>[]</td>\n",
              "    </tr>\n",
              "    <tr>\n",
              "      <th>4</th>\n",
              "      <td>1</td>\n",
              "      <td>-151319.064514</td>\n",
              "      <td>[]</td>\n",
              "    </tr>\n",
              "    <tr>\n",
              "      <th>5</th>\n",
              "      <td>0</td>\n",
              "      <td>-207321.614562</td>\n",
              "      <td>[]</td>\n",
              "    </tr>\n",
              "  </tbody>\n",
              "</table>\n",
              "</div>"
            ],
            "text/plain": [
              "   delta_C     max_profit                                      threshold_DoD\n",
              "0        5   72691.135676  [0.0, 10.0, 20.0, 30.000000000000004, 40.0, 50...\n",
              "1        4   16688.585628  [0.0, 10.0, 20.0, 30.000000000000004, 40.0, 50...\n",
              "2        3  -39313.964419                                                 []\n",
              "3        2  -95316.514467                                                 []\n",
              "4        1 -151319.064514                                                 []\n",
              "5        0 -207321.614562                                                 []"
            ]
          },
          "metadata": {
            "tags": []
          },
          "execution_count": 65
        }
      ]
    },
    {
      "cell_type": "code",
      "metadata": {
        "id": "2uSEyzFv1Lnb"
      },
      "source": [
        "fix,ax1 = plt.subplots()\n",
        "ax2 = ax1.twinx()\n",
        "\n",
        "time = list(range(0,year*days+1))\n",
        "ax1.plot(time, b_percent_cap2,label = \"Battery capacity(%)\", linewidth = 2, color = 'blue')\n",
        "ax1.set_xlabel(\"Days\", fontsize = 15)\n",
        "ax1.set_ylabel(\"Battery Capacity(%)\",color = \"blue\", fontsize = 15)\n",
        "ax1.grid(color = \"#978ee8\") # Blue\n",
        "\n",
        "ax2.plot(time, cum_deg2, label = \"total deg\", linewidth = 2, color = 'red')\n",
        "ax2.set_ylabel(\"Battery Degradation(%)\",color = \"red\", fontsize = 15)\n",
        "ax2.grid(color = '#e8948e') # red\n",
        "\n",
        "plt.title(\"Battery Degradation for only driving\", fontsize = 14, fontweight= \"bold\");"
      ],
      "execution_count": null,
      "outputs": []
    },
    {
      "cell_type": "markdown",
      "metadata": {
        "id": "JnXhqjqM8i1I"
      },
      "source": [
        "### Degradation Plot"
      ]
    },
    {
      "cell_type": "code",
      "metadata": {
        "id": "X8xJgDlK8iMH"
      },
      "source": [
        "plt.figure(figsize=(10,6))\n",
        "\n",
        "time = list(range(0,year*days+1))\n",
        "plt.plot(time, b_percent_cap,label = \"V2G+Drive(60%)\", linewidth = 3)\n",
        "plt.plot(time, b_percent_cap2,label = \"Drive\", linewidth = 3)\n",
        "\n",
        "plt.xlabel(\"Days\", fontsize = 15)\n",
        "plt.ylabel(\"Battery Capacity(%)\", fontsize = 15)\n",
        "plt.title(\"Battery Degradation for Driving and V2G+Drive case(8 Years)\", fontsize = 14, fontweight= \"bold\");\n",
        "plt.grid()\n",
        "plt.legend()\n",
        "plt.savefig(\"deg_soc.eps\",bbox_inches = \"tight\")\n",
        "# files.download(\"deg_soc.eps\") \n",
        "plt.show()"
      ],
      "execution_count": null,
      "outputs": []
    },
    {
      "cell_type": "code",
      "metadata": {
        "id": "Z6_JPc1h8lAw"
      },
      "source": [
        "plt.figure(figsize=(10,6))\n",
        "time = list(range(0,year*days+1))\n",
        "plt.plot(time, cum_deg, label = \"V2G+Drive(60%)\", linewidth = 3)\n",
        "plt.plot(time, cum_deg2,label = \"Drive\", linewidth = 3)\n",
        "\n",
        "plt.xlabel(\"Days\", fontsize = 15)\n",
        "plt.ylabel(\"Battery Degradation(%)\", fontsize = 15)\n",
        "plt.title(\"Battery Degradation for Driving and V2G+Drive case\", fontsize = 14, fontweight= \"bold\");\n",
        "plt.grid()\n",
        "plt.legend()\n",
        "plt.savefig(\"deg2.png\",bbox_inches = \"tight\")\n",
        "# files.download(\"deg2.png\") \n",
        "plt.show()"
      ],
      "execution_count": null,
      "outputs": []
    },
    {
      "cell_type": "code",
      "metadata": {
        "id": "N_XtKoKPPOOX"
      },
      "source": [
        ""
      ],
      "execution_count": null,
      "outputs": []
    },
    {
      "cell_type": "code",
      "metadata": {
        "id": "huNJIb9B_cY9"
      },
      "source": [
        "# # Consider every month of 30 days\n",
        "# months = 'Jan Feb Mar Apr May Jun Jul Aug Sep Oct Nov Dec'.split()\n",
        "# monthly_deg = []\n",
        "# monthly_energy = []\n",
        "# start,end = 0,30\n",
        "# for i in range(len(months)):\n",
        "#     monthly_deg.append(sum(daily_deg[start:end]))\n",
        "#     monthly_energy.append(sum(charge_energy2[start:end]))\n",
        "#     start += 30\n",
        "#     end += 30"
      ],
      "execution_count": null,
      "outputs": []
    },
    {
      "cell_type": "code",
      "metadata": {
        "id": "qXc9ZzUNxq3w"
      },
      "source": [
        "# xvals = months\n",
        "# yvals = monthly_deg\n",
        "# xlab = 'Months'\n",
        "# ylab = 'Degradation in %'\n",
        "# title = \"Monthly degradation of single EV battery\"\n",
        "\n",
        "# plt.rc('xtick',labelsize = 15)\n",
        "# plt.rc('ytick',labelsize = 15)\n",
        "# plt.figure(figsize = (20,10), facecolor = 'white')\n",
        "    \n",
        "# plt.bar(xvals, yvals, color='blue')\n",
        "# plt.xlabel(xlab, fontsize = 15)\n",
        "# plt.ylabel(ylab, fontsize = 15)\n",
        "# plt.title(title, fontsize = 22, fontweight = 'bold')\n",
        "# plt.grid()\n",
        "# name = 'monthly_deg'\n",
        "# plt.savefig(name,bbox_inches = 'tight',orientation = 'portrait')\n",
        "# files.download(name + '.png')\n",
        "# files.download(name) \n",
        "# plt.legend()"
      ],
      "execution_count": null,
      "outputs": []
    },
    {
      "cell_type": "markdown",
      "metadata": {
        "id": "8Ewh0IyxN3VN"
      },
      "source": [
        "Monthly avg temperature graph"
      ]
    },
    {
      "cell_type": "code",
      "metadata": {
        "id": "8MBlm-_LN7uM"
      },
      "source": [
        "# monthly_avg_temp = []\n",
        "# start,end = 0,30\n",
        "# for i in range(12):\n",
        "#     monthly_avg_temp.append(np.mean(temp[start:end]))\n",
        "#     start += 30\n",
        "#     end += 30\n",
        "\n",
        "\n",
        "# xvals = months\n",
        "# yvals = monthly_avg_temp\n",
        "# xlab = 'Months'\n",
        "# ylab = 'Temperature{K}'\n",
        "# title = \"Monthly average temperature profile of battery\"\n",
        "\n",
        "# plt.rc('xtick',labelsize = 15)\n",
        "# plt.rc('ytick',labelsize = 15)\n",
        "# plt.figure(figsize = (20,10), facecolor = 'white')\n",
        "    \n",
        "# plt.bar(xvals, yvals, color='b')\n",
        "# plt.xlabel(xlab, fontsize = 15)\n",
        "# plt.ylabel(ylab, fontsize = 15)\n",
        "# plt.title(title, fontsize = 22, fontweight = 'bold')\n",
        "# plt.grid()\n",
        "# name = 'monthly_temp_battery'\n",
        "# plt.savefig(name,bbox_inches = 'tight',orientation = 'portrait')\n",
        "# files.download(name + '.png')\n",
        "# plt.legend()"
      ],
      "execution_count": null,
      "outputs": []
    },
    {
      "cell_type": "markdown",
      "metadata": {
        "id": "amzThGpDDUo2"
      },
      "source": [
        "#### Just to check temperature effect on battery"
      ]
    },
    {
      "cell_type": "code",
      "metadata": {
        "id": "Cv1ysCtrDZIp"
      },
      "source": [
        "# temps = np.arange(25,45) + 273\n",
        "# vals = cycle_deg(cycle_const, temps, 20, 0.5, 60)\n",
        "# plt.plot(temps,vals);"
      ],
      "execution_count": null,
      "outputs": []
    },
    {
      "cell_type": "code",
      "metadata": {
        "id": "_xO0MKiJItYJ"
      },
      "source": [
        "# xvals = months\n",
        "# yvals = monthly_energy\n",
        "# xlab = 'Months'\n",
        "# ylab = 'Energy(kWh)'\n",
        "# title = \"Monthly energy supplied to building by single EV\"\n",
        "\n",
        "# plt.rc('xtick',labelsize = 15)\n",
        "# plt.rc('ytick',labelsize = 15)\n",
        "# plt.figure(figsize = (20,10), facecolor = 'white')\n",
        "    \n",
        "# plt.bar(xvals, yvals, color='b')\n",
        "# # plt.xlabel(xlab, fontsize = 15)\n",
        "# plt.ylabel(ylab, fontsize = 15)\n",
        "# plt.title(title, fontsize = 22, fontweight = 'bold')\n",
        "# plt.grid()\n",
        "# name = 'monthly_energy1'\n",
        "# plt.savefig(name,bbox_inches = 'tight',orientation = 'portrait')\n",
        "# files.download(name + '.png')\n",
        "# files.download(name) \n",
        "# plt.legend()"
      ],
      "execution_count": null,
      "outputs": []
    },
    {
      "cell_type": "code",
      "metadata": {
        "id": "EzXDL3DXN6Bp"
      },
      "source": [
        ""
      ],
      "execution_count": null,
      "outputs": []
    },
    {
      "cell_type": "markdown",
      "metadata": {
        "id": "MKKTl85VKEN4"
      },
      "source": [
        "<mark> Marked text </mark>\n",
        "\n",
        "Also add one feature like if difference between any two consecutive time < 15 min then don't stop vehicle to discharge and allow it to discharge.."
      ]
    },
    {
      "cell_type": "code",
      "metadata": {
        "id": "9K1E-fzXAHO6"
      },
      "source": [
        "# start = []\n",
        "# end = []\n",
        "# start.append(power_locs[0])\n",
        "# for i in range(len(power_locs)-1):\n",
        "#     # if power[i] > lower:\n",
        "#     if power_locs[i+1] - power_locs[i] != 1:\n",
        "#         start.append(power_locs[i+1])\n",
        "#         end.append(power_locs[i] + 1)\n",
        "#         isit = True\n",
        "# end.append(start[-1]+1)\n",
        "\n",
        "# # Total time calculation\n",
        "# total_disch_time = 0\n",
        "# for x,y in zip(start,end):\n",
        "#     total_disch_time += 5 * (y-x)\n",
        "# disch_time = total_disch_time / 60\n",
        "\n",
        "# # Start and end time string formation(Findout efficient way of doint this)\n",
        "# # start_time < end_time checking complete\n",
        "# start_time = []\n",
        "# end_time = []\n",
        "# for i,j in zip(start,end):\n",
        "#     start_time.append(str(vehicle_df.iloc[i]['Time']))\n",
        "#     end_time.append(str(vehicle_df.iloc[j]['Time']))\n",
        "# print(\"total discharge time(h) =\",disch_time)"
      ],
      "execution_count": null,
      "outputs": []
    },
    {
      "cell_type": "code",
      "metadata": {
        "id": "ugkVEKdHVlMb"
      },
      "source": [
        ""
      ],
      "execution_count": null,
      "outputs": []
    },
    {
      "cell_type": "code",
      "metadata": {
        "id": "v8Jn2iI-7muB"
      },
      "source": [
        "# print(\"Start_time\",start_time)\n",
        "# print(\"end_time =\",end_time)"
      ],
      "execution_count": null,
      "outputs": []
    },
    {
      "cell_type": "markdown",
      "metadata": {
        "id": "5RA_tqfEwSgG"
      },
      "source": [
        "# Part 2 Peak Load Shaving"
      ]
    },
    {
      "cell_type": "markdown",
      "metadata": {
        "id": "t_4JXanuwsMk"
      },
      "source": [
        "### Peak Load Locations"
      ]
    },
    {
      "cell_type": "code",
      "metadata": {
        "id": "iVUwSgVqoJlO"
      },
      "source": [
        ""
      ],
      "execution_count": null,
      "outputs": []
    }
  ]
}