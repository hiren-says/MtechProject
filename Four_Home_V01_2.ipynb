{
  "nbformat": 4,
  "nbformat_minor": 0,
  "metadata": {
    "colab": {
      "name": "Four_Home V01.ipynb",
      "provenance": [],
      "collapsed_sections": []
    },
    "kernelspec": {
      "name": "python3",
      "display_name": "Python 3"
    }
  },
  "cells": [
    {
      "cell_type": "code",
      "metadata": {
        "id": "Ww858z2xScLc"
      },
      "source": [
        "import numpy as np\n",
        "import pandas as pd\n",
        "import matplotlib.pyplot as plt\n",
        "import seaborn as sns\n",
        "import matplotlib\n",
        "from google.colab import files\n",
        "import warnings\n",
        "warnings.filterwarnings(action = 'once')\n",
        "\n",
        "%matplotlib inline\n",
        "\n",
        "matplotlib.rcParams['figure.facecolor'] = 'white'\n",
        "matplotlib.rcParams['figure.figsize'] = (10,6)\n",
        "matplotlib.rcParams['figure.titleweight'] = 'bold'"
      ],
      "execution_count": null,
      "outputs": []
    },
    {
      "cell_type": "code",
      "metadata": {
        "colab": {
          "base_uri": "https://localhost:8080/"
        },
        "id": "JzMLf12TSdeo",
        "outputId": "914ce07c-4dfb-4d0f-cd4d-ac686b1994cb"
      },
      "source": [
        "from google.colab import drive\r\n",
        "drive.mount('content/', force_remount=True)"
      ],
      "execution_count": null,
      "outputs": [
        {
          "output_type": "stream",
          "text": [
            "Mounted at content/\n"
          ],
          "name": "stdout"
        }
      ]
    },
    {
      "cell_type": "code",
      "metadata": {
        "id": "JvMGMPLLSxAC"
      },
      "source": [
        "energy_data_path = '/content/content/MyDrive/Project 2020-21/Car data/Paper Data/Four_homes.csv'\r\n",
        "price_data_path = '/content/content/MyDrive/Project 2020-21/Car data/Paper Data/price_data.xlsx'\r\n",
        "\r\n",
        "# pow_df = pd.read_excel('Four_homes.xlsx')\r\n",
        "pow_df = pd.read_csv(energy_data_path)\r\n",
        "price_df = pd.read_excel(price_data_path, sheet_name='cost in rupess')"
      ],
      "execution_count": null,
      "outputs": []
    },
    {
      "cell_type": "code",
      "metadata": {
        "id": "JVEgYsuTTqyH",
        "colab": {
          "base_uri": "https://localhost:8080/",
          "height": 206
        },
        "outputId": "16b7051b-21b5-4816-d561-5119c0f17d3e"
      },
      "source": [
        "pow_df.head()"
      ],
      "execution_count": null,
      "outputs": [
        {
          "output_type": "execute_result",
          "data": {
            "text/html": [
              "<div>\n",
              "<style scoped>\n",
              "    .dataframe tbody tr th:only-of-type {\n",
              "        vertical-align: middle;\n",
              "    }\n",
              "\n",
              "    .dataframe tbody tr th {\n",
              "        vertical-align: top;\n",
              "    }\n",
              "\n",
              "    .dataframe thead th {\n",
              "        text-align: right;\n",
              "    }\n",
              "</style>\n",
              "<table border=\"1\" class=\"dataframe\">\n",
              "  <thead>\n",
              "    <tr style=\"text-align: right;\">\n",
              "      <th></th>\n",
              "      <th>H1</th>\n",
              "      <th>H2</th>\n",
              "      <th>H3</th>\n",
              "      <th>H4</th>\n",
              "    </tr>\n",
              "  </thead>\n",
              "  <tbody>\n",
              "    <tr>\n",
              "      <th>0</th>\n",
              "      <td>1.137333</td>\n",
              "      <td>2.455300</td>\n",
              "      <td>0.159450</td>\n",
              "      <td>3.848300</td>\n",
              "    </tr>\n",
              "    <tr>\n",
              "      <th>1</th>\n",
              "      <td>1.109450</td>\n",
              "      <td>3.859267</td>\n",
              "      <td>0.163283</td>\n",
              "      <td>3.776800</td>\n",
              "    </tr>\n",
              "    <tr>\n",
              "      <th>2</th>\n",
              "      <td>0.925433</td>\n",
              "      <td>2.700883</td>\n",
              "      <td>0.181067</td>\n",
              "      <td>1.688600</td>\n",
              "    </tr>\n",
              "    <tr>\n",
              "      <th>3</th>\n",
              "      <td>0.859517</td>\n",
              "      <td>4.542017</td>\n",
              "      <td>0.154733</td>\n",
              "      <td>1.094767</td>\n",
              "    </tr>\n",
              "    <tr>\n",
              "      <th>4</th>\n",
              "      <td>0.870317</td>\n",
              "      <td>12.954770</td>\n",
              "      <td>0.182217</td>\n",
              "      <td>0.779333</td>\n",
              "    </tr>\n",
              "  </tbody>\n",
              "</table>\n",
              "</div>"
            ],
            "text/plain": [
              "         H1         H2        H3        H4\n",
              "0  1.137333   2.455300  0.159450  3.848300\n",
              "1  1.109450   3.859267  0.163283  3.776800\n",
              "2  0.925433   2.700883  0.181067  1.688600\n",
              "3  0.859517   4.542017  0.154733  1.094767\n",
              "4  0.870317  12.954770  0.182217  0.779333"
            ]
          },
          "metadata": {
            "tags": []
          },
          "execution_count": 4
        }
      ]
    },
    {
      "cell_type": "code",
      "metadata": {
        "id": "SHkBHajzVgMU",
        "colab": {
          "base_uri": "https://localhost:8080/",
          "height": 206
        },
        "outputId": "a6c907d0-2796-4ec9-905f-4b47c05f3f5c"
      },
      "source": [
        "price_df.head()"
      ],
      "execution_count": null,
      "outputs": [
        {
          "output_type": "execute_result",
          "data": {
            "text/html": [
              "<div>\n",
              "<style scoped>\n",
              "    .dataframe tbody tr th:only-of-type {\n",
              "        vertical-align: middle;\n",
              "    }\n",
              "\n",
              "    .dataframe tbody tr th {\n",
              "        vertical-align: top;\n",
              "    }\n",
              "\n",
              "    .dataframe thead th {\n",
              "        text-align: right;\n",
              "    }\n",
              "</style>\n",
              "<table border=\"1\" class=\"dataframe\">\n",
              "  <thead>\n",
              "    <tr style=\"text-align: right;\">\n",
              "      <th></th>\n",
              "      <th>Time of the Day</th>\n",
              "      <th>Grid Purchase Cost</th>\n",
              "      <th>Grid Selling Cost</th>\n",
              "      <th>P2P Cost</th>\n",
              "      <th>Grid Purchase Cost.1</th>\n",
              "      <th>Grid Selling Cost.1</th>\n",
              "      <th>P2P Cost.1</th>\n",
              "      <th>Unnamed: 7</th>\n",
              "    </tr>\n",
              "  </thead>\n",
              "  <tbody>\n",
              "    <tr>\n",
              "      <th>0</th>\n",
              "      <td>0</td>\n",
              "      <td>6</td>\n",
              "      <td>4</td>\n",
              "      <td>5</td>\n",
              "      <td>0.13409</td>\n",
              "      <td>0.080454</td>\n",
              "      <td>0.107272</td>\n",
              "      <td>ToU Tariff:</td>\n",
              "    </tr>\n",
              "    <tr>\n",
              "      <th>1</th>\n",
              "      <td>1</td>\n",
              "      <td>6</td>\n",
              "      <td>4</td>\n",
              "      <td>5</td>\n",
              "      <td>0.13409</td>\n",
              "      <td>0.080454</td>\n",
              "      <td>0.107272</td>\n",
              "      <td>(Cost of purchase from grid by apartment build...</td>\n",
              "    </tr>\n",
              "    <tr>\n",
              "      <th>2</th>\n",
              "      <td>2</td>\n",
              "      <td>6</td>\n",
              "      <td>4</td>\n",
              "      <td>5</td>\n",
              "      <td>0.13409</td>\n",
              "      <td>0.080454</td>\n",
              "      <td>0.107272</td>\n",
              "      <td>6am-10am, 8 Rs</td>\n",
              "    </tr>\n",
              "    <tr>\n",
              "      <th>3</th>\n",
              "      <td>3</td>\n",
              "      <td>6</td>\n",
              "      <td>4</td>\n",
              "      <td>5</td>\n",
              "      <td>0.13409</td>\n",
              "      <td>0.080454</td>\n",
              "      <td>0.107272</td>\n",
              "      <td>10am - 6pm, 7 Rs</td>\n",
              "    </tr>\n",
              "    <tr>\n",
              "      <th>4</th>\n",
              "      <td>4</td>\n",
              "      <td>6</td>\n",
              "      <td>4</td>\n",
              "      <td>5</td>\n",
              "      <td>0.13409</td>\n",
              "      <td>0.080454</td>\n",
              "      <td>0.107272</td>\n",
              "      <td>6pm - 10pm, 8 Rs</td>\n",
              "    </tr>\n",
              "  </tbody>\n",
              "</table>\n",
              "</div>"
            ],
            "text/plain": [
              "   Time of the Day  ...                                         Unnamed: 7\n",
              "0                0  ...                                        ToU Tariff:\n",
              "1                1  ...  (Cost of purchase from grid by apartment build...\n",
              "2                2  ...                                     6am-10am, 8 Rs\n",
              "3                3  ...                                   10am - 6pm, 7 Rs\n",
              "4                4  ...                                   6pm - 10pm, 8 Rs\n",
              "\n",
              "[5 rows x 8 columns]"
            ]
          },
          "metadata": {
            "tags": []
          },
          "execution_count": 5
        }
      ]
    },
    {
      "cell_type": "code",
      "metadata": {
        "id": "SVpO3RugYlX1",
        "colab": {
          "base_uri": "https://localhost:8080/",
          "height": 206
        },
        "outputId": "0474f763-bc43-4a29-ce20-82e8357f0af4"
      },
      "source": [
        "file_path = '/content/content/My Drive/Project 2020-21/Car data/car_data.csv'\r\n",
        "vehicle_df = pd.read_csv(file_path)\r\n",
        "temp = vehicle_df.temp + 273\r\n",
        "vehicle_df.head()"
      ],
      "execution_count": null,
      "outputs": [
        {
          "output_type": "execute_result",
          "data": {
            "text/html": [
              "<div>\n",
              "<style scoped>\n",
              "    .dataframe tbody tr th:only-of-type {\n",
              "        vertical-align: middle;\n",
              "    }\n",
              "\n",
              "    .dataframe tbody tr th {\n",
              "        vertical-align: top;\n",
              "    }\n",
              "\n",
              "    .dataframe thead th {\n",
              "        text-align: right;\n",
              "    }\n",
              "</style>\n",
              "<table border=\"1\" class=\"dataframe\">\n",
              "  <thead>\n",
              "    <tr style=\"text-align: right;\">\n",
              "      <th></th>\n",
              "      <th>arr_time</th>\n",
              "      <th>dep_time</th>\n",
              "      <th>soc_initial</th>\n",
              "      <th>soc_final</th>\n",
              "      <th>temp</th>\n",
              "      <th>temp_max</th>\n",
              "      <th>temp_min</th>\n",
              "      <th>Distance travelled</th>\n",
              "      <th>Distance need to travel</th>\n",
              "    </tr>\n",
              "  </thead>\n",
              "  <tbody>\n",
              "    <tr>\n",
              "      <th>0</th>\n",
              "      <td>10</td>\n",
              "      <td>17</td>\n",
              "      <td>0.689</td>\n",
              "      <td>0.481</td>\n",
              "      <td>20.225</td>\n",
              "      <td>29.93</td>\n",
              "      <td>10.52</td>\n",
              "      <td>14</td>\n",
              "      <td>20</td>\n",
              "    </tr>\n",
              "    <tr>\n",
              "      <th>1</th>\n",
              "      <td>9</td>\n",
              "      <td>16</td>\n",
              "      <td>0.705</td>\n",
              "      <td>0.426</td>\n",
              "      <td>21.730</td>\n",
              "      <td>31.00</td>\n",
              "      <td>12.46</td>\n",
              "      <td>20</td>\n",
              "      <td>17</td>\n",
              "    </tr>\n",
              "    <tr>\n",
              "      <th>2</th>\n",
              "      <td>11</td>\n",
              "      <td>15</td>\n",
              "      <td>0.754</td>\n",
              "      <td>0.386</td>\n",
              "      <td>21.725</td>\n",
              "      <td>30.92</td>\n",
              "      <td>12.53</td>\n",
              "      <td>18</td>\n",
              "      <td>15</td>\n",
              "    </tr>\n",
              "    <tr>\n",
              "      <th>3</th>\n",
              "      <td>12</td>\n",
              "      <td>17</td>\n",
              "      <td>0.736</td>\n",
              "      <td>0.464</td>\n",
              "      <td>21.565</td>\n",
              "      <td>31.05</td>\n",
              "      <td>12.08</td>\n",
              "      <td>19</td>\n",
              "      <td>16</td>\n",
              "    </tr>\n",
              "    <tr>\n",
              "      <th>4</th>\n",
              "      <td>11</td>\n",
              "      <td>17</td>\n",
              "      <td>0.689</td>\n",
              "      <td>0.442</td>\n",
              "      <td>21.885</td>\n",
              "      <td>31.29</td>\n",
              "      <td>12.48</td>\n",
              "      <td>18</td>\n",
              "      <td>19</td>\n",
              "    </tr>\n",
              "  </tbody>\n",
              "</table>\n",
              "</div>"
            ],
            "text/plain": [
              "   arr_time  dep_time  ...  Distance travelled  Distance need to travel\n",
              "0        10        17  ...                  14                       20\n",
              "1         9        16  ...                  20                       17\n",
              "2        11        15  ...                  18                       15\n",
              "3        12        17  ...                  19                       16\n",
              "4        11        17  ...                  18                       19\n",
              "\n",
              "[5 rows x 9 columns]"
            ]
          },
          "metadata": {
            "tags": []
          },
          "execution_count": 6
        }
      ]
    },
    {
      "cell_type": "code",
      "metadata": {
        "colab": {
          "base_uri": "https://localhost:8080/",
          "height": 206
        },
        "id": "Kxym9XNaQc5q",
        "outputId": "3601052b-62c6-4843-9d7b-b68ca41576b8"
      },
      "source": [
        "price_df.head()"
      ],
      "execution_count": null,
      "outputs": [
        {
          "output_type": "execute_result",
          "data": {
            "text/html": [
              "<div>\n",
              "<style scoped>\n",
              "    .dataframe tbody tr th:only-of-type {\n",
              "        vertical-align: middle;\n",
              "    }\n",
              "\n",
              "    .dataframe tbody tr th {\n",
              "        vertical-align: top;\n",
              "    }\n",
              "\n",
              "    .dataframe thead th {\n",
              "        text-align: right;\n",
              "    }\n",
              "</style>\n",
              "<table border=\"1\" class=\"dataframe\">\n",
              "  <thead>\n",
              "    <tr style=\"text-align: right;\">\n",
              "      <th></th>\n",
              "      <th>Time of the Day</th>\n",
              "      <th>Grid Purchase Cost</th>\n",
              "      <th>Grid Selling Cost</th>\n",
              "      <th>P2P Cost</th>\n",
              "      <th>Grid Purchase Cost.1</th>\n",
              "      <th>Grid Selling Cost.1</th>\n",
              "      <th>P2P Cost.1</th>\n",
              "      <th>Unnamed: 7</th>\n",
              "    </tr>\n",
              "  </thead>\n",
              "  <tbody>\n",
              "    <tr>\n",
              "      <th>0</th>\n",
              "      <td>0</td>\n",
              "      <td>6</td>\n",
              "      <td>4</td>\n",
              "      <td>5</td>\n",
              "      <td>0.13409</td>\n",
              "      <td>0.080454</td>\n",
              "      <td>0.107272</td>\n",
              "      <td>ToU Tariff:</td>\n",
              "    </tr>\n",
              "    <tr>\n",
              "      <th>1</th>\n",
              "      <td>1</td>\n",
              "      <td>6</td>\n",
              "      <td>4</td>\n",
              "      <td>5</td>\n",
              "      <td>0.13409</td>\n",
              "      <td>0.080454</td>\n",
              "      <td>0.107272</td>\n",
              "      <td>(Cost of purchase from grid by apartment build...</td>\n",
              "    </tr>\n",
              "    <tr>\n",
              "      <th>2</th>\n",
              "      <td>2</td>\n",
              "      <td>6</td>\n",
              "      <td>4</td>\n",
              "      <td>5</td>\n",
              "      <td>0.13409</td>\n",
              "      <td>0.080454</td>\n",
              "      <td>0.107272</td>\n",
              "      <td>6am-10am, 8 Rs</td>\n",
              "    </tr>\n",
              "    <tr>\n",
              "      <th>3</th>\n",
              "      <td>3</td>\n",
              "      <td>6</td>\n",
              "      <td>4</td>\n",
              "      <td>5</td>\n",
              "      <td>0.13409</td>\n",
              "      <td>0.080454</td>\n",
              "      <td>0.107272</td>\n",
              "      <td>10am - 6pm, 7 Rs</td>\n",
              "    </tr>\n",
              "    <tr>\n",
              "      <th>4</th>\n",
              "      <td>4</td>\n",
              "      <td>6</td>\n",
              "      <td>4</td>\n",
              "      <td>5</td>\n",
              "      <td>0.13409</td>\n",
              "      <td>0.080454</td>\n",
              "      <td>0.107272</td>\n",
              "      <td>6pm - 10pm, 8 Rs</td>\n",
              "    </tr>\n",
              "  </tbody>\n",
              "</table>\n",
              "</div>"
            ],
            "text/plain": [
              "   Time of the Day  ...                                         Unnamed: 7\n",
              "0                0  ...                                        ToU Tariff:\n",
              "1                1  ...  (Cost of purchase from grid by apartment build...\n",
              "2                2  ...                                     6am-10am, 8 Rs\n",
              "3                3  ...                                   10am - 6pm, 7 Rs\n",
              "4                4  ...                                   6pm - 10pm, 8 Rs\n",
              "\n",
              "[5 rows x 8 columns]"
            ]
          },
          "metadata": {
            "tags": []
          },
          "execution_count": 7
        }
      ]
    },
    {
      "cell_type": "code",
      "metadata": {
        "id": "S1vhflugQiKH"
      },
      "source": [
        "purchase_price = price_df['Grid Purchase Cost'].values\n",
        "sell_price = price_df['Grid Selling Cost'].values"
      ],
      "execution_count": null,
      "outputs": []
    },
    {
      "cell_type": "markdown",
      "metadata": {
        "id": "aLssmQDFVwhq"
      },
      "source": [
        "### Important functions"
      ]
    },
    {
      "cell_type": "code",
      "metadata": {
        "id": "0L1syC7kdUO6"
      },
      "source": [
        "# def myplot(xvals,yvals, kind='plot', labels=None,xlab=None,ylab=None,titles=None,colors='b',image_name = 'imag.png',save=False, Xticks=None):\n",
        "#     plt.rc('xtick',labelsize = 15)\n",
        "#     plt.rc('ytick',labelsize = 15)\n",
        "        \n",
        "#     if not isinstance(xvals, list):\n",
        "#         print(\"Calling from first control statement\")\n",
        "#         print(f\"type(xvals): {type(xvals)}\")\n",
        "#         if kind.lower() == 'bar': \n",
        "#             plt.bar(xvals,yvals,label = labels, linewidth = 2, color = colors)\n",
        "#         else:\n",
        "#             plt.plot(xvals,yvals,label = labels, linewidth = 2, color = colors)\n",
        "#     else:# if xvals is nested list        \n",
        "#         print(\"Calling from second control statement\")\n",
        "#         for j in range(len(labels)):\n",
        "#             plt.plot(xvals,yvals[:,j],label = labels[j], linewidth = 2, color = colors[j])\n",
        "    \n",
        "#     plt.xticks(np.arange(0,len(xvals)), Xticks)\n",
        "#     plt.xlabel(xlab,fontsize = 16)\n",
        "#     plt.ylabel(ylab,fontsize = 16)\n",
        "#     plt.title(titles,fontsize = 18,color = 'black',fontweight = 'bold')\n",
        "#     name = image_name\n",
        "#     if save:\n",
        "#         plt.legend()\n",
        "#         plt.grid()\n",
        "#         plt.savefig(name,bbox_inches = 'tight',orientation = 'portrait')\n",
        "#         files.download(name) \n",
        "#     plt.legend()\n",
        "#     plt.grid()\n",
        "#     plt.show()\n",
        "\n",
        "# colors = 'red blue'.split()\n",
        "# x = np.linspace(0,2,4)\n",
        "# y1 = np.sin(x); y2 = np.cos(x);\n",
        "# xvals = x\n",
        "# yvals = np.vstack((y1,y2)).T\n",
        "# xlabs = 'time'\n",
        "# ylabs = \"magnitude\"\n",
        "# labs = 'sine curve, cosine curve'.split(',')\n",
        "# title = \"Sinusoidal curves\"\n",
        "\n",
        "# myplot(xvals, yvals, xlab=xlabs, ylab=ylabs, titles=title, labels=labs, colors = colors, image_name='test.jpg', save=False)\n"
      ],
      "execution_count": null,
      "outputs": []
    },
    {
      "cell_type": "code",
      "metadata": {
        "id": "MIo3IG0zX70v"
      },
      "source": [
        "def cycle_deg( T, b_current, c_rate, del_t):\r\n",
        "    cycle_const = [8.6772e-6, -5.1613e-3, 7.6788e-1, -6.7e-3, 2.35] #[a, b, c, d, e]\r\n",
        "    a,b,c,d,e = cycle_const[0], cycle_const[1], cycle_const[2], cycle_const[3], cycle_const[4]\r\n",
        "    cells_per_mod = 72\r\n",
        "\r\n",
        "    B1 = a*pow(T,2) + b*T + c\r\n",
        "    B2 = d*T + e\r\n",
        "    cell_current = b_current / cells_per_mod\r\n",
        "    cycle_loss = B1 * np.exp(B2 * c_rate) * cell_current * (del_t/60) # del_t in hour\r\n",
        "    return cycle_loss\r\n",
        "\r\n",
        "def cal_deg2(temp, t):\r\n",
        "    alpha, beta = 165000, -4148\r\n",
        "    cal_deg = alpha * np.exp(beta/temp) * pow(t,0.5)\r\n",
        "    return cal_deg # in %\r\n",
        "\r\n",
        "def hour2min2hour(hour1, hour2):\r\n",
        "    \"\"\"\r\n",
        "    hour1 = arrival time,\r\n",
        "    hour2 = departure time\r\n",
        "    \"\"\"\r\n",
        "    frac_hour1 = hour1 - int(hour1)\r\n",
        "    frac_hour2 = hour2 - int(hour2)\r\n",
        "    min = ( (int(hour2) - int(hour1))*60 + (frac_hour2 - frac_hour1)*100 ) / 60\r\n",
        "    return min\r\n",
        "\r\n",
        "def hour2steps(hour,step_size):\r\n",
        "    \"\"\"\r\n",
        "    -> Convert hour into minute.Unit of step_size in minutes\r\n",
        "    -> Divide minutes with step size and u will get steps.\r\n",
        "    \"\"\"\r\n",
        "    steps = int(hour * 60 / step_size)\r\n",
        "    return steps\r\n",
        "\r\n",
        "def myTemp(ambient_temp, power):\r\n",
        "    rth = 2 # Celcius / kW\r\n",
        "    return ambient_temp + rth * power\r\n",
        "\r\n",
        "def myplot(xvals,yvals, kind='plot', labels=None,xlab=None,ylab=None,titles=None,colors='b',image_name = 'imag.png',save=False, Xticks=None):\r\n",
        "    plt.rc('xtick',labelsize = 15)\r\n",
        "    plt.rc('ytick',labelsize = 15)\r\n",
        "\r\n",
        "    if kind.lower() == 'bar': \r\n",
        "        plt.bar(xvals,yvals,label = labels, linewidth = 2, color = colors)\r\n",
        "    else:\r\n",
        "        plt.plot(xvals,yvals,label = labels, linewidth = 2, color = colors)\r\n",
        "       \r\n",
        "    plt.xticks(np.arange(0,len(xvals)), Xticks)\r\n",
        "    plt.xlabel(xlab,fontsize = 16)\r\n",
        "    plt.ylabel(ylab,fontsize = 16)\r\n",
        "    plt.title(titles,fontsize = 18,color = 'black',fontweight = 'bold')\r\n",
        "    name = image_name\r\n",
        "    if save:\r\n",
        "        plt.legend()\r\n",
        "        plt.grid()\r\n",
        "        plt.savefig(name,bbox_inches = 'tight',orientation = 'portrait')\r\n",
        "        files.download(name) \r\n",
        "    plt.legend()\r\n",
        "    plt.grid()\r\n",
        "    plt.show()\r\n",
        "\r\n",
        "def printf(p):\r\n",
        "    def varname(p):\r\n",
        "        for line in inspect.getframeinfo(inspect.currentframe().f_back)[3]:\r\n",
        "            m = re.search(r'\\bvarname\\s*\\(\\s*([A-Za-z_][A-Za-z0-9_]*)\\s*\\)', line)\r\n",
        "            if m:\r\n",
        "             return m.group(1)\r\n",
        "    print(varname(p) + \": \" + str(p))\r\n",
        "\r\n",
        "def changeTimeStamp(arr, old_del_t, new_del_t):\r\n",
        "    if new_del_t > old_del_t:\r\n",
        "        print(\"New timestamp should be less than old timestamp!\")\r\n",
        "    elif old_del_t%new_del_t != 0:\r\n",
        "        print(\"New timestamp should be multiple of old timestamp!\")\r\n",
        "    else:\r\n",
        "        repeat = old_del_t // new_del_t\r\n",
        "        new_arr = np.repeat(arr, repeat, axis = 0)\r\n",
        "        return new_arr\r\n",
        "\r\n",
        "def billCalc(total_soc_increment, b_cap_kwh, price, current_step, steps):\r\n",
        "    '''\r\n",
        "    ==> This function will claculate the total bill as per the energy consumption.\r\n",
        "    ==> First total enery consumption is calculated and based on charging and discharging it is \r\n",
        "        divided into equal steps and for each step bill is calculated and updated simultaneously.\r\n",
        "    ==> Current step can be more than 24 so make program accordingly.\r\n",
        "    ==> Parameters:\r\n",
        "        1. SOC(%)\r\n",
        "        2. total_soc_increment(%)\r\n",
        "        3. price (INR)\r\n",
        "    '''\r\n",
        "    per_step_increment = total_soc_increment / steps\r\n",
        "    energy = per_step_increment * b_cap_kwh / 100\r\n",
        "    current_step %= 24\r\n",
        "\r\n",
        "    bill = 0\r\n",
        "    for s in range(current_step, current_step + steps):\r\n",
        "        bill += energy * price[s]\r\n",
        "    return bill"
      ],
      "execution_count": null,
      "outputs": []
    },
    {
      "cell_type": "code",
      "metadata": {
        "id": "QKsVJS3_ZIrJ",
        "colab": {
          "base_uri": "https://localhost:8080/",
          "height": 312
        },
        "outputId": "af0f5bb5-b463-4fe5-eaad-1467bead40d1"
      },
      "source": [
        "# 1 day profile of H1 data\r\n",
        "p1 = pow_df.H1.values[24*2:24*3]\r\n",
        "time = np.arange(len(p1))\r\n",
        "\r\n",
        "plt.plot(p1)\r\n",
        "plt.xlabel(\"time(h)\")\r\n",
        "plt.ylabel(\"Load(kW)\")\r\n",
        "plt.title(\"Energy consumption of H1\")\r\n",
        "plt.grid()\r\n",
        "plt.plot()\r\n",
        "\r\n",
        "print(f\"maximum demand of H1: {pow_df.H1.max():.3f}kW\")"
      ],
      "execution_count": null,
      "outputs": [
        {
          "output_type": "stream",
          "text": [
            "maximum demand of H1: 6.204kW\n"
          ],
          "name": "stdout"
        },
        {
          "output_type": "display_data",
          "data": {
            "image/png": "[encoded data removed]",
            "text/plain": [
              "<Figure size 432x288 with 1 Axes>"
            ]
          },
          "metadata": {
            "tags": [],
            "needs_background": "light"
          }
        }
      ]
    },
    {
      "cell_type": "markdown",
      "metadata": {
        "id": "sUIIhhV-bjl4"
      },
      "source": [
        "## Charging and discharging price plot"
      ]
    },
    {
      "cell_type": "code",
      "metadata": {
        "colab": {
          "base_uri": "https://localhost:8080/",
          "height": 282
        },
        "id": "zZrq9n9jiMWb",
        "outputId": "1c04e2d7-80a3-4fed-d06b-940fe610f3db"
      },
      "source": [
        "plt.plot(purchase_price, color = 'b', label = \"Purchase price from grid\", linewidth=2)\n",
        "plt.plot(sell_price, color = 'r', label = 'Selling price to grid', linewidth=2)\n",
        "plt.grid()\n",
        "plt.legend()\n",
        "plt.plot()\n"
      ],
      "execution_count": null,
      "outputs": [
        {
          "output_type": "execute_result",
          "data": {
            "text/plain": [
              "[]"
            ]
          },
          "metadata": {
            "tags": []
          },
          "execution_count": 12
        },
        {
          "output_type": "display_data",
          "data": {
            "image/png": "[encoded data removed]",
            "text/plain": [
              "<Figure size 432x288 with 1 Axes>"
            ]
          },
          "metadata": {
            "tags": [],
            "needs_background": "light"
          }
        }
      ]
    },
    {
      "cell_type": "markdown",
      "metadata": {
        "id": "JAcGW3CcYIOl"
      },
      "source": [
        "# <font color = 'blue' > Case 1 Degradation program for a year with EV discharging into home </font>"
      ]
    },
    {
      "cell_type": "markdown",
      "metadata": {
        "id": "4EJLvaX_L_uQ"
      },
      "source": [
        "##<font color = 'red'> Assumptions </font>\n",
        "1. Every day car is charging after 12.00 AM as after that price is minimum.\n",
        "![picture](https://drive.google.com/uc?export=view&id=1SB4u5rVnVjeMCnpKLmjw4ddbyP6M5msp)\n",
        "\n",
        "2. Steps size = 1h.\n",
        "3. Car is charging at everyday from 12.00 to until it reaches upper threshold.\n",
        "4. Discharging time is fixed as price is high upto **11.00 PM**."
      ]
    },
    {
      "cell_type": "code",
      "metadata": {
        "id": "hKxC_mM1MQ98"
      },
      "source": [
        "# print(\"array points where demand is higher then charger capacity\")\n",
        "# print(np.where(p1>home_charger))\n",
        "\n",
        "# print(f\"There are {len(p1[p1>home_charger])} points.\")"
      ],
      "execution_count": null,
      "outputs": []
    },
    {
      "cell_type": "markdown",
      "metadata": {
        "id": "F5lAQ49Vbvz2"
      },
      "source": [
        "## Main Program\n",
        "\n",
        "### Notes\n",
        "1. There is some problem with part 7(Discharging at home.).Try and rectify it."
      ]
    },
    {
      "cell_type": "markdown",
      "metadata": {
        "id": "tXfwiTUXAfVq"
      },
      "source": [
        "## Experimental"
      ]
    },
    {
      "cell_type": "code",
      "metadata": {
        "id": "x_p0Fs-WtOCE"
      },
      "source": [
        "# new_battery_price = 600000 \n",
        "# old_battery_price = 0.25 * new_battery_price \n",
        "\n",
        "# deg_cost = -(cum_total_deg[-1] / 20) * (new_battery_price - old_battery_price)\n",
        "# home_profit = home_bill_with_disch + deg_cost\n",
        "# home_profit"
      ],
      "execution_count": null,
      "outputs": []
    },
    {
      "cell_type": "code",
      "metadata": {
        "id": "smxRL4jl3_rF"
      },
      "source": [
        "# diff_soc = np.diff(soc) * 60 / del_t\n",
        "# plt.plot(diff_soc)"
      ],
      "execution_count": null,
      "outputs": []
    },
    {
      "cell_type": "markdown",
      "metadata": {
        "id": "RjZC6cPq_1Q_"
      },
      "source": [
        "## New Program that formed on 20/02/2021"
      ]
    },
    {
      "cell_type": "code",
      "metadata": {
        "id": "4AIYMZZ7FWCp",
        "colab": {
          "base_uri": "https://localhost:8080/"
        },
        "outputId": "7d22802b-1fc1-4314-f967-52196cddb9e6"
      },
      "source": [
        "days = 1 * 365\n",
        "p1 = pow_df.H1.values[:24*days]\n",
        "# p1 = [2,2,1,1,1,2,2,3,3,4,4,5,5,4,4,4,5,6,6,-1,2,2,3,3]\n",
        "new_p1 = list(p1)\n",
        "del_t = 60 #min\n",
        "steps = days*24*60//del_t\n",
        "\n",
        "b_cap = 30.2 # kWh\n",
        "b_volt = 320\n",
        "travel_energy = 30 * 0.126\n",
        "upper_th = 95 # upper SOC threshold\n",
        "lower_th = 20 # lower SOC threshold\n",
        "\n",
        "build_arr_time = np.random.randint( 10,11, size = days )\n",
        "build_dep_time = np.random.randint( 16,17, size = days )\n",
        "home_leave_time = np.random.randint( 9,10, size = days ) # No randomness\n",
        "home_arr_time = np.random.randint( 17,18, size = days ) # EV arrived 5.00 pm at home\n",
        "\n",
        "home_charger = 3.3 # kw\n",
        "rth = 2 # Celcius/kW\n",
        "\n",
        "\n",
        "b_percent_cap = np.zeros(len(p1)+1)\n",
        "b_percent_cap[0] = 100\n",
        "\n",
        "\n",
        "def withV2H_DailyCharge(p1):\n",
        "    soc = np.zeros(steps+1) \n",
        "    soc[0] = 50 # initial SOC at 12.00 AM\n",
        "    start_time = 0 # Program start at 12.00 AM\n",
        "\n",
        "    cum_cal_time = np.zeros(days+1)\n",
        "    cum_cal_deg = np.zeros(days+1)\n",
        "    cum_cycle_deg = np.zeros(days+1)\n",
        "    cum_disch_energy = np.zeros(days+1)\n",
        "    cum_charge_energy = np.zeros(days+1)\n",
        "    \n",
        "    home_bill = 0\n",
        "    current_step = 0\n",
        "    total_disch_energy = total_charge_energy = 0 # Discharge energy into home\n",
        "    \n",
        "    # Main Program\n",
        "    for day in range(days):\n",
        "        b_cap_kwh = b_percent_cap[day] * b_cap/100    \n",
        "        daily_cycle_deg, daily_cal_time = 0,0 \n",
        "        \n",
        "        daily_charged_energy = 0\n",
        "        isCharging = True\n",
        "        if isCharging:\n",
        "            charged_energy = (0.95 - soc[current_step]/100) * b_cap_kwh\n",
        "            home_charge_time = np.ceil(charged_energy / home_charger)\n",
        "            charge_steps = hour2steps(home_charge_time, del_t)\n",
        "            total_soc_increment = upper_th - soc[current_step]\n",
        "            per_step_increment = total_soc_increment / charge_steps\n",
        "            charged_energy_per_step = charged_energy/charge_steps\n",
        "\n",
        "            b_temp = myTemp(temp[day], home_charger)\n",
        "            if b_temp > 273+45:\n",
        "                b_temp = 273+45\n",
        "            b_current = home_charger*1000 / b_volt\n",
        "            c_rate = home_charger / b_cap_kwh\n",
        "            \n",
        "            for i in range(charge_steps):\n",
        "                # if p1[current_step] > 0:\n",
        "                charged_energy = charged_energy_per_step + p1[current_step]*del_t/60\n",
        "                daily_charged_energy += charged_energy\n",
        "                home_bill += charged_energy * purchase_price[current_step % len(purchase_price)]\n",
        "                soc[current_step+1] = soc[current_step] + per_step_increment\n",
        "                daily_cycle_deg += cycle_deg(b_temp, b_current, c_rate, del_t)\n",
        "                current_step += 1\n",
        "        # Currently I am at index 4(95 of SOC)\n",
        "        isCharging = False \n",
        "        # print(f\"current step after charging:{current_step}\")\n",
        "        # print(f\"Energy after charging at home: {daily_charged_energy}\")\n",
        "\n",
        "        ### Everything is fine (Checked) #####\n",
        "    \n",
        "        # ============================================\n",
        "        ## 2.Staying at home for some time(completed)\n",
        "        # ============================================\n",
        "        home_cal_time = home_leave_time[day] - home_charge_time\n",
        "        home_cal_steps = hour2steps(home_cal_time, del_t)\n",
        "        daily_cal_time += home_cal_time\n",
        "        soc[current_step+1:current_step+home_cal_steps+1] = soc[current_step] # SOC will constant as no self discharge during standing at home.\n",
        "        # Home bill calculation\n",
        "        for i in range(home_cal_steps):\n",
        "\n",
        "            charged_energy = p1[current_step] * del_t/60 \n",
        "            daily_charged_energy += charged_energy\n",
        "            home_bill +=  charged_energy * purchase_price[current_step % len(purchase_price)]\n",
        "            current_step += 1\n",
        "        # print(f\"current step after leaving the home:{current_step}\")\n",
        "        # print(f\"Energy after leaving the home: {daily_charged_energy}\")\n",
        "\n",
        "        \n",
        "        # current_step += home_cal_steps #****** (current_step=9)\n",
        "\n",
        "        ### Everything is fine (Checked) #####\n",
        "\n",
        "        # ==================================\n",
        "        ## 3. Going from home to office\n",
        "        # ==================================\n",
        "        travel_time = 1\n",
        "        travel_steps = hour2steps(travel_time,del_t)\n",
        "        travel_power = travel_energy / travel_time # Const\n",
        "        total_soc_decrement = travel_energy / b_cap_kwh * 100 # fixed soc will decrease as b_cap is fixed\n",
        "        per_step_decrement = total_soc_decrement / travel_steps\n",
        "        b_temp = myTemp(temp[day], travel_power)\n",
        "        if b_temp > 273+45:\n",
        "            b_temp = 273+45\n",
        "        b_current = travel_power*1000 / b_volt\n",
        "        c_rate = travel_power / b_cap_kwh\n",
        "        for i in range(travel_steps):\n",
        "            charged_energy = p1[current_step] * del_t/60 \n",
        "            daily_charged_energy += charged_energy\n",
        "            home_bill += charged_energy * purchase_price[current_step % len(purchase_price)]\n",
        "            daily_cycle_deg += cycle_deg(b_temp, b_current, c_rate, del_t)\n",
        "            soc[current_step+1] = soc[current_step] - per_step_decrement\n",
        "            current_step +=1\n",
        "        daily_cycle_deg *= 2 # from building to home\n",
        "        # Home bill calculation\n",
        "        # print(f\"current step after reaching the building:{current_step}\")\n",
        "        # print(f\"Energy after travelling to building: {daily_charged_energy}\")\n",
        "        \n",
        "        # current_step += travel_steps #******(cuurent_step=10)\n",
        "\n",
        "        ### Everything is fine (Checked) #####\n",
        "        # =================================\n",
        "        ## 4. At office\n",
        "        # =================================\n",
        "        build_stand_time = build_dep_time[day] - build_arr_time[day]\n",
        "        build_stand_steps = hour2steps(build_stand_time, del_t)\n",
        "        daily_cal_time += build_stand_time\n",
        "        soc[current_step+1:current_step+build_stand_steps+1] = soc[current_step] # SOC will constant as no self discharge.\n",
        "        # Home bill calculation\n",
        "        for i in range(build_stand_steps):\n",
        "            charged_energy = p1[current_step] * del_t/60 \n",
        "            daily_charged_energy += charged_energy\n",
        "            home_bill += charged_energy * purchase_price[current_step % len(purchase_price)]\n",
        "            current_step += 1\n",
        "        # current_step += build_stand_steps #******(current_step=16)\n",
        "        # print(f\"current_step after leaving the building:{current_step}\")\n",
        "        # print(f\"Energy after leaving the building: {daily_charged_energy}\")\n",
        "\n",
        "        ### Everything is fine (Checked) #####\n",
        "        # ==================================\n",
        "        ## 5. Returning from office to home\n",
        "        # ==================================\n",
        "        # Degradation is already calculated(see 3)\n",
        "        for i in range(travel_steps):\n",
        "            charged_energy = p1[current_step] * del_t/60 \n",
        "            daily_charged_energy += charged_energy\n",
        "            home_bill += p1[current_step] * del_t/60 * purchase_price[current_step % len(purchase_price)]\n",
        "            soc[current_step+1] = soc[current_step] - per_step_decrement\n",
        "            current_step += 1\n",
        "        # current_step += travel_steps #******(current step=17)\n",
        "        ### Everything is fine (Checked) #####\n",
        "        # print(f\"Energy after reaching at home: {daily_charged_energy}\")\n",
        "\n",
        "        \n",
        "        # =================================\n",
        "        ## 6. Discharging at home\n",
        "        # =================================\n",
        "        # Car will be discharged into home to satisfy the evening peak of the load.(4h).\n",
        "        home_disch_time = 4 # 4h after arriving at home\n",
        "        disch_steps = hour2steps(home_disch_time, del_t)\n",
        "        \n",
        "        for i in range(disch_steps):\n",
        "            if p1[current_step] > home_charger:\n",
        "                disch_power = home_charger\n",
        "                new_p1[current_step] = p1[current_step] - home_charger\n",
        "                disch_energy = disch_power * del_t/60\n",
        "                # print(\"Calling from if\")\n",
        "                # print(f\"current_step: {current_step}, load:{p1[current_step]:.3f}kW\")\n",
        "                # print(\"new_p1 changed from p1 > home_charger\")\n",
        "                soc[current_step+1] = soc[current_step] - disch_energy / b_cap_kwh * 100\n",
        "                b_temp = myTemp(temp[day], disch_power)\n",
        "                if b_temp > 273+45:\n",
        "                    b_temp = 273+45\n",
        "                b_current = disch_power * 1000 / b_volt\n",
        "                c_rate = disch_power / b_cap_kwh\n",
        "                daily_cycle_deg += cycle_deg(b_temp, b_current, c_rate, del_t)\n",
        "\n",
        "                # Home owner only needs to pay about new energy he is using!\n",
        "                charged_energy = new_p1[current_step] * del_t/60 \n",
        "                daily_charged_energy += charged_energy\n",
        "                home_bill += charged_energy * purchase_price[current_step % len(purchase_price)]\n",
        "            \n",
        "            elif p1[current_step] <= 0: # Excessive solar generation\n",
        "                # print(\"Calling from elif\")\n",
        "                # print(f\"current_step: {current_step}, load:{p1[current_step]:.3f}kW\")\n",
        "                # here car is idle so I can accomodate calendar degaradation into this.\n",
        "                disch_power = disch_energy = 0\n",
        "                daily_cal_time += del_t/60 \n",
        "                # new_p1[current_step] = p1[current_step]\n",
        "                soc[current_step+1] = soc[current_step]\n",
        "\n",
        "            else: # Home power < charger capacity\n",
        "                # print(\"Calling from else\")\n",
        "                # print(f\"current_step: {current_step}, load:{p1[current_step]:.3f}kW\")\n",
        "                disch_power = p1[current_step]\n",
        "                disch_energy = disch_power * del_t/60\n",
        "                new_p1[current_step] = 0\n",
        "                soc[current_step+1] = soc[current_step] - disch_energy / b_cap_kwh * 100\n",
        "                b_temp = myTemp(temp[day], disch_power)\n",
        "                if b_temp > 273+45:\n",
        "                    b_temp = 273+45\n",
        "                b_current = disch_power * 1000 / b_volt\n",
        "                c_rate = disch_power / b_cap_kwh\n",
        "                daily_cycle_deg += cycle_deg(b_temp, b_current, c_rate, del_t)\n",
        "\n",
        "            current_step += 1\n",
        "            total_disch_energy += disch_energy\n",
        "        # print(f\"Energy after discharging at home: {daily_charged_energy}\")\n",
        "\n",
        "        # =================================\n",
        "        ## 7. Idle at home \n",
        "        # =================================\n",
        "        # After EV has satisfied peak demand then it will stay at home for some time\n",
        "        # This time is before 12.00 AM\n",
        "        home_stand_time2 = (day+1)*24 - current_step * del_t // 60\n",
        "        home_stand_time2_steps = hour2steps(home_stand_time2, del_t)\n",
        "        soc[current_step+1:current_step+1+home_stand_time2_steps] = soc[current_step] # SOC will constant as no self discharge during standing at home.\n",
        "        # current_step += home_stand_time2_steps #******\n",
        "        daily_cal_time = 24 - home_charge_time - 2*travel_time - home_disch_time\n",
        "\n",
        "        for i in range(home_stand_time2_steps):\n",
        "            charged_energy = p1[current_step] * del_t/60 \n",
        "            daily_charged_energy += charged_energy\n",
        "            home_bill += charged_energy * purchase_price[current_step % len(purchase_price)]\n",
        "            current_step += 1\n",
        "        cum_charge_energy[day+1] = cum_charge_energy[day] + daily_charged_energy\n",
        "        # print(f\"current_step: {current_step}, soc[0] = {soc[current_step-24]}\")\n",
        "        # print(current_step, soc)\n",
        "\n",
        "        # =================================\n",
        "        ## 8. Degradation part \n",
        "        # =================================\n",
        "        cum_cal_time[day+1] = cum_cal_time[day] + daily_cal_time \n",
        "        daily_cal_deg = cal_deg2(temp[day], cum_cal_time[day+1]/24) - cal_deg2(temp[day], cum_cal_time[day]/24)  # Cum_deg of total day - previous day degradation\n",
        "        cum_cal_deg[day+1] = cum_cal_deg[day] + daily_cal_deg\n",
        "        cum_cycle_deg[day+1] = cum_cycle_deg[day] + daily_cycle_deg\n",
        "        \n",
        "        daily_total_deg = daily_cal_deg + daily_cycle_deg\n",
        "        b_percent_cap[day+1] = b_percent_cap[day] - daily_total_deg\n",
        "        # print(f\"Energy after 1 day: {daily_charged_energy}\")\n",
        "\n",
        "    total_deg = cum_cal_deg + cum_cycle_deg\n",
        "    return cum_cal_deg[-1], cum_cycle_deg[-1], total_deg[-1], cum_charge_energy[-1], total_disch_energy, b_percent_cap, home_bill\n",
        "# print(home_bill, total_disch_energy)\n",
        "\n",
        "cum_cal_deg1, cum_cycle_deg1, total_deg1, cum_charge_energy1, cum_disch_energy1, b_percent_cap1, home_bill1 = withV2H_DailyCharge(p1)\n",
        "\n",
        "print(\"=======================\")\n",
        "print(f\"Simulation time {days} days\")\n",
        "print(\"=======================\")\n",
        "print(f\"Home bill for V2H system: {home_bill1:.2f} INR\")\n",
        "print(f\"total degradation: {total_deg1:.2f}%\")\n",
        "print(f\"total discharge energy:{cum_disch_energy1:.2f} kWh\")\n",
        "print(f\"total charge energy: {cum_charge_energy1:.2f} kWh\")\n",
        "\n",
        "# print(f\"p1: {p1}\")\n",
        "# print(f\"new_p1: {new_p1}\")\n",
        "\n",
        "# plt.figure(figsize = (20,8))\n",
        "# plt.bar(np.arange(len(p1)), p1, color = 'orange', label = 'Before V2H')\n",
        "# plt.bar(np.arange(len(p1)),new_p1, color = 'blue', label = \"After V2H\")\n",
        "# plt.grid()\n",
        "# plt.legend()\n",
        "# plt.show()"
      ],
      "execution_count": null,
      "outputs": [
        {
          "output_type": "stream",
          "text": [
            "=======================\n",
            "Simulation time 365 days\n",
            "=======================\n",
            "Home bill for V2H system: 65190.98 INR\n",
            "total degradation: 3.23%\n",
            "total discharge energy:2490.44 kWh\n",
            "total charge energy: 10359.89 kWh\n"
          ],
          "name": "stdout"
        }
      ]
    },
    {
      "cell_type": "markdown",
      "metadata": {
        "id": "m7unKnXhYZ68"
      },
      "source": [
        "\n",
        "# <font color = 'blue' >Case2: EV Charged when empty with V2H </font>\n",
        "\n",
        "Here EV should not be charged during the high price time."
      ]
    },
    {
      "cell_type": "code",
      "metadata": {
        "id": "GqDpkM4OHM68",
        "colab": {
          "base_uri": "https://localhost:8080/",
          "height": 409
        },
        "outputId": "3f89002e-4099-4015-cc2f-329900658610"
      },
      "source": [
        "days = 1 * 365\n",
        "time = np.arange(0,days+1)\n",
        "p1 = pow_df.H1.values[:24*days]\n",
        "# p1 = [2,2,1,1,1,2,2,3,3,4,4,5,5,4,4,4,5,6,6,-1,2,2,3,3]\n",
        "del_t = 60 #min\n",
        "steps = days*24*60//del_t\n",
        "\n",
        "b_cap = 30.2 # kWh\n",
        "b_volt = 320\n",
        "travel_energy = 30 * 0.126\n",
        "upper_th = 95 # upper SOC threshold\n",
        "lower_th = 20 # lower SOC threshold\n",
        "\n",
        "build_arr_time = np.random.randint( 10,11, size = days )\n",
        "build_dep_time = np.random.randint( 16,17, size = days )\n",
        "home_leave_time = np.random.randint( 9,10, size = days ) # No randomness\n",
        "home_arr_time = np.random.randint( 17,18, size = days ) # EV arrived 5.00 pm at home\n",
        "\n",
        "home_charger = 3.3 # kW\n",
        "rth = 2 # Celcius/kW\n",
        "\n",
        "b_percent_cap = np.zeros(len(p1)+1)\n",
        "b_percent_cap[0] = 100\n",
        "\n",
        "soc = np.zeros(len(p1)+1)\n",
        "soc[0] = upper_th\n",
        "\n",
        "current_step= home_bill = 0\n",
        "\n",
        "cum_cal_time = np.zeros(days+1)\n",
        "cum_cal_deg = np.zeros(days+1)\n",
        "cum_cycle_deg = np.zeros(days+1)\n",
        "cum_disch_energy = np.zeros(days+1)\n",
        "cum_charge_energy = np.zeros(days+1)\n",
        "\n",
        "#########################\n",
        "# Main Program\n",
        "#########################\n",
        "isCharging = True # Initializing the charging vector\n",
        "charging = 0\n",
        "for day in range(days):\n",
        "    b_cap_kwh = b_percent_cap[day] * b_cap/100    \n",
        "    daily_cycle_deg, daily_cal_time,daily_charged_energy = 0,0,0 \n",
        "    \n",
        "    current_energy = soc[current_step]/100 * b_cap_kwh\n",
        "    if current_energy < 2*travel_energy:\n",
        "        isCharging = True\n",
        "    else:\n",
        "        isCharging = False\n",
        "\n",
        "    if isCharging: # Calculate total bill and cycle degradation\n",
        "        charging += 1\n",
        "        charged_energy = upper_th/100 * b_cap_kwh - current_energy\n",
        "        cum_charge_energy[day+1] = cum_charge_energy[day] + charged_energy\n",
        "        current_energy = upper_th * b_cap_kwh\n",
        "        home_charge_time = np.ceil(charged_energy / home_charger)\n",
        "        charge_steps = hour2steps(home_charge_time, del_t)\n",
        "        total_soc_increment = upper_th - soc[current_step]\n",
        "        per_step_increment = total_soc_increment / charge_steps\n",
        "        charged_energy_per_step = charged_energy/charge_steps\n",
        "\n",
        "        home_power = charged_energy_per_step * 60/del_t \n",
        "        b_temp = myTemp(temp[day], home_power)\n",
        "        if b_temp > 273+45:\n",
        "            b_temp = 273+45\n",
        "        b_current = home_power*1000 / b_volt\n",
        "        c_rate = home_power / b_cap_kwh\n",
        "        \n",
        "        # Home bill calculation\n",
        "        for i in range(charge_steps):\n",
        "            soc[current_step+1] = soc[current_step] + per_step_increment\n",
        "            charged_energy = charged_energy_per_step + p1[current_step]*del_t/60\n",
        "            daily_charged_energy += charged_energy\n",
        "            home_bill += charged_energy * purchase_price[current_step % len(purchase_price)]\n",
        "            current_step += 1\n",
        "    # Car will not charge until it leaves the home bu home will consume some energy    \n",
        "    else:\n",
        "        cum_charge_energy[day+1] = cum_charge_energy[day]\n",
        "        home_charge_time = 0\n",
        "        home_cal_time = home_leave_time[day]\n",
        "        daily_cal_time += home_leave_time[day]\n",
        "        home_cal_steps = hour2steps(home_cal_time, del_t)\n",
        "        soc[current_step+1:current_step+home_cal_steps+1] = soc[current_step]\n",
        "\n",
        "        # Home bill calculation\n",
        "        for i in range(home_cal_steps):\n",
        "            charged_energy = p1[current_step] * del_t/60 \n",
        "            daily_charged_energy += charged_energy\n",
        "            home_bill +=  charged_energy * purchase_price[current_step % len(purchase_price)]\n",
        "            current_step += 1\n",
        "\n",
        "        # print(f\"SOC:{soc}\")\n",
        "        # print(f\"charged_energy: {daily_charged_energy}\")\n",
        "\n",
        "    # ==================================\n",
        "    ## 3. Going from home to office\n",
        "    # ==================================\n",
        "    travel_time = 1\n",
        "    travel_steps = hour2steps(travel_time,del_t)\n",
        "    travel_power = travel_energy / travel_time # Const\n",
        "    total_soc_decrement = travel_energy / b_cap_kwh * 100 # fixed soc will decrease as b_cap is fixed\n",
        "    per_step_decrement = total_soc_decrement / travel_steps\n",
        "    b_temp = myTemp(temp[day], travel_power)\n",
        "    if b_temp > 273+45:\n",
        "        b_temp = 273+45\n",
        "    b_current = travel_power*1000 / b_volt\n",
        "    c_rate = travel_power / b_cap_kwh\n",
        "    for i in range(travel_steps):\n",
        "        charged_energy = p1[current_step] * del_t/60 \n",
        "        daily_charged_energy += charged_energy\n",
        "        home_bill += charged_energy * purchase_price[current_step % len(purchase_price)]\n",
        "        daily_cycle_deg += cycle_deg(b_temp, b_current, c_rate, del_t)\n",
        "        soc[current_step+1] = soc[current_step] - per_step_decrement\n",
        "        current_step += 1\n",
        "    daily_cycle_deg *= 2 # from building to home\n",
        "    current_energy -= travel_energy\n",
        "   \n",
        "    # =================================\n",
        "    ## 4. At office\n",
        "    # =================================\n",
        "    build_stand_time = build_dep_time[day] - build_arr_time[day]\n",
        "    build_stand_steps = hour2steps(build_stand_time, del_t)\n",
        "    daily_cal_time += build_stand_time\n",
        "    soc[current_step+1:current_step+build_stand_steps+1] = soc[current_step] # SOC will constant as no self discharge.\n",
        "    # Home bill calculation\n",
        "    for i in range(build_stand_steps):\n",
        "        charged_energy = p1[current_step] * del_t/60 \n",
        "        daily_charged_energy += charged_energy\n",
        "        home_bill += charged_energy * purchase_price[current_step % len(purchase_price)]\n",
        "        current_step += 1\n",
        "\n",
        "    # ==================================\n",
        "    ## 5. Returning from office to home\n",
        "    # ==================================\n",
        "    # Degradation is already calculated(see 3)\n",
        "    for i in range(travel_steps):\n",
        "        charged_energy = p1[current_step] * del_t/60 \n",
        "        daily_charged_energy += charged_energy\n",
        "        home_bill += p1[current_step] * del_t/60 * purchase_price[current_step % len(purchase_price)]\n",
        "        soc[current_step+1] = soc[current_step] - per_step_decrement\n",
        "        current_step += 1\n",
        "    current_energy -= travel_energy\n",
        "\n",
        "    # =================================\n",
        "    ## 6. Discharging at home\n",
        "    # =================================\n",
        "    # Car will park in home for some time(Earlier in this time car used to discharge)\n",
        "    soc[current_step+1:current_step+build_stand_steps+1] = soc[current_step]\n",
        "    home_park_time = 4 # 4h after arriving at home\n",
        "    home_stand_steps = hour2steps(home_park_time, del_t)\n",
        "    # Home bill calculation\n",
        "    for i in range(home_stand_steps):\n",
        "        charged_energy = p1[current_step] * del_t/60 \n",
        "        daily_charged_energy += charged_energy\n",
        "        home_bill += charged_energy * purchase_price[current_step % len(purchase_price)]\n",
        "        current_step += 1\n",
        "    daily_cal_time += home_park_time\n",
        "    \n",
        "    # soc[current_step+1:current_step+build_stand_steps+1] = soc[current_step]\n",
        "    home_stand_time2 = (day+1)*24 - current_step * del_t // 60\n",
        "    home_stand_time2_steps = hour2steps(home_stand_time2, del_t)\n",
        "    soc[current_step+1:current_step+1+home_stand_time2_steps] = soc[current_step] # SOC will constant as no self discharge during standing at home.\n",
        "    # current_step += home_stand_time2_steps #******\n",
        "    daily_cal_time = 24 - home_charge_time - 2*travel_time\n",
        "\n",
        "    for i in range(home_stand_time2_steps):\n",
        "        charged_energy = p1[current_step] * del_t/60 \n",
        "        daily_charged_energy += charged_energy\n",
        "        home_bill += charged_energy * purchase_price[current_step % len(purchase_price)]\n",
        "        current_step += 1\n",
        "    cum_charge_energy[day+1] = cum_charge_energy[day] + daily_charged_energy\n",
        "    # print(f\"current_step: {current_step}, soc[0] = {soc[current_step-24]}\")\n",
        "    # print(current_step, soc)\n",
        "\n",
        "    # =================================\n",
        "    ## 8. Degradation part \n",
        "    # =================================\n",
        "    cum_cal_time[day+1] = cum_cal_time[day] + daily_cal_time \n",
        "    daily_cal_deg = cal_deg2(temp[day], cum_cal_time[day+1]/24) - cal_deg2(temp[day], cum_cal_time[day]/24)  # Cum_deg of total day - previous day degradation\n",
        "    cum_cal_deg[day+1] = cum_cal_deg[day] + daily_cal_deg\n",
        "    cum_cycle_deg[day+1] = cum_cycle_deg[day] + daily_cycle_deg\n",
        "    \n",
        "    daily_total_deg = daily_cal_deg + daily_cycle_deg\n",
        "    b_percent_cap[day+1] = b_percent_cap[day] - daily_total_deg\n",
        "    # print(f\"Energy after 1 day: {daily_charged_energy}\")\n",
        "\n",
        "    # total_deg = cum_cal_deg + cum_cycle_deg\n",
        "\n",
        "total_deg = cum_cal_deg + cum_cycle_deg\n",
        "\n",
        "print(\"=======================\")\n",
        "print(f\"Program time : {days} days\")\n",
        "print(\"=======================\")\n",
        "\n",
        "print(f\"charging happens for {charging} times\")\n",
        "print(f\"Daily charging energy {cum_charge_energy[-1]} kWh\")\n",
        "# print(f\"SOC profile for 1 day: {soc}\")\n",
        "print(f\"home_bill: {home_bill} INR\")\n",
        "# print(f\"home load for  1 day: {p1}\")\n",
        "print(f\"total degradation {total_deg[-1]} %\")\n",
        "\n",
        "plt.bar(time, cum_charge_energy)\n",
        "\n"
      ],
      "execution_count": null,
      "outputs": [
        {
          "output_type": "stream",
          "text": [
            "=======================\n",
            "Program time : 365 days\n",
            "=======================\n",
            "charging happens for 121 times\n",
            "Daily charging energy 10325.556654186386 kWh\n",
            "home_bill: 68898.97175871849 INR\n",
            "total degradation 2.954769482252749 %\n"
          ],
          "name": "stdout"
        },
        {
          "output_type": "execute_result",
          "data": {
            "text/plain": [
              "<BarContainer object of 366 artists>"
            ]
          },
          "metadata": {
            "tags": []
          },
          "execution_count": 22
        },
        {
          "output_type": "display_data",
          "data": {
            "image/png": "[encoded data removed]",
            "text/plain": [
              "<Figure size 432x288 with 1 Axes>"
            ]
          },
          "metadata": {
            "tags": [],
            "needs_background": "light"
          }
        }
      ]
    },
    {
      "cell_type": "code",
      "metadata": {
        "colab": {
          "base_uri": "https://localhost:8080/",
          "height": 404
        },
        "id": "sHh05xAa3V1W",
        "outputId": "01ed97dc-8610-4bf9-b20f-0a42bbc8d480"
      },
      "source": [
        "days = 1 * 365\n",
        "time = np.arange(0,days+1)\n",
        "p1 = pow_df.H1.values[:24*days]\n",
        "# p1 = [2,2,1,1,1,2,2,3,3,4,4,5,5,4,4,4,5,6,6,-1,2,2,3,3]\n",
        "new_p1 = list(p1)\n",
        "del_t = 60 #min\n",
        "steps = days*24*60//del_t\n",
        "\n",
        "b_cap = 30.2 # kWh\n",
        "b_volt = 320\n",
        "travel_energy = 30 * 0.126\n",
        "upper_th = 95 # upper SOC threshold\n",
        "lower_th = 20 # lower SOC threshold\n",
        "\n",
        "build_arr_time = np.random.randint( 10,11, size = days )\n",
        "build_dep_time = np.random.randint( 16,17, size = days )\n",
        "home_leave_time = np.random.randint( 9,10, size = days ) # No randomness\n",
        "home_arr_time = np.random.randint( 17,18, size = days ) # EV arrived 5.00 pm at home\n",
        "\n",
        "home_charger = 3.3 # kW\n",
        "rth = 2 # Celcius/kW\n",
        "\n",
        "b_percent_cap = np.zeros(len(p1)+1)\n",
        "b_percent_cap[0] = 100\n",
        "\n",
        "soc = np.zeros(len(p1)+1)\n",
        "soc[0] = 50\n",
        "\n",
        "current_step= home_bill = 0\n",
        "\n",
        "cum_cal_time = np.zeros(days+1)\n",
        "cum_cal_deg = np.zeros(days+1)\n",
        "cum_cycle_deg = np.zeros(days+1)\n",
        "cum_disch_energy = np.zeros(days+1)\n",
        "cum_charge_energy = np.zeros(days+1)\n",
        "\n",
        "#########################\n",
        "# Main Program\n",
        "#########################\n",
        "isCharging = True # Initializing the charging vector\n",
        "charging = 0\n",
        "for day in range(days):\n",
        "    b_cap_kwh = b_percent_cap[day] * b_cap/100    \n",
        "    daily_cycle_deg, daily_cal_time = 0,0 \n",
        "    daily_charged_energy = 0\n",
        "    \n",
        "    current_energy = soc[current_step]/100 * b_cap_kwh\n",
        "    if current_energy < 2*travel_energy:\n",
        "        isCharging = True\n",
        "    else:\n",
        "        isCharging = False\n",
        "\n",
        "    if isCharging: # Calculate total bill and cycle degradation\n",
        "        charging += 1\n",
        "        charged_energy = upper_th/100 * b_cap_kwh - current_energy\n",
        "        cum_charge_energy[day+1] = cum_charge_energy[day] + charged_energy\n",
        "        \n",
        "        current_energy = upper_th * b_cap_kwh\n",
        "        home_charge_time = np.ceil(charged_energy / home_charger)\n",
        "        charge_steps = hour2steps(home_charge_time, del_t)\n",
        "        total_soc_increment = upper_th - soc[current_step]\n",
        "        per_step_increment = total_soc_increment / charge_steps\n",
        "        charged_energy_per_step = charged_energy/charge_steps\n",
        "\n",
        "        b_temp = myTemp(temp[day], home_charger)\n",
        "        if b_temp > 273+45:\n",
        "            b_temp = 273+45\n",
        "        b_current = home_charger*1000 / b_volt\n",
        "        c_rate = home_charger / b_cap_kwh\n",
        "        \n",
        "        for i in range(charge_steps):\n",
        "            soc[current_step+1] = soc[current_step] + per_step_increment\n",
        "            if p1[current_step] > 0:\n",
        "                charged_energy = charged_energy_per_step + p1[current_step]*del_t/60\n",
        "            else:\n",
        "                charged_energy = charged_energy_per_step\n",
        "            daily_charged_energy += charged_energy\n",
        "            home_bill += charged_energy * purchase_price[current_step % len(purchase_price)]\n",
        "            current_step += 1\n",
        "    # Car will not charge until it leaves the home bu home will consume some energy    \n",
        "    else:\n",
        "        cum_charge_energy[day+1] = cum_charge_energy[day]\n",
        "        home_charge_time = 0\n",
        "        home_cal_time = home_leave_time[day]\n",
        "        daily_cal_time += home_leave_time[day]\n",
        "        home_cal_steps = hour2steps(home_cal_time, del_t)\n",
        "        soc[current_step+1:current_step+home_cal_steps+1] = soc[current_step]\n",
        "\n",
        "        # Home bill calculation\n",
        "        for i in range(home_cal_steps):\n",
        "            charged_energy = p1[current_step] * del_t/60 \n",
        "            daily_charged_energy += charged_energy\n",
        "            home_bill +=  charged_energy * purchase_price[current_step % len(purchase_price)]\n",
        "            current_step += 1\n",
        "\n",
        "        # print(f\"SOC:{soc}\")\n",
        "        # print(f\"charged_energy: {daily_charged_energy}\")\n",
        "\n",
        "    # ==================================\n",
        "    ## 3. Going from home to office\n",
        "    # ==================================\n",
        "    travel_time = 1\n",
        "    travel_steps = hour2steps(travel_time,del_t)\n",
        "    travel_power = travel_energy / travel_time # Const\n",
        "    total_soc_decrement = travel_energy / b_cap_kwh * 100 # fixed soc will decrease as b_cap is fixed\n",
        "    per_step_decrement = total_soc_decrement / travel_steps\n",
        "    b_temp = myTemp(temp[day], travel_power)\n",
        "    if b_temp > 273+45:\n",
        "        b_temp = 273+45\n",
        "    b_current = travel_power*1000 / b_volt\n",
        "    c_rate = travel_power / b_cap_kwh\n",
        "    for i in range(travel_steps):\n",
        "        charged_energy = p1[current_step] * del_t/60 \n",
        "        daily_charged_energy += charged_energy\n",
        "        home_bill += charged_energy * purchase_price[current_step % len(purchase_price)]\n",
        "        daily_cycle_deg += cycle_deg(b_temp, b_current, c_rate, del_t)\n",
        "        soc[current_step+1] = soc[current_step] - per_step_decrement\n",
        "        current_step += 1\n",
        "    daily_cycle_deg *= 2 # from building to home\n",
        "    current_energy -= travel_energy\n",
        "   \n",
        "    # =================================\n",
        "    ## 4. At office\n",
        "    # =================================\n",
        "    build_stand_time = build_dep_time[day] - build_arr_time[day]\n",
        "    build_stand_steps = hour2steps(build_stand_time, del_t)\n",
        "    daily_cal_time += build_stand_time\n",
        "    soc[current_step+1:current_step+build_stand_steps+1] = soc[current_step] # SOC will constant as no self discharge.\n",
        "    # Home bill calculation\n",
        "    for i in range(build_stand_steps):\n",
        "        if p1[current_step] > 0:\n",
        "            charged_energy = p1[current_step] * del_t/60 \n",
        "            daily_charged_energy += charged_energy\n",
        "            home_bill += charged_energy * purchase_price[current_step % len(purchase_price)]\n",
        "        current_step += 1\n",
        "\n",
        "    # ==================================\n",
        "    ## 5. Returning from office to home\n",
        "    # ==================================\n",
        "    # Degradation is already calculated(see 3)\n",
        "    for i in range(travel_steps):\n",
        "        soc[current_step+1] = soc[current_step] - per_step_decrement\n",
        "        if p1[current_step] > 0:\n",
        "            charged_energy = p1[current_step] * del_t/60 \n",
        "            daily_charged_energy += charged_energy\n",
        "            home_bill += p1[current_step] * del_t/60 * purchase_price[current_step % len(purchase_price)]\n",
        "        current_step += 1\n",
        "    current_energy -= travel_energy\n",
        "\n",
        "    # =================================\n",
        "    ## 6. Discharging at home\n",
        "    # =================================\n",
        "    # Car will park in home for some time(Earlier in this time car used to discharge)\n",
        "    soc[current_step+1:current_step+build_stand_steps+1] = soc[current_step]\n",
        "    home_park_time = 4 # 4h after arriving at home\n",
        "    home_stand_steps = hour2steps(home_park_time, del_t)\n",
        "    # Home bill calculation\n",
        "    for i in range(home_stand_steps):\n",
        "        if p1[current_step] > 0:\n",
        "            charged_energy = p1[current_step] * del_t/60 \n",
        "            daily_charged_energy += charged_energy\n",
        "            home_bill += charged_energy * purchase_price[current_step % len(purchase_price)]\n",
        "        current_step += 1\n",
        "    daily_cal_time += home_park_time\n",
        "    \n",
        "    # soc[current_step+1:current_step+build_stand_steps+1] = soc[current_step]\n",
        "    home_stand_time2 = (day+1)*24 - current_step * del_t // 60\n",
        "    home_stand_time2_steps = hour2steps(home_stand_time2, del_t)\n",
        "    soc[current_step+1:current_step+1+home_stand_time2_steps] = soc[current_step] # SOC will constant as no self discharge during standing at home.\n",
        "    # current_step += home_stand_time2_steps #******\n",
        "    daily_cal_time = 24 - home_charge_time - 2*travel_time\n",
        "\n",
        "    for i in range(home_stand_time2_steps):\n",
        "        if p1[current_step] > 0:\n",
        "            charged_energy = p1[current_step] * del_t/60 \n",
        "            daily_charged_energy += charged_energy\n",
        "            home_bill += charged_energy * purchase_price[current_step % len(purchase_price)]\n",
        "        current_step += 1\n",
        "    cum_charge_energy[day+1] = cum_charge_energy[day] + daily_charged_energy\n",
        "    # print(f\"current_step: {current_step}, soc[0] = {soc[current_step-24]}\")\n",
        "    # print(current_step, soc)\n",
        "\n",
        "    # =================================\n",
        "    ## 8. Degradation part \n",
        "    # =================================\n",
        "    cum_cal_time[day+1] = cum_cal_time[day] + daily_cal_time \n",
        "    daily_cal_deg = cal_deg2(temp[day], cum_cal_time[day+1]/24) - cal_deg2(temp[day], cum_cal_time[day]/24)  # Cum_deg of total day - previous day degradation\n",
        "    cum_cal_deg[day+1] = cum_cal_deg[day] + daily_cal_deg\n",
        "    cum_cycle_deg[day+1] = cum_cycle_deg[day] + daily_cycle_deg\n",
        "    \n",
        "    daily_total_deg = daily_cal_deg + daily_cycle_deg\n",
        "    b_percent_cap[day+1] = b_percent_cap[day] - daily_total_deg\n",
        "    # print(f\"Energy after 1 day: {daily_charged_energy}\")\n",
        "\n",
        "    # total_deg = cum_cal_deg + cum_cycle_deg\n",
        "\n",
        "total_deg = cum_cal_deg + cum_cycle_deg\n",
        "\n",
        "print(\"=======================\")\n",
        "print(f\"Program time : {days} days\")\n",
        "print(\"=======================\")\n",
        "\n",
        "print(f\"charging happens for {charging} times\")\n",
        "print(f\"Daily charging energy {cum_charge_energy[-1]} kWh\")\n",
        "# print(f\"SOC profile for 1 day: {soc}\")\n",
        "print(f\"home_bill: {home_bill} INR\")\n",
        "# print(f\"home load for  1 day: {p1}\")\n",
        "print(f\"total degradation {total_deg[-1]} %\")\n",
        "\n",
        "plt.bar(time, cum_charge_energy)\n",
        "\n"
      ],
      "execution_count": null,
      "outputs": [
        {
          "output_type": "stream",
          "text": [
            "=======================\n",
            "Program time : 365 days\n",
            "=======================\n",
            "charging happens for 122 times\n",
            "Daily charging energy 11977.611154335451 kWh\n",
            "home_bill: 80696.0616896127 INR\n",
            "total degradation 2.9549207690296484 %\n"
          ],
          "name": "stdout"
        },
        {
          "output_type": "execute_result",
          "data": {
            "text/plain": [
              "<BarContainer object of 366 artists>"
            ]
          },
          "metadata": {
            "tags": []
          },
          "execution_count": 18
        },
        {
          "output_type": "display_data",
          "data": {
            "image/png": "[encoded data removed]",
            "text/plain": [
              "<Figure size 432x288 with 1 Axes>"
            ]
          },
          "metadata": {
            "tags": [],
            "needs_background": "light"
          }
        }
      ]
    },
    {
      "cell_type": "markdown",
      "metadata": {
        "id": "60WGTCJ_r3_s"
      },
      "source": [
        "## Charanbhai Special"
      ]
    },
    {
      "cell_type": "code",
      "metadata": {
        "colab": {
          "base_uri": "https://localhost:8080/"
        },
        "id": "P_CteKUtr8Me",
        "outputId": "94d0852b-f173-4bf2-feb4-87bcd4ec42b1"
      },
      "source": [
        "p = np.array([6,6,6,6,6,6,6,8,8,8,8,7,7,7,7,7,7,7,7,8,8,8,8,6])\n",
        "energy = np.array([1.137,1.109,0.9254,0.859,0.87,0.84,0.82,0.865,0.666,0.154,0.553,0.06,0.474,0.708,0.521,0.726,1.228,1.466,1.29,1.369,2.716,2.865,1.32,0.996])\n",
        "bill=[]\n",
        "degration=np.zeros([24])\n",
        "# print(sum(p*energy))\n",
        "# for day in range()\n",
        "for i in range(366):\n",
        "    bill.append(sum(p*energy))\n",
        "print(sum(bill))"
      ],
      "execution_count": null,
      "outputs": [
        {
          "output_type": "stream",
          "text": [
            "63945.104400000164\n"
          ],
          "name": "stdout"
        }
      ]
    },
    {
      "cell_type": "code",
      "metadata": {
        "id": "dlNW9QUeYcgi",
        "colab": {
          "base_uri": "https://localhost:8080/"
        },
        "outputId": "f2a1a93b-3274-4a8f-8ef6-123580b13759"
      },
      "source": [
        "home_bill_without_ev = 0\n",
        "\n",
        "for t in range(len(p1)):\n",
        "    home_bill_without_ev += p1[t] * purchase_price[t % len(purchase_price)]\n",
        "\n",
        "print(home_bill_without_ev)"
      ],
      "execution_count": null,
      "outputs": [
        {
          "output_type": "stream",
          "text": [
            "52436.104463400115\n"
          ],
          "name": "stdout"
        }
      ]
    },
    {
      "cell_type": "code",
      "metadata": {
        "id": "JA_nZjUCvO1j",
        "colab": {
          "base_uri": "https://localhost:8080/",
          "height": 527
        },
        "outputId": "cdcec927-3ba7-484a-b4df-bebc5bca33e6"
      },
      "source": [
        "plt.figure(figsize = (20,8))\n",
        "plt.rc('xtick',labelsize = 15)\n",
        "plt.rc('ytick',labelsize = 15)\n",
        "# plt.xticks(np.arange(0,len(p1), 24), np.arange(1,days+1))\n",
        "\n",
        "plt.bar(np.arange(len(p1)), p1, color = 'orange', label = 'Before V2H')\n",
        "plt.bar(np.arange(len(p1)),new_p1, color = 'blue', label = \"After V2H\")\n",
        "plt.xlabel(\"Days\", fontsize = 15)\n",
        "plt.ylabel(\"Load(kW)\", fontsize = 15)\n",
        "plt.title(\"Load comparision of V2H an without V2H system\", fontsize = 18, fontweight = 'bold')\n",
        "plt.grid()\n",
        "plt.legend()\n",
        "plt.show()"
      ],
      "execution_count": null,
      "outputs": [
        {
          "output_type": "display_data",
          "data": {
            "image/png": "[encoded data removed]",
            "text/plain": [
              "<Figure size 1440x576 with 1 Axes>"
            ]
          },
          "metadata": {
            "tags": [],
            "needs_background": "light"
          }
        }
      ]
    },
    {
      "cell_type": "code",
      "metadata": {
        "id": "T-cqJm0DPgd5"
      },
      "source": [
        ""
      ],
      "execution_count": null,
      "outputs": []
    }
  ]
}