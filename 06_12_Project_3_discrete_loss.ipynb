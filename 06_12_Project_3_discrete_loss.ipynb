{
 "cells": [
  {
   "cell_type": "markdown",
   "metadata": {
    "id": "BWCeFplPcjjs"
   },
   "source": [
    "## Verifying Calendar Loss"
   ]
  },
  {
   "cell_type": "code",
   "execution_count": 1,
   "metadata": {
    "colab": {
     "base_uri": "https://localhost:8080/",
     "height": 237
    },
    "id": "SwWjOq6Wcm4I",
    "outputId": "632bff0f-55bc-4cf5-8f1a-d44b072b33d0"
   },
   "outputs": [
    {
     "name": "stdout",
     "output_type": "stream",
     "text": [
      "coninuos_loss = 1.3965734896697573 %\n",
      "discrete_loss = 1.4062384734319229 %\n",
      "error = 0.009664983762165624 %\n"
     ]
    }
   ],
   "source": [
    "import numpy as np\n",
    "\n",
    "f, Ea, R, T, t = 14876, 24500, 8.314, 300, 3\n",
    "conti_qloss = f * np.exp( -Ea/(R*T) ) * pow(t,0.5) \n",
    "del_t = 1/24 # day\n",
    "dis_qloss = 0.5 * f * np.exp( -Ea/(R*T) ) * pow(t,0.5) * del_t\n",
    "\n",
    "step = int(t/del_t);\n",
    "loss2 = [0]\n",
    "t = 1/24\n",
    "for i in range(step):\n",
    "    # del_t = 1\n",
    "    t += del_t # day(incremental time)\n",
    "    # loss2 += f * np.exp( -Ea/(R*T) ) * pow(t,0.5) \n",
    "    loss2.append(f * np.exp( -Ea/(R*T) ) * pow(t,0.5))\n",
    "\n",
    "print(\"coninuos_loss =\",conti_qloss,\"%\")\n",
    "print(\"discrete_loss =\",loss2[-1],\"%\")\n",
    "print(\"error =\", abs(conti_qloss - loss2[-1]),\"%\")"
   ]
  },
  {
   "cell_type": "markdown",
   "metadata": {
    "id": "7KYYQZ5hVDfM"
   },
   "source": [
    "# Part 1 project 2020-21"
   ]
  },
  {
   "cell_type": "markdown",
   "metadata": {
    "id": "nwJ7FoiSnzWQ"
   },
   "source": [
    "## **Import necessery libraries**"
   ]
  },
  {
   "cell_type": "code",
   "execution_count": 3,
   "metadata": {
    "id": "4spMatsBeZKi"
   },
   "outputs": [],
   "source": [
    "import decimal\n",
    "import numpy as np\n",
    "import pandas as pd\n",
    "import matplotlib.pyplot as plt\n",
    "import seaborn as sns\n",
    "# from google.colab import files # to download the files\n",
    "import matplotlib\n",
    "import warnings\n",
    "warnings.filterwarnings(action='once')\n",
    "%matplotlib inline\n",
    "# import mpld3\n",
    "# mpld3.enable_notebook()"
   ]
  },
  {
   "cell_type": "code",
   "execution_count": 4,
   "metadata": {
    "id": "LLkuJniQ6LCs"
   },
   "outputs": [
    {
     "name": "stderr",
     "output_type": "stream",
     "text": [
      "/home/hiren/jpyter_dir/jpyter_env/lib/python3.8/site-packages/ipykernel/ipkernel.py:287: DeprecationWarning: `should_run_async` will not call `transform_cell` automatically in the future. Please pass the result to `transformed_cell` argument and any exception that happen during thetransform in `preprocessing_exc_tuple` in IPython 7.17 and above.\n",
      "  and should_run_async(code)\n"
     ]
    }
   ],
   "source": [
    "# # For printing whole dataframe\n",
    "# pd.set_option('display.float_format', lambda x: '%.3f' % x)\n",
    "# pd.set_option('display.max_rows', None)\n",
    "# pd.set_option('display.max_columns', None)\n",
    "# pd.set_option('display.width', None)\n",
    "# pd.set_option('display.max_colwidth', -1)"
   ]
  },
  {
   "cell_type": "code",
   "execution_count": 5,
   "metadata": {
    "id": "5CtiR3bb2xMo"
   },
   "outputs": [],
   "source": [
    "matplotlib.rcParams ;"
   ]
  },
  {
   "cell_type": "code",
   "execution_count": 6,
   "metadata": {
    "id": "_KbceeX12K1g"
   },
   "outputs": [],
   "source": [
    "matplotlib.rcParams['figure.figsize'] = (20,10)\n",
    "matplotlib.rcParams['figure.facecolor'] = 'white'"
   ]
  },
  {
   "cell_type": "markdown",
   "metadata": {
    "id": "GZZK1dy2-tlN"
   },
   "source": [
    "## Defining important functions"
   ]
  },
  {
   "cell_type": "markdown",
   "metadata": {
    "id": "RAB8AtBIigd0"
   },
   "source": [
    "\n",
    "### Degradation functions"
   ]
  },
  {
   "cell_type": "code",
   "execution_count": 7,
   "metadata": {
    "id": "AFzsy4VJMdaj"
   },
   "outputs": [],
   "source": [
    "def cycle_deg(cycle_const, T, b_current, c_rate, del_t):\n",
    "    a,b,c,d,e = cycle_const[0], cycle_const[1], cycle_const[2], cycle_const[3], cycle_const[4]\n",
    "    cells_per_mod = 72\n",
    "\n",
    "    B1 = a*pow(T,2) + b*T + c\n",
    "    B2 = d*T + e\n",
    "    cell_current = b_current / cells_per_mod\n",
    "    cycle_loss = B1 * np.exp(B2 * c_rate) * cell_current * (del_t/60) # del_t in hour\n",
    "    # cycle_loss = B1 * np.exp(B2 * c_rate) * cell_current * (del_t/60) # del_t in hour\n",
    "    return cycle_loss\n",
    "\n",
    "def cal_deg(cal_const, T, t, del_t):\n",
    "    f,Ea,R = cal_const[0], cal_const[1], cal_const[2]\n",
    "    cal_deg = f * np.exp(-Ea/(R*T)) * pow(del_t,0.5)\n",
    "    # cal_deg = 0.5 * f * np.exp(-Ea/(R*T)) * pow(t,-0.5) * (del_t/(60*24)) # del_t in days\n",
    "    return cal_deg\n",
    "\n",
    "def hour2min2hour(hour1, hour2):\n",
    "    \"\"\"\n",
    "    hour1 = arrival time,\n",
    "    hour2 = departure time\n",
    "    \"\"\"\n",
    "    frac_hour1 = hour1 - int(hour1)\n",
    "    frac_hour2 = hour2 - int(hour2)\n",
    "    min = ( (int(hour2) - int(hour1))*60 + (frac_hour2 - frac_hour1)*100 ) / 60\n",
    "    return min\n",
    "\n",
    "def hour2steps(hour,step_size):\n",
    "    \"\"\"\n",
    "    -> Convert hour into minute.Unit of step_size in minutes\n",
    "    -> Divide minutes with step size and u will get steps.\n",
    "    \"\"\"\n",
    "    steps = int(hour * 60 / step_size)\n",
    "    return steps\n",
    "\n",
    "def myplot(xvals,yvals, kind='plot', labels=None,xlab=None,ylab=None,titles=None,colors='b',image_name = 'imag.png',save=False):\n",
    "    plt.rc('xtick',labelsize = 15)\n",
    "    plt.rc('ytick',labelsize = 15)\n",
    "    if kind.lower() == 'bar': \n",
    "        plt.bar(xvals,yvals,label = labels, linewidth = 2, color = colors)\n",
    "    else:\n",
    "        plt.plot(xvals,yvals,label = labels, linewidth = 2, color = colors)\n",
    "    plt.xlabel(xlab,fontsize = 16)\n",
    "    plt.ylabel(ylab,fontsize = 16)\n",
    "    plt.title(titles,fontsize = 18,color = 'black',fontweight = 'bold')\n",
    "    name = image_name\n",
    "    if save:\n",
    "        plt.legend()\n",
    "        plt.grid()\n",
    "        plt.savefig(name,bbox_inches = 'tight',orientation = 'portrait')\n",
    "        files.download(name) \n",
    "    plt.legend()\n",
    "    plt.grid()\n",
    "    plt.show()\n",
    "\n",
    "def print_deg_results(disch_power, disch_time, energy, c_rate, total_deg):\n",
    "    print(f\" disch_power = {disch_power:3f} kW \\n disch_time = {disch_time:3f} h \\n disch_energy = {energy:3f} kWh \\n disc_rate = {c_rate:3f} \\n total_deg = {total_deg:5f} %\")"
   ]
  },
  {
   "cell_type": "markdown",
   "metadata": {
    "id": "LNG6M2UhwFud"
   },
   "source": [
    "## Mounting Google Drive"
   ]
  },
  {
   "cell_type": "markdown",
   "metadata": {
    "id": "nW0fnwjtfxOU"
   },
   "source": [
    "Blocks_total dataframe"
   ]
  },
  {
   "cell_type": "code",
   "execution_count": 9,
   "metadata": {
    "colab": {
     "base_uri": "https://localhost:8080/"
    },
    "id": "6cUW2Ta0T4cj",
    "outputId": "b2e01140-9966-4902-f137-0db355bf9c7c"
   },
   "outputs": [
    {
     "name": "stdout",
     "output_type": "stream",
     "text": [
      "df.shape = (99232, 2)\n",
      "total data points needs to be = 105408\n",
      "missing data =  6176\n",
      "5.859% data is missing\n"
     ]
    }
   ],
   "source": [
    "## Converting into DateTime Object\n",
    "\n",
    "power_df = pd.read_csv('block_totals.csv')\n",
    "power_df['Time'] = pd.to_datetime(power_df['Time'])\n",
    "power_df = power_df[:-115] # Removing 30 Sept 2020 data\n",
    "print(\"df.shape =\",power_df.shape)\n",
    "print(\"total data points needs to be =\",12*24*366)\n",
    "print(\"missing data = \",12*24*366 - len(power_df))\n",
    "print(f\"{(12*24*366 - len(power_df))/(12*24*366) * 100:.3f}% data is missing\")\n",
    "\n",
    "# Removing error from data source, it was showing 644532.57 kW\n",
    "power_df.power_kW[86018] = (power_df.power_kW[86017] + power_df.power_kW[86019])/2"
   ]
  },
  {
   "cell_type": "markdown",
   "metadata": {
    "id": "I558Z8vof3Se"
   },
   "source": [
    "Ambient Temperature and SOC dataframe"
   ]
  },
  {
   "cell_type": "code",
   "execution_count": 12,
   "metadata": {
    "colab": {
     "base_uri": "https://localhost:8080/",
     "height": 206
    },
    "id": "zJM3i44Nf7fm",
    "outputId": "3e3b37ff-be32-4977-9262-60dad7755a81"
   },
   "outputs": [
    {
     "name": "stderr",
     "output_type": "stream",
     "text": [
      "/home/hiren/jpyter_dir/jpyter_env/lib/python3.8/site-packages/ipykernel/ipkernel.py:287: DeprecationWarning: `should_run_async` will not call `transform_cell` automatically in the future. Please pass the result to `transformed_cell` argument and any exception that happen during thetransform in `preprocessing_exc_tuple` in IPython 7.17 and above.\n",
      "  and should_run_async(code)\n"
     ]
    },
    {
     "data": {
      "text/html": [
       "<div>\n",
       "<style scoped>\n",
       "    .dataframe tbody tr th:only-of-type {\n",
       "        vertical-align: middle;\n",
       "    }\n",
       "\n",
       "    .dataframe tbody tr th {\n",
       "        vertical-align: top;\n",
       "    }\n",
       "\n",
       "    .dataframe thead th {\n",
       "        text-align: right;\n",
       "    }\n",
       "</style>\n",
       "<table border=\"1\" class=\"dataframe\">\n",
       "  <thead>\n",
       "    <tr style=\"text-align: right;\">\n",
       "      <th></th>\n",
       "      <th>arr_time</th>\n",
       "      <th>dep_time</th>\n",
       "      <th>soc_initial</th>\n",
       "      <th>soc_final</th>\n",
       "      <th>temp</th>\n",
       "      <th>temp_max</th>\n",
       "      <th>temp_min</th>\n",
       "      <th>Distance travelled</th>\n",
       "      <th>Distance need to travel</th>\n",
       "    </tr>\n",
       "  </thead>\n",
       "  <tbody>\n",
       "    <tr>\n",
       "      <th>0</th>\n",
       "      <td>10</td>\n",
       "      <td>17</td>\n",
       "      <td>0.689</td>\n",
       "      <td>0.481</td>\n",
       "      <td>20.225</td>\n",
       "      <td>29.93</td>\n",
       "      <td>10.52</td>\n",
       "      <td>14</td>\n",
       "      <td>20</td>\n",
       "    </tr>\n",
       "    <tr>\n",
       "      <th>1</th>\n",
       "      <td>9</td>\n",
       "      <td>16</td>\n",
       "      <td>0.705</td>\n",
       "      <td>0.426</td>\n",
       "      <td>21.730</td>\n",
       "      <td>31.00</td>\n",
       "      <td>12.46</td>\n",
       "      <td>20</td>\n",
       "      <td>17</td>\n",
       "    </tr>\n",
       "    <tr>\n",
       "      <th>2</th>\n",
       "      <td>11</td>\n",
       "      <td>15</td>\n",
       "      <td>0.754</td>\n",
       "      <td>0.386</td>\n",
       "      <td>21.725</td>\n",
       "      <td>30.92</td>\n",
       "      <td>12.53</td>\n",
       "      <td>18</td>\n",
       "      <td>15</td>\n",
       "    </tr>\n",
       "    <tr>\n",
       "      <th>3</th>\n",
       "      <td>12</td>\n",
       "      <td>17</td>\n",
       "      <td>0.736</td>\n",
       "      <td>0.464</td>\n",
       "      <td>21.565</td>\n",
       "      <td>31.05</td>\n",
       "      <td>12.08</td>\n",
       "      <td>19</td>\n",
       "      <td>16</td>\n",
       "    </tr>\n",
       "    <tr>\n",
       "      <th>4</th>\n",
       "      <td>11</td>\n",
       "      <td>17</td>\n",
       "      <td>0.689</td>\n",
       "      <td>0.442</td>\n",
       "      <td>21.885</td>\n",
       "      <td>31.29</td>\n",
       "      <td>12.48</td>\n",
       "      <td>18</td>\n",
       "      <td>19</td>\n",
       "    </tr>\n",
       "  </tbody>\n",
       "</table>\n",
       "</div>"
      ],
      "text/plain": [
       "   arr_time  dep_time  soc_initial  soc_final    temp  temp_max  temp_min  \\\n",
       "0        10        17        0.689      0.481  20.225     29.93     10.52   \n",
       "1         9        16        0.705      0.426  21.730     31.00     12.46   \n",
       "2        11        15        0.754      0.386  21.725     30.92     12.53   \n",
       "3        12        17        0.736      0.464  21.565     31.05     12.08   \n",
       "4        11        17        0.689      0.442  21.885     31.29     12.48   \n",
       "\n",
       "   Distance travelled  Distance need to travel  \n",
       "0                  14                       20  \n",
       "1                  20                       17  \n",
       "2                  18                       15  \n",
       "3                  19                       16  \n",
       "4                  18                       19  "
      ]
     },
     "execution_count": 12,
     "metadata": {},
     "output_type": "execute_result"
    }
   ],
   "source": [
    "vehicle_df = pd.read_csv('car_data.csv')\n",
    "vehicle_df.head()"
   ]
  },
  {
   "cell_type": "code",
   "execution_count": 13,
   "metadata": {
    "id": "cB-Caowb9wpw"
   },
   "outputs": [
    {
     "name": "stderr",
     "output_type": "stream",
     "text": [
      "/home/hiren/jpyter_dir/jpyter_env/lib/python3.8/site-packages/ipykernel/ipkernel.py:287: DeprecationWarning: `should_run_async` will not call `transform_cell` automatically in the future. Please pass the result to `transformed_cell` argument and any exception that happen during thetransform in `preprocessing_exc_tuple` in IPython 7.17 and above.\n",
      "  and should_run_async(code)\n"
     ]
    }
   ],
   "source": [
    "# temp = 273 + vehicle_df.temp.values \n",
    "temp = 273 + vehicle_df.temp.values \n",
    "soc_initial = vehicle_df.soc_initial.values\n",
    "soc_final = vehicle_df.soc_final.values\n",
    "int_arr_time = vehicle_df.arr_time.values\n",
    "int_dep_time = vehicle_df.dep_time.values\n",
    "\n",
    "# Formation arr_time and dep_time in string format\n",
    "arr_time = [str(i)+\":00:00\" for i in int_arr_time]\n",
    "dep_time = [str(i)+\":00:00\" for i in int_dep_time]"
   ]
  },
  {
   "cell_type": "markdown",
   "metadata": {
    "id": "cas9YdIU8syJ"
   },
   "source": [
    "### Graph of SOC Profile"
   ]
  },
  {
   "cell_type": "code",
   "execution_count": 16,
   "metadata": {
    "colab": {
     "base_uri": "https://localhost:8080/",
     "height": 616
    },
    "id": "caviwZWn4K4L",
    "outputId": "3fcc2f4f-c684-47a0-84f8-5c0fc8a33272"
   },
   "outputs": [
    {
     "ename": "ValueError",
     "evalue": "The number of FixedLocator locations (13), usually from a call to set_ticks, does not match the number of ticklabels (12).",
     "output_type": "error",
     "traceback": [
      "\u001b[0;31m---------------------------------------------------------------------------\u001b[0m",
      "\u001b[0;31mValueError\u001b[0m                                Traceback (most recent call last)",
      "\u001b[0;32m<ipython-input-16-815158693500>\u001b[0m in \u001b[0;36m<module>\u001b[0;34m\u001b[0m\n\u001b[1;32m      1\u001b[0m \u001b[0mdays\u001b[0m \u001b[0;34m=\u001b[0m \u001b[0mlist\u001b[0m\u001b[0;34m(\u001b[0m\u001b[0mrange\u001b[0m\u001b[0;34m(\u001b[0m\u001b[0;36m1\u001b[0m\u001b[0;34m,\u001b[0m\u001b[0mlen\u001b[0m\u001b[0;34m(\u001b[0m\u001b[0mvehicle_df\u001b[0m\u001b[0;34m)\u001b[0m\u001b[0;34m+\u001b[0m\u001b[0;36m1\u001b[0m\u001b[0;34m)\u001b[0m\u001b[0;34m)\u001b[0m\u001b[0;34m\u001b[0m\u001b[0;34m\u001b[0m\u001b[0m\n\u001b[0;32m----> 2\u001b[0;31m \u001b[0mplt\u001b[0m\u001b[0;34m.\u001b[0m\u001b[0mxticks\u001b[0m\u001b[0;34m(\u001b[0m\u001b[0mnp\u001b[0m\u001b[0;34m.\u001b[0m\u001b[0marange\u001b[0m\u001b[0;34m(\u001b[0m\u001b[0;36m1\u001b[0m\u001b[0;34m,\u001b[0m\u001b[0;36m365\u001b[0m\u001b[0;34m,\u001b[0m\u001b[0;36m30\u001b[0m\u001b[0;34m)\u001b[0m\u001b[0;34m,\u001b[0m \u001b[0;34m'Jan Feb Mar Apr May Jun Jul Aug Sep Oct Nov Dec'\u001b[0m\u001b[0;34m.\u001b[0m\u001b[0msplit\u001b[0m\u001b[0;34m(\u001b[0m\u001b[0;34m)\u001b[0m\u001b[0;34m)\u001b[0m\u001b[0;34m\u001b[0m\u001b[0;34m\u001b[0m\u001b[0m\n\u001b[0m\u001b[1;32m      3\u001b[0m \u001b[0mplt\u001b[0m\u001b[0;34m.\u001b[0m\u001b[0mrc\u001b[0m\u001b[0;34m(\u001b[0m\u001b[0;34m'xtick'\u001b[0m\u001b[0;34m,\u001b[0m\u001b[0mlabelsize\u001b[0m \u001b[0;34m=\u001b[0m \u001b[0;36m15\u001b[0m\u001b[0;34m)\u001b[0m\u001b[0;34m\u001b[0m\u001b[0;34m\u001b[0m\u001b[0m\n\u001b[1;32m      4\u001b[0m \u001b[0mplt\u001b[0m\u001b[0;34m.\u001b[0m\u001b[0mrc\u001b[0m\u001b[0;34m(\u001b[0m\u001b[0;34m'ytick'\u001b[0m\u001b[0;34m,\u001b[0m\u001b[0mlabelsize\u001b[0m \u001b[0;34m=\u001b[0m \u001b[0;36m15\u001b[0m\u001b[0;34m)\u001b[0m\u001b[0;34m\u001b[0m\u001b[0;34m\u001b[0m\u001b[0m\n\u001b[1;32m      5\u001b[0m \u001b[0mplt\u001b[0m\u001b[0;34m.\u001b[0m\u001b[0mbar\u001b[0m\u001b[0;34m(\u001b[0m\u001b[0mdays\u001b[0m\u001b[0;34m,\u001b[0m \u001b[0msoc_initial\u001b[0m\u001b[0;34m*\u001b[0m\u001b[0;36m100\u001b[0m\u001b[0;34m,\u001b[0m \u001b[0malpha\u001b[0m \u001b[0;34m=\u001b[0m \u001b[0;36m0.6\u001b[0m\u001b[0;34m,\u001b[0m \u001b[0mcolor\u001b[0m \u001b[0;34m=\u001b[0m \u001b[0;34m'red'\u001b[0m\u001b[0;34m,\u001b[0m \u001b[0mlabel\u001b[0m \u001b[0;34m=\u001b[0m \u001b[0;34m'soc_arrival'\u001b[0m\u001b[0;34m)\u001b[0m\u001b[0;34m\u001b[0m\u001b[0;34m\u001b[0m\u001b[0m\n",
      "\u001b[0;32m~/jpyter_dir/jpyter_env/lib/python3.8/site-packages/matplotlib/pyplot.py\u001b[0m in \u001b[0;36mxticks\u001b[0;34m(ticks, labels, **kwargs)\u001b[0m\n\u001b[1;32m   1641\u001b[0m         \u001b[0mlabels\u001b[0m \u001b[0;34m=\u001b[0m \u001b[0max\u001b[0m\u001b[0;34m.\u001b[0m\u001b[0mget_xticklabels\u001b[0m\u001b[0;34m(\u001b[0m\u001b[0;34m)\u001b[0m\u001b[0;34m\u001b[0m\u001b[0;34m\u001b[0m\u001b[0m\n\u001b[1;32m   1642\u001b[0m     \u001b[0;32melse\u001b[0m\u001b[0;34m:\u001b[0m\u001b[0;34m\u001b[0m\u001b[0;34m\u001b[0m\u001b[0m\n\u001b[0;32m-> 1643\u001b[0;31m         \u001b[0mlabels\u001b[0m \u001b[0;34m=\u001b[0m \u001b[0max\u001b[0m\u001b[0;34m.\u001b[0m\u001b[0mset_xticklabels\u001b[0m\u001b[0;34m(\u001b[0m\u001b[0mlabels\u001b[0m\u001b[0;34m,\u001b[0m \u001b[0;34m**\u001b[0m\u001b[0mkwargs\u001b[0m\u001b[0;34m)\u001b[0m\u001b[0;34m\u001b[0m\u001b[0;34m\u001b[0m\u001b[0m\n\u001b[0m\u001b[1;32m   1644\u001b[0m     \u001b[0;32mfor\u001b[0m \u001b[0ml\u001b[0m \u001b[0;32min\u001b[0m \u001b[0mlabels\u001b[0m\u001b[0;34m:\u001b[0m\u001b[0;34m\u001b[0m\u001b[0;34m\u001b[0m\u001b[0m\n\u001b[1;32m   1645\u001b[0m         \u001b[0ml\u001b[0m\u001b[0;34m.\u001b[0m\u001b[0mupdate\u001b[0m\u001b[0;34m(\u001b[0m\u001b[0mkwargs\u001b[0m\u001b[0;34m)\u001b[0m\u001b[0;34m\u001b[0m\u001b[0;34m\u001b[0m\u001b[0m\n",
      "\u001b[0;32m~/jpyter_dir/jpyter_env/lib/python3.8/site-packages/matplotlib/axes/_base.py\u001b[0m in \u001b[0;36mwrapper\u001b[0;34m(self, *args, **kwargs)\u001b[0m\n\u001b[1;32m     61\u001b[0m \u001b[0;34m\u001b[0m\u001b[0m\n\u001b[1;32m     62\u001b[0m         \u001b[0;32mdef\u001b[0m \u001b[0mwrapper\u001b[0m\u001b[0;34m(\u001b[0m\u001b[0mself\u001b[0m\u001b[0;34m,\u001b[0m \u001b[0;34m*\u001b[0m\u001b[0margs\u001b[0m\u001b[0;34m,\u001b[0m \u001b[0;34m**\u001b[0m\u001b[0mkwargs\u001b[0m\u001b[0;34m)\u001b[0m\u001b[0;34m:\u001b[0m\u001b[0;34m\u001b[0m\u001b[0;34m\u001b[0m\u001b[0m\n\u001b[0;32m---> 63\u001b[0;31m             \u001b[0;32mreturn\u001b[0m \u001b[0mget_method\u001b[0m\u001b[0;34m(\u001b[0m\u001b[0mself\u001b[0m\u001b[0;34m)\u001b[0m\u001b[0;34m(\u001b[0m\u001b[0;34m*\u001b[0m\u001b[0margs\u001b[0m\u001b[0;34m,\u001b[0m \u001b[0;34m**\u001b[0m\u001b[0mkwargs\u001b[0m\u001b[0;34m)\u001b[0m\u001b[0;34m\u001b[0m\u001b[0;34m\u001b[0m\u001b[0m\n\u001b[0m\u001b[1;32m     64\u001b[0m \u001b[0;34m\u001b[0m\u001b[0m\n\u001b[1;32m     65\u001b[0m         \u001b[0mwrapper\u001b[0m\u001b[0;34m.\u001b[0m\u001b[0m__module__\u001b[0m \u001b[0;34m=\u001b[0m \u001b[0mowner\u001b[0m\u001b[0;34m.\u001b[0m\u001b[0m__module__\u001b[0m\u001b[0;34m\u001b[0m\u001b[0;34m\u001b[0m\u001b[0m\n",
      "\u001b[0;32m~/jpyter_dir/jpyter_env/lib/python3.8/site-packages/matplotlib/cbook/deprecation.py\u001b[0m in \u001b[0;36mwrapper\u001b[0;34m(*args, **kwargs)\u001b[0m\n\u001b[1;32m    449\u001b[0m                 \u001b[0;34m\"parameter will become keyword-only %(removal)s.\"\u001b[0m\u001b[0;34m,\u001b[0m\u001b[0;34m\u001b[0m\u001b[0;34m\u001b[0m\u001b[0m\n\u001b[1;32m    450\u001b[0m                 name=name, obj_type=f\"parameter of {func.__name__}()\")\n\u001b[0;32m--> 451\u001b[0;31m         \u001b[0;32mreturn\u001b[0m \u001b[0mfunc\u001b[0m\u001b[0;34m(\u001b[0m\u001b[0;34m*\u001b[0m\u001b[0margs\u001b[0m\u001b[0;34m,\u001b[0m \u001b[0;34m**\u001b[0m\u001b[0mkwargs\u001b[0m\u001b[0;34m)\u001b[0m\u001b[0;34m\u001b[0m\u001b[0;34m\u001b[0m\u001b[0m\n\u001b[0m\u001b[1;32m    452\u001b[0m \u001b[0;34m\u001b[0m\u001b[0m\n\u001b[1;32m    453\u001b[0m     \u001b[0;32mreturn\u001b[0m \u001b[0mwrapper\u001b[0m\u001b[0;34m\u001b[0m\u001b[0;34m\u001b[0m\u001b[0m\n",
      "\u001b[0;32m~/jpyter_dir/jpyter_env/lib/python3.8/site-packages/matplotlib/axis.py\u001b[0m in \u001b[0;36m_set_ticklabels\u001b[0;34m(self, labels, fontdict, minor, **kwargs)\u001b[0m\n\u001b[1;32m   1791\u001b[0m         \u001b[0;32mif\u001b[0m \u001b[0mfontdict\u001b[0m \u001b[0;32mis\u001b[0m \u001b[0;32mnot\u001b[0m \u001b[0;32mNone\u001b[0m\u001b[0;34m:\u001b[0m\u001b[0;34m\u001b[0m\u001b[0;34m\u001b[0m\u001b[0m\n\u001b[1;32m   1792\u001b[0m             \u001b[0mkwargs\u001b[0m\u001b[0;34m.\u001b[0m\u001b[0mupdate\u001b[0m\u001b[0;34m(\u001b[0m\u001b[0mfontdict\u001b[0m\u001b[0;34m)\u001b[0m\u001b[0;34m\u001b[0m\u001b[0;34m\u001b[0m\u001b[0m\n\u001b[0;32m-> 1793\u001b[0;31m         \u001b[0;32mreturn\u001b[0m \u001b[0mself\u001b[0m\u001b[0;34m.\u001b[0m\u001b[0mset_ticklabels\u001b[0m\u001b[0;34m(\u001b[0m\u001b[0mlabels\u001b[0m\u001b[0;34m,\u001b[0m \u001b[0mminor\u001b[0m\u001b[0;34m=\u001b[0m\u001b[0mminor\u001b[0m\u001b[0;34m,\u001b[0m \u001b[0;34m**\u001b[0m\u001b[0mkwargs\u001b[0m\u001b[0;34m)\u001b[0m\u001b[0;34m\u001b[0m\u001b[0;34m\u001b[0m\u001b[0m\n\u001b[0m\u001b[1;32m   1794\u001b[0m \u001b[0;34m\u001b[0m\u001b[0m\n\u001b[1;32m   1795\u001b[0m     \u001b[0;34m@\u001b[0m\u001b[0mcbook\u001b[0m\u001b[0;34m.\u001b[0m\u001b[0m_make_keyword_only\u001b[0m\u001b[0;34m(\u001b[0m\u001b[0;34m\"3.2\"\u001b[0m\u001b[0;34m,\u001b[0m \u001b[0;34m\"minor\"\u001b[0m\u001b[0;34m)\u001b[0m\u001b[0;34m\u001b[0m\u001b[0;34m\u001b[0m\u001b[0m\n",
      "\u001b[0;32m~/jpyter_dir/jpyter_env/lib/python3.8/site-packages/matplotlib/axis.py\u001b[0m in \u001b[0;36mset_ticklabels\u001b[0;34m(self, ticklabels, minor, **kwargs)\u001b[0m\n\u001b[1;32m   1712\u001b[0m             \u001b[0;31m# remove all tick labels, so only error for > 0 ticklabels\u001b[0m\u001b[0;34m\u001b[0m\u001b[0;34m\u001b[0m\u001b[0;34m\u001b[0m\u001b[0m\n\u001b[1;32m   1713\u001b[0m             \u001b[0;32mif\u001b[0m \u001b[0mlen\u001b[0m\u001b[0;34m(\u001b[0m\u001b[0mlocator\u001b[0m\u001b[0;34m.\u001b[0m\u001b[0mlocs\u001b[0m\u001b[0;34m)\u001b[0m \u001b[0;34m!=\u001b[0m \u001b[0mlen\u001b[0m\u001b[0;34m(\u001b[0m\u001b[0mticklabels\u001b[0m\u001b[0;34m)\u001b[0m \u001b[0;32mand\u001b[0m \u001b[0mlen\u001b[0m\u001b[0;34m(\u001b[0m\u001b[0mticklabels\u001b[0m\u001b[0;34m)\u001b[0m \u001b[0;34m!=\u001b[0m \u001b[0;36m0\u001b[0m\u001b[0;34m:\u001b[0m\u001b[0;34m\u001b[0m\u001b[0;34m\u001b[0m\u001b[0m\n\u001b[0;32m-> 1714\u001b[0;31m                 raise ValueError(\n\u001b[0m\u001b[1;32m   1715\u001b[0m                     \u001b[0;34m\"The number of FixedLocator locations\"\u001b[0m\u001b[0;34m\u001b[0m\u001b[0;34m\u001b[0m\u001b[0m\n\u001b[1;32m   1716\u001b[0m                     \u001b[0;34mf\" ({len(locator.locs)}), usually from a call to\"\u001b[0m\u001b[0;34m\u001b[0m\u001b[0;34m\u001b[0m\u001b[0m\n",
      "\u001b[0;31mValueError\u001b[0m: The number of FixedLocator locations (13), usually from a call to set_ticks, does not match the number of ticklabels (12)."
     ]
    },
    {
     "data": {
      "image/png": "[encoded data removed]",
      "text/plain": [
       "<Figure size 1440x720 with 1 Axes>"
      ]
     },
     "metadata": {},
     "output_type": "display_data"
    }
   ],
   "source": [
    "days = list(range(1,len(vehicle_df)+1))\n",
    "plt.xticks(np.arange(1,365,30), 'Jan Feb Mar Apr May Jun Jul Aug Sep Oct Nov Dec'.split())\n",
    "plt.rc('xtick',labelsize = 15)\n",
    "plt.rc('ytick',labelsize = 15)\n",
    "plt.bar(days, soc_initial*100, alpha = 0.6, color = 'red', label = 'soc_arrival')\n",
    "plt.bar(days, soc_final*100, alpha = 0.6, color = 'blue', label = 'soc-departure')\n",
    "plt.ylabel('SOC(%)', fontsize = 15)\n",
    "plt.title('Annual SOC profile', fontweight = 'bold', fontsize = 18)\n",
    "plt.legend()\n",
    "# plt.savefig(\"annual_soc.png\",bbox_inches = \"tight\")\n",
    "# files.download(\"annual_soc.png\") \n",
    "plt.show()"
   ]
  },
  {
   "cell_type": "code",
   "execution_count": 17,
   "metadata": {
    "colab": {
     "base_uri": "https://localhost:8080/",
     "height": 633
    },
    "id": "FL8vfl-v8r8u",
    "outputId": "5da836c4-9a51-4fc6-fcc5-d018fdcd818f"
   },
   "outputs": [
    {
     "name": "stderr",
     "output_type": "stream",
     "text": [
      "No handles with labels found to put in legend.\n"
     ]
    },
    {
     "data": {
      "image/png": "[encoded data removed]",
      "text/plain": [
       "<Figure size 1440x720 with 1 Axes>"
      ]
     },
     "metadata": {},
     "output_type": "display_data"
    }
   ],
   "source": [
    "plt.xticks(np.arange(1,365,31), 'Jan Feb Mar Apr May Jun Jul Aug Sep Oct Nov Dec'.split())\n",
    "xvals = days\n",
    "yvals = temp\n",
    "ylab = 'Temperature(K)';  title = \"Annual ambient temperature profile\"; \n",
    "\n",
    "myplot(days, temp, ylab=ylab, titles=title, colors = 'red', image_name='annual_temp.png', save=False)"
   ]
  },
  {
   "cell_type": "markdown",
   "metadata": {
    "id": "2IL4MXYWs8gz"
   },
   "source": [
    "## Data Preprocessing"
   ]
  },
  {
   "cell_type": "markdown",
   "metadata": {
    "id": "0a_jGwmhreSK"
   },
   "source": [
    "#### Data from 30-09-2019 to 29-09-2020 (366 days)\n",
    "2020 was a leap year."
   ]
  },
  {
   "cell_type": "markdown",
   "metadata": {
    "id": "lTz2ucUrZUiK"
   },
   "source": [
    "### Playing with Dataframe"
   ]
  },
  {
   "cell_type": "code",
   "execution_count": 18,
   "metadata": {
    "colab": {
     "base_uri": "https://localhost:8080/"
    },
    "id": "GuBIjXLpM2qB",
    "outputId": "4c5cfd31-4abb-4ffa-8238-56a4e38ffdd1"
   },
   "outputs": [
    {
     "name": "stderr",
     "output_type": "stream",
     "text": [
      "/home/hiren/jpyter_dir/jpyter_env/lib/python3.8/site-packages/ipykernel/ipkernel.py:287: DeprecationWarning: `should_run_async` will not call `transform_cell` automatically in the future. Please pass the result to `transformed_cell` argument and any exception that happen during thetransform in `preprocessing_exc_tuple` in IPython 7.17 and above.\n",
      "  and should_run_async(code)\n"
     ]
    },
    {
     "data": {
      "text/plain": [
       "Time        datetime64[ns]\n",
       "power_kW           float64\n",
       "dtype: object"
      ]
     },
     "execution_count": 18,
     "metadata": {},
     "output_type": "execute_result"
    }
   ],
   "source": [
    "power_df.dtypes "
   ]
  },
  {
   "cell_type": "markdown",
   "metadata": {
    "id": "Z4JdSTnVa5Ce"
   },
   "source": [
    "### Handling missing timestamp"
   ]
  },
  {
   "cell_type": "markdown",
   "metadata": {
    "id": "AwrY9dLccPaS"
   },
   "source": [
    "if Timestamp is not index of dataframe"
   ]
  },
  {
   "cell_type": "code",
   "execution_count": 19,
   "metadata": {
    "colab": {
     "base_uri": "https://localhost:8080/",
     "height": 380
    },
    "id": "LiGZW2QFcXkL",
    "outputId": "aed7d7d1-e27c-4f50-921b-fcddc2c70e72"
   },
   "outputs": [
    {
     "name": "stderr",
     "output_type": "stream",
     "text": [
      "<ipython-input-19-e7c2bca6e5c5>:2: FutureWarning: 'base' in .resample() and in Grouper() is deprecated.\n",
      "The new arguments that you should use are 'offset' or 'origin'.\n",
      "\n",
      ">>> df.resample(freq=\"3s\", base=2)\n",
      "\n",
      "becomes:\n",
      "\n",
      ">>> df.resample(freq=\"3s\", offset=\"2s\")\n",
      "\n",
      "  power_df = power_df.resample(str(60 * min) + 'S', on = 'Time', base = 0).mean();\n"
     ]
    },
    {
     "data": {
      "text/html": [
       "<div>\n",
       "<style scoped>\n",
       "    .dataframe tbody tr th:only-of-type {\n",
       "        vertical-align: middle;\n",
       "    }\n",
       "\n",
       "    .dataframe tbody tr th {\n",
       "        vertical-align: top;\n",
       "    }\n",
       "\n",
       "    .dataframe thead th {\n",
       "        text-align: right;\n",
       "    }\n",
       "</style>\n",
       "<table border=\"1\" class=\"dataframe\">\n",
       "  <thead>\n",
       "    <tr style=\"text-align: right;\">\n",
       "      <th></th>\n",
       "      <th>Time</th>\n",
       "      <th>power_kW</th>\n",
       "    </tr>\n",
       "  </thead>\n",
       "  <tbody>\n",
       "    <tr>\n",
       "      <th>0</th>\n",
       "      <td>2019-09-30 00:00:00</td>\n",
       "      <td>272.8954</td>\n",
       "    </tr>\n",
       "    <tr>\n",
       "      <th>1</th>\n",
       "      <td>2019-09-30 00:05:00</td>\n",
       "      <td>273.5255</td>\n",
       "    </tr>\n",
       "    <tr>\n",
       "      <th>2</th>\n",
       "      <td>2019-09-30 00:10:00</td>\n",
       "      <td>274.5477</td>\n",
       "    </tr>\n",
       "    <tr>\n",
       "      <th>3</th>\n",
       "      <td>2019-09-30 00:15:00</td>\n",
       "      <td>275.4971</td>\n",
       "    </tr>\n",
       "    <tr>\n",
       "      <th>4</th>\n",
       "      <td>2019-09-30 00:20:00</td>\n",
       "      <td>274.5478</td>\n",
       "    </tr>\n",
       "  </tbody>\n",
       "</table>\n",
       "</div>"
      ],
      "text/plain": [
       "                 Time  power_kW\n",
       "0 2019-09-30 00:00:00  272.8954\n",
       "1 2019-09-30 00:05:00  273.5255\n",
       "2 2019-09-30 00:10:00  274.5477\n",
       "3 2019-09-30 00:15:00  275.4971\n",
       "4 2019-09-30 00:20:00  274.5478"
      ]
     },
     "execution_count": 19,
     "metadata": {},
     "output_type": "execute_result"
    }
   ],
   "source": [
    "min = 5\n",
    "power_df = power_df.resample(str(60 * min) + 'S', on = 'Time', base = 0).mean();\n",
    "power_df = power_df.reset_index()\n",
    "power_df.head()"
   ]
  },
  {
   "cell_type": "markdown",
   "metadata": {
    "id": "_Gz7YQlXdAzH"
   },
   "source": [
    "### Interpolating missing values"
   ]
  },
  {
   "cell_type": "code",
   "execution_count": 20,
   "metadata": {
    "colab": {
     "base_uri": "https://localhost:8080/"
    },
    "id": "Y7ZAc5dfcCMW",
    "outputId": "3b32ffc0-6e5c-498a-9eb0-ecef59bee45a"
   },
   "outputs": [
    {
     "name": "stdout",
     "output_type": "stream",
     "text": [
      "power_df.shape = (105408, 2)\n"
     ]
    },
    {
     "name": "stderr",
     "output_type": "stream",
     "text": [
      "/home/hiren/jpyter_dir/jpyter_env/lib/python3.8/site-packages/ipykernel/ipkernel.py:287: DeprecationWarning: `should_run_async` will not call `transform_cell` automatically in the future. Please pass the result to `transformed_cell` argument and any exception that happen during thetransform in `preprocessing_exc_tuple` in IPython 7.17 and above.\n",
      "  and should_run_async(code)\n"
     ]
    },
    {
     "data": {
      "text/plain": [
       "Time        0\n",
       "power_kW    0\n",
       "dtype: int64"
      ]
     },
     "execution_count": 20,
     "metadata": {},
     "output_type": "execute_result"
    }
   ],
   "source": [
    "power_df.interpolate(method = 'linear', inplace = True)\n",
    "print(\"power_df.shape = \" + str(power_df.shape))\n",
    "\n",
    "# Checking for Null values\n",
    "power_df.isnull().sum()"
   ]
  },
  {
   "cell_type": "code",
   "execution_count": 21,
   "metadata": {
    "colab": {
     "base_uri": "https://localhost:8080/"
    },
    "id": "SwhBurNVxJvj",
    "outputId": "ca5351a1-180f-4ea8-9b59-6327c994fe4e"
   },
   "outputs": [
    {
     "data": {
      "text/plain": [
       "(                 Time  power_kW  year  month\n",
       " 0 2019-09-30 00:00:00  272.8954  2019      9\n",
       " 1 2019-09-30 00:05:00  273.5255  2019      9\n",
       " 2 2019-09-30 00:10:00  274.5477  2019      9\n",
       " 3 2019-09-30 00:15:00  275.4971  2019      9\n",
       " 4 2019-09-30 00:20:00  274.5478  2019      9,\n",
       " (105408, 4))"
      ]
     },
     "execution_count": 21,
     "metadata": {},
     "output_type": "execute_result"
    }
   ],
   "source": [
    "power_df['year'] = power_df['Time'].dt.year\n",
    "power_df['month'] = power_df['Time'].dt.month\n",
    "# power_df['day of week'] = power_df['Time'].dt.dayofweek\n",
    "day_map = {\n",
    "    0: 'Sun',\n",
    "    1: 'Mon',\n",
    "    2: 'Tue',\n",
    "    3: 'Wed',\n",
    "    4: 'Thu',\n",
    "    5: 'Fri',\n",
    "    6: 'Sat',\n",
    "}\n",
    "\n",
    "# power_df['day_name'] = power_df['Time'].dt.weekday.map(day_map)\n",
    "power_df.head(), power_df.shape"
   ]
  },
  {
   "cell_type": "code",
   "execution_count": 22,
   "metadata": {
    "colab": {
     "base_uri": "https://localhost:8080/"
    },
    "id": "rQrujsprPD7A",
    "outputId": "be0faa34-899e-4786-d7da-c0ab2a62c0de"
   },
   "outputs": [
    {
     "name": "stderr",
     "output_type": "stream",
     "text": [
      "/home/hiren/jpyter_dir/jpyter_env/lib/python3.8/site-packages/ipykernel/ipkernel.py:287: DeprecationWarning: `should_run_async` will not call `transform_cell` automatically in the future. Please pass the result to `transformed_cell` argument and any exception that happen during thetransform in `preprocessing_exc_tuple` in IPython 7.17 and above.\n",
      "  and should_run_async(code)\n",
      "<ipython-input-22-5d03eed69984>:1: SettingWithCopyWarning: \n",
      "A value is trying to be set on a copy of a slice from a DataFrame\n",
      "\n",
      "See the caveats in the documentation: https://pandas.pydata.org/pandas-docs/stable/user_guide/indexing.html#returning-a-view-versus-a-copy\n",
      "  power_df.power_kW[15701] = (power_df.power_kW[15700] + power_df.power_kW[15702])/2\n"
     ]
    }
   ],
   "source": [
    "power_df.power_kW[15701] = (power_df.power_kW[15700] + power_df.power_kW[15702])/2\n",
    "power_df.power_kW[81976] = (power_df.power_kW[81975] + power_df.power_kW[81977])/2\n",
    "power_df.power_kW[86018] = (power_df.power_kW[86017] + power_df.power_kW[86019])/2\n",
    "power_df.power_kW[98901] = (power_df.power_kW[98900] + power_df.power_kW[98902])/2"
   ]
  },
  {
   "cell_type": "code",
   "execution_count": 23,
   "metadata": {
    "colab": {
     "base_uri": "https://localhost:8080/",
     "height": 616
    },
    "id": "7f3icsx5YqcD",
    "outputId": "071b0bbe-c9f7-4666-8f2c-aeb75c192eaa"
   },
   "outputs": [
    {
     "data": {
      "image/png": "[encoded data removed]",
      "text/plain": [
       "<Figure size 1440x720 with 1 Axes>"
      ]
     },
     "metadata": {},
     "output_type": "display_data"
    }
   ],
   "source": [
    "infos = power_df.groupby(power_df.month).describe()\n",
    "idx = pd.IndexSlice\n",
    "monthly_max = infos.loc[:,idx[:,'max']].power_kW\n",
    "monthly_avg = infos.loc[:,idx[:,'mean']].power_kW\n",
    "\n",
    "monthly_max = [366.812 ,\n",
    "       378.6985,\n",
    "       399.4743,\n",
    "       246.2416,\n",
    "       269.3244,\n",
    "       251.4524,\n",
    "       241.8515,\n",
    "       233.7269,\n",
    "       383.3913,\n",
    "       398.7207,\n",
    "       391.8083,\n",
    "       385.2962]\n",
    "\n",
    "monthly_avg = [237.86416412,\n",
    "       263.70647434,\n",
    "       227.31977774,\n",
    "       181.52795604,\n",
    "       198.39928672,\n",
    "       176.91045475,\n",
    "       176.59390655,\n",
    "       166.22365509,\n",
    "       198.78110799,\n",
    "       269.64182736,\n",
    "       260.41158466,\n",
    "       254.18240651]\n",
    "\n",
    "# plt.bar(months, monthly_avg)\n",
    "months = list(range(1,13))\n",
    "plt.xticks(np.arange(1,13), np.arange(1,13))\n",
    "plt.xticks(np.arange(1,13), 'Jan Feb Mar Apr May jun Jul Aug Sep Oct Nov Dec'.split())\n",
    "# plt.xtciks()\n",
    "plt.rc('xtick',labelsize = 15)\n",
    "plt.rc('ytick',labelsize = 15)\n",
    "\n",
    "plt.bar(months, monthly_avg, alpha = 0.6, color = 'green', label = 'monthly_avg')\n",
    "plt.bar(months, monthly_max, alpha = 0.35, color = 'blue', label = 'monthly_max')\n",
    "# plt.xlabel('months', fontsize = 15)\n",
    "plt.ylabel('load(kW', fontsize = 15)\n",
    "plt.title('Monthly average and maximum load', fontweight = 'bold', fontsize = 18)\n",
    "plt.legend()\n",
    "# plt.savefig(\"monthly_stats.png\",bbox_inches = \"tight\")\n",
    "# files.download(\"monthly_stats.png\") \n",
    "plt.show()"
   ]
  },
  {
   "cell_type": "markdown",
   "metadata": {
    "id": "Z22WABfl_beO"
   },
   "source": [
    "## **Data Analysis from 17-09-2020 to 23-09-2020**"
   ]
  },
  {
   "cell_type": "markdown",
   "metadata": {
    "id": "K4gZ1ZKaHpVU"
   },
   "source": [
    "### Data of 17-09-2020"
   ]
  },
  {
   "cell_type": "code",
   "execution_count": 24,
   "metadata": {
    "colab": {
     "base_uri": "https://localhost:8080/",
     "height": 224
    },
    "id": "HGAakFLAxuNC",
    "outputId": "69779bb3-0730-4d69-a990-f6742eaf666e"
   },
   "outputs": [
    {
     "name": "stdout",
     "output_type": "stream",
     "text": [
      "vehicle_df.shape = (365, 9)\n"
     ]
    },
    {
     "data": {
      "text/html": [
       "<div>\n",
       "<style scoped>\n",
       "    .dataframe tbody tr th:only-of-type {\n",
       "        vertical-align: middle;\n",
       "    }\n",
       "\n",
       "    .dataframe tbody tr th {\n",
       "        vertical-align: top;\n",
       "    }\n",
       "\n",
       "    .dataframe thead th {\n",
       "        text-align: right;\n",
       "    }\n",
       "</style>\n",
       "<table border=\"1\" class=\"dataframe\">\n",
       "  <thead>\n",
       "    <tr style=\"text-align: right;\">\n",
       "      <th></th>\n",
       "      <th>Time</th>\n",
       "      <th>power_kW</th>\n",
       "      <th>year</th>\n",
       "      <th>month</th>\n",
       "    </tr>\n",
       "  </thead>\n",
       "  <tbody>\n",
       "    <tr>\n",
       "      <th>101664</th>\n",
       "      <td>2020-09-17 00:00:00</td>\n",
       "      <td>181.3058</td>\n",
       "      <td>2020</td>\n",
       "      <td>9</td>\n",
       "    </tr>\n",
       "    <tr>\n",
       "      <th>101665</th>\n",
       "      <td>2020-09-17 00:05:00</td>\n",
       "      <td>184.7308</td>\n",
       "      <td>2020</td>\n",
       "      <td>9</td>\n",
       "    </tr>\n",
       "    <tr>\n",
       "      <th>101666</th>\n",
       "      <td>2020-09-17 00:10:00</td>\n",
       "      <td>175.0455</td>\n",
       "      <td>2020</td>\n",
       "      <td>9</td>\n",
       "    </tr>\n",
       "    <tr>\n",
       "      <th>101667</th>\n",
       "      <td>2020-09-17 00:15:00</td>\n",
       "      <td>173.8043</td>\n",
       "      <td>2020</td>\n",
       "      <td>9</td>\n",
       "    </tr>\n",
       "    <tr>\n",
       "      <th>101668</th>\n",
       "      <td>2020-09-17 00:20:00</td>\n",
       "      <td>172.9643</td>\n",
       "      <td>2020</td>\n",
       "      <td>9</td>\n",
       "    </tr>\n",
       "  </tbody>\n",
       "</table>\n",
       "</div>"
      ],
      "text/plain": [
       "                      Time  power_kW  year  month\n",
       "101664 2020-09-17 00:00:00  181.3058  2020      9\n",
       "101665 2020-09-17 00:05:00  184.7308  2020      9\n",
       "101666 2020-09-17 00:10:00  175.0455  2020      9\n",
       "101667 2020-09-17 00:15:00  173.8043  2020      9\n",
       "101668 2020-09-17 00:20:00  172.9643  2020      9"
      ]
     },
     "execution_count": 24,
     "metadata": {},
     "output_type": "execute_result"
    }
   ],
   "source": [
    "start_index = power_df[power_df.Time == '2020-09-17 00:00:00'].index.values[0]\n",
    "tmp_df = power_df[start_index:start_index + 288*7][:288] # for 1 day\n",
    "print(\"vehicle_df.shape =\",vehicle_df.shape)\n",
    "tmp_df.head()"
   ]
  },
  {
   "cell_type": "markdown",
   "metadata": {
    "id": "-XvucoOmem8V"
   },
   "source": [
    "## Data Visulization"
   ]
  },
  {
   "cell_type": "code",
   "execution_count": 26,
   "metadata": {
    "colab": {
     "base_uri": "https://localhost:8080/",
     "height": 636
    },
    "id": "DaUd2HHL1MkS",
    "outputId": "f5422956-4afc-4e13-d5c1-12c3240d716d"
   },
   "outputs": [
    {
     "ename": "ValueError",
     "evalue": "The number of FixedLocator locations (26), usually from a call to set_ticks, does not match the number of ticklabels (25).",
     "output_type": "error",
     "traceback": [
      "\u001b[0;31m---------------------------------------------------------------------------\u001b[0m",
      "\u001b[0;31mValueError\u001b[0m                                Traceback (most recent call last)",
      "\u001b[0;32m<ipython-input-26-fe9ec9a36c2f>\u001b[0m in \u001b[0;36m<module>\u001b[0;34m\u001b[0m\n\u001b[1;32m     11\u001b[0m \u001b[0mplt\u001b[0m\u001b[0;34m.\u001b[0m\u001b[0mfigure\u001b[0m\u001b[0;34m(\u001b[0m\u001b[0mfigsize\u001b[0m \u001b[0;34m=\u001b[0m \u001b[0;34m(\u001b[0m\u001b[0;36m20\u001b[0m\u001b[0;34m,\u001b[0m\u001b[0;36m10\u001b[0m\u001b[0;34m)\u001b[0m\u001b[0;34m,\u001b[0m \u001b[0mfacecolor\u001b[0m \u001b[0;34m=\u001b[0m \u001b[0;34m'white'\u001b[0m\u001b[0;34m)\u001b[0m\u001b[0;34m\u001b[0m\u001b[0;34m\u001b[0m\u001b[0m\n\u001b[1;32m     12\u001b[0m \u001b[0;31m# plt.xticks(np.linspace(0,len(power_df),), list(range(0,int(24*60/stepsize),5)))\u001b[0m\u001b[0;34m\u001b[0m\u001b[0;34m\u001b[0m\u001b[0;34m\u001b[0m\u001b[0m\n\u001b[0;32m---> 13\u001b[0;31m \u001b[0mplt\u001b[0m\u001b[0;34m.\u001b[0m\u001b[0mxticks\u001b[0m\u001b[0;34m(\u001b[0m\u001b[0mnp\u001b[0m\u001b[0;34m.\u001b[0m\u001b[0marange\u001b[0m\u001b[0;34m(\u001b[0m\u001b[0;36m0\u001b[0m\u001b[0;34m,\u001b[0m\u001b[0;36m24\u001b[0m\u001b[0;34m*\u001b[0m\u001b[0;34m(\u001b[0m\u001b[0;36m12\u001b[0m\u001b[0;34m+\u001b[0m\u001b[0;36m1\u001b[0m\u001b[0;34m)\u001b[0m\u001b[0;34m,\u001b[0m\u001b[0;36m12\u001b[0m\u001b[0;34m)\u001b[0m\u001b[0;34m,\u001b[0m \u001b[0mnp\u001b[0m\u001b[0;34m.\u001b[0m\u001b[0marange\u001b[0m\u001b[0;34m(\u001b[0m\u001b[0;36m0\u001b[0m\u001b[0;34m,\u001b[0m\u001b[0;36m24\u001b[0m\u001b[0;34m+\u001b[0m\u001b[0;36m1\u001b[0m\u001b[0;34m)\u001b[0m\u001b[0;34m)\u001b[0m\u001b[0;34m\u001b[0m\u001b[0;34m\u001b[0m\u001b[0m\n\u001b[0m\u001b[1;32m     14\u001b[0m \u001b[0;31m# xlab = 'Jan Feb Mar Apr May June July Aug Sep oct Nov Dec'.split()\u001b[0m\u001b[0;34m\u001b[0m\u001b[0;34m\u001b[0m\u001b[0;34m\u001b[0m\u001b[0m\n\u001b[1;32m     15\u001b[0m \u001b[0mplt\u001b[0m\u001b[0;34m.\u001b[0m\u001b[0mrc\u001b[0m\u001b[0;34m(\u001b[0m\u001b[0;34m'xtick'\u001b[0m\u001b[0;34m,\u001b[0m\u001b[0mlabelsize\u001b[0m \u001b[0;34m=\u001b[0m \u001b[0;36m15\u001b[0m\u001b[0;34m)\u001b[0m\u001b[0;34m\u001b[0m\u001b[0;34m\u001b[0m\u001b[0m\n",
      "\u001b[0;32m~/jpyter_dir/jpyter_env/lib/python3.8/site-packages/matplotlib/pyplot.py\u001b[0m in \u001b[0;36mxticks\u001b[0;34m(ticks, labels, **kwargs)\u001b[0m\n\u001b[1;32m   1641\u001b[0m         \u001b[0mlabels\u001b[0m \u001b[0;34m=\u001b[0m \u001b[0max\u001b[0m\u001b[0;34m.\u001b[0m\u001b[0mget_xticklabels\u001b[0m\u001b[0;34m(\u001b[0m\u001b[0;34m)\u001b[0m\u001b[0;34m\u001b[0m\u001b[0;34m\u001b[0m\u001b[0m\n\u001b[1;32m   1642\u001b[0m     \u001b[0;32melse\u001b[0m\u001b[0;34m:\u001b[0m\u001b[0;34m\u001b[0m\u001b[0;34m\u001b[0m\u001b[0m\n\u001b[0;32m-> 1643\u001b[0;31m         \u001b[0mlabels\u001b[0m \u001b[0;34m=\u001b[0m \u001b[0max\u001b[0m\u001b[0;34m.\u001b[0m\u001b[0mset_xticklabels\u001b[0m\u001b[0;34m(\u001b[0m\u001b[0mlabels\u001b[0m\u001b[0;34m,\u001b[0m \u001b[0;34m**\u001b[0m\u001b[0mkwargs\u001b[0m\u001b[0;34m)\u001b[0m\u001b[0;34m\u001b[0m\u001b[0;34m\u001b[0m\u001b[0m\n\u001b[0m\u001b[1;32m   1644\u001b[0m     \u001b[0;32mfor\u001b[0m \u001b[0ml\u001b[0m \u001b[0;32min\u001b[0m \u001b[0mlabels\u001b[0m\u001b[0;34m:\u001b[0m\u001b[0;34m\u001b[0m\u001b[0;34m\u001b[0m\u001b[0m\n\u001b[1;32m   1645\u001b[0m         \u001b[0ml\u001b[0m\u001b[0;34m.\u001b[0m\u001b[0mupdate\u001b[0m\u001b[0;34m(\u001b[0m\u001b[0mkwargs\u001b[0m\u001b[0;34m)\u001b[0m\u001b[0;34m\u001b[0m\u001b[0;34m\u001b[0m\u001b[0m\n",
      "\u001b[0;32m~/jpyter_dir/jpyter_env/lib/python3.8/site-packages/matplotlib/axes/_base.py\u001b[0m in \u001b[0;36mwrapper\u001b[0;34m(self, *args, **kwargs)\u001b[0m\n\u001b[1;32m     61\u001b[0m \u001b[0;34m\u001b[0m\u001b[0m\n\u001b[1;32m     62\u001b[0m         \u001b[0;32mdef\u001b[0m \u001b[0mwrapper\u001b[0m\u001b[0;34m(\u001b[0m\u001b[0mself\u001b[0m\u001b[0;34m,\u001b[0m \u001b[0;34m*\u001b[0m\u001b[0margs\u001b[0m\u001b[0;34m,\u001b[0m \u001b[0;34m**\u001b[0m\u001b[0mkwargs\u001b[0m\u001b[0;34m)\u001b[0m\u001b[0;34m:\u001b[0m\u001b[0;34m\u001b[0m\u001b[0;34m\u001b[0m\u001b[0m\n\u001b[0;32m---> 63\u001b[0;31m             \u001b[0;32mreturn\u001b[0m \u001b[0mget_method\u001b[0m\u001b[0;34m(\u001b[0m\u001b[0mself\u001b[0m\u001b[0;34m)\u001b[0m\u001b[0;34m(\u001b[0m\u001b[0;34m*\u001b[0m\u001b[0margs\u001b[0m\u001b[0;34m,\u001b[0m \u001b[0;34m**\u001b[0m\u001b[0mkwargs\u001b[0m\u001b[0;34m)\u001b[0m\u001b[0;34m\u001b[0m\u001b[0;34m\u001b[0m\u001b[0m\n\u001b[0m\u001b[1;32m     64\u001b[0m \u001b[0;34m\u001b[0m\u001b[0m\n\u001b[1;32m     65\u001b[0m         \u001b[0mwrapper\u001b[0m\u001b[0;34m.\u001b[0m\u001b[0m__module__\u001b[0m \u001b[0;34m=\u001b[0m \u001b[0mowner\u001b[0m\u001b[0;34m.\u001b[0m\u001b[0m__module__\u001b[0m\u001b[0;34m\u001b[0m\u001b[0;34m\u001b[0m\u001b[0m\n",
      "\u001b[0;32m~/jpyter_dir/jpyter_env/lib/python3.8/site-packages/matplotlib/cbook/deprecation.py\u001b[0m in \u001b[0;36mwrapper\u001b[0;34m(*args, **kwargs)\u001b[0m\n\u001b[1;32m    449\u001b[0m                 \u001b[0;34m\"parameter will become keyword-only %(removal)s.\"\u001b[0m\u001b[0;34m,\u001b[0m\u001b[0;34m\u001b[0m\u001b[0;34m\u001b[0m\u001b[0m\n\u001b[1;32m    450\u001b[0m                 name=name, obj_type=f\"parameter of {func.__name__}()\")\n\u001b[0;32m--> 451\u001b[0;31m         \u001b[0;32mreturn\u001b[0m \u001b[0mfunc\u001b[0m\u001b[0;34m(\u001b[0m\u001b[0;34m*\u001b[0m\u001b[0margs\u001b[0m\u001b[0;34m,\u001b[0m \u001b[0;34m**\u001b[0m\u001b[0mkwargs\u001b[0m\u001b[0;34m)\u001b[0m\u001b[0;34m\u001b[0m\u001b[0;34m\u001b[0m\u001b[0m\n\u001b[0m\u001b[1;32m    452\u001b[0m \u001b[0;34m\u001b[0m\u001b[0m\n\u001b[1;32m    453\u001b[0m     \u001b[0;32mreturn\u001b[0m \u001b[0mwrapper\u001b[0m\u001b[0;34m\u001b[0m\u001b[0;34m\u001b[0m\u001b[0m\n",
      "\u001b[0;32m~/jpyter_dir/jpyter_env/lib/python3.8/site-packages/matplotlib/axis.py\u001b[0m in \u001b[0;36m_set_ticklabels\u001b[0;34m(self, labels, fontdict, minor, **kwargs)\u001b[0m\n\u001b[1;32m   1791\u001b[0m         \u001b[0;32mif\u001b[0m \u001b[0mfontdict\u001b[0m \u001b[0;32mis\u001b[0m \u001b[0;32mnot\u001b[0m \u001b[0;32mNone\u001b[0m\u001b[0;34m:\u001b[0m\u001b[0;34m\u001b[0m\u001b[0;34m\u001b[0m\u001b[0m\n\u001b[1;32m   1792\u001b[0m             \u001b[0mkwargs\u001b[0m\u001b[0;34m.\u001b[0m\u001b[0mupdate\u001b[0m\u001b[0;34m(\u001b[0m\u001b[0mfontdict\u001b[0m\u001b[0;34m)\u001b[0m\u001b[0;34m\u001b[0m\u001b[0;34m\u001b[0m\u001b[0m\n\u001b[0;32m-> 1793\u001b[0;31m         \u001b[0;32mreturn\u001b[0m \u001b[0mself\u001b[0m\u001b[0;34m.\u001b[0m\u001b[0mset_ticklabels\u001b[0m\u001b[0;34m(\u001b[0m\u001b[0mlabels\u001b[0m\u001b[0;34m,\u001b[0m \u001b[0mminor\u001b[0m\u001b[0;34m=\u001b[0m\u001b[0mminor\u001b[0m\u001b[0;34m,\u001b[0m \u001b[0;34m**\u001b[0m\u001b[0mkwargs\u001b[0m\u001b[0;34m)\u001b[0m\u001b[0;34m\u001b[0m\u001b[0;34m\u001b[0m\u001b[0m\n\u001b[0m\u001b[1;32m   1794\u001b[0m \u001b[0;34m\u001b[0m\u001b[0m\n\u001b[1;32m   1795\u001b[0m     \u001b[0;34m@\u001b[0m\u001b[0mcbook\u001b[0m\u001b[0;34m.\u001b[0m\u001b[0m_make_keyword_only\u001b[0m\u001b[0;34m(\u001b[0m\u001b[0;34m\"3.2\"\u001b[0m\u001b[0;34m,\u001b[0m \u001b[0;34m\"minor\"\u001b[0m\u001b[0;34m)\u001b[0m\u001b[0;34m\u001b[0m\u001b[0;34m\u001b[0m\u001b[0m\n",
      "\u001b[0;32m~/jpyter_dir/jpyter_env/lib/python3.8/site-packages/matplotlib/axis.py\u001b[0m in \u001b[0;36mset_ticklabels\u001b[0;34m(self, ticklabels, minor, **kwargs)\u001b[0m\n\u001b[1;32m   1712\u001b[0m             \u001b[0;31m# remove all tick labels, so only error for > 0 ticklabels\u001b[0m\u001b[0;34m\u001b[0m\u001b[0;34m\u001b[0m\u001b[0;34m\u001b[0m\u001b[0m\n\u001b[1;32m   1713\u001b[0m             \u001b[0;32mif\u001b[0m \u001b[0mlen\u001b[0m\u001b[0;34m(\u001b[0m\u001b[0mlocator\u001b[0m\u001b[0;34m.\u001b[0m\u001b[0mlocs\u001b[0m\u001b[0;34m)\u001b[0m \u001b[0;34m!=\u001b[0m \u001b[0mlen\u001b[0m\u001b[0;34m(\u001b[0m\u001b[0mticklabels\u001b[0m\u001b[0;34m)\u001b[0m \u001b[0;32mand\u001b[0m \u001b[0mlen\u001b[0m\u001b[0;34m(\u001b[0m\u001b[0mticklabels\u001b[0m\u001b[0;34m)\u001b[0m \u001b[0;34m!=\u001b[0m \u001b[0;36m0\u001b[0m\u001b[0;34m:\u001b[0m\u001b[0;34m\u001b[0m\u001b[0;34m\u001b[0m\u001b[0m\n\u001b[0;32m-> 1714\u001b[0;31m                 raise ValueError(\n\u001b[0m\u001b[1;32m   1715\u001b[0m                     \u001b[0;34m\"The number of FixedLocator locations\"\u001b[0m\u001b[0;34m\u001b[0m\u001b[0;34m\u001b[0m\u001b[0m\n\u001b[1;32m   1716\u001b[0m                     \u001b[0;34mf\" ({len(locator.locs)}), usually from a call to\"\u001b[0m\u001b[0;34m\u001b[0m\u001b[0;34m\u001b[0m\u001b[0m\n",
      "\u001b[0;31mValueError\u001b[0m: The number of FixedLocator locations (26), usually from a call to set_ticks, does not match the number of ticklabels (25)."
     ]
    },
    {
     "data": {
      "image/png": "[encoded data removed]",
      "text/plain": [
       "<Figure size 1440x720 with 1 Axes>"
      ]
     },
     "metadata": {},
     "output_type": "display_data"
    }
   ],
   "source": [
    "time_step = np.arange(1,1+len(tmp_df))\n",
    "power = tmp_df.power_kW.values\n",
    "\n",
    "xlab = 'time(h)'\n",
    "ylab = 'power(kW)'\n",
    "xvals = time_step\n",
    "yvals = power\n",
    "title = \"17th Sept 2020 load profile of A block\"\n",
    "# myplot(xvals, yvals, xlab, ylab,title)\n",
    "\n",
    "plt.figure(figsize = (20,10), facecolor = 'white')\n",
    "# plt.xticks(np.linspace(0,len(power_df),), list(range(0,int(24*60/stepsize),5)))\n",
    "plt.xticks(np.arange(0,24*(12+1),12), np.arange(0,24+1))\n",
    "# xlab = 'Jan Feb Mar Apr May June July Aug Sep oct Nov Dec'.split() \n",
    "plt.rc('xtick',labelsize = 15)\n",
    "plt.rc('ytick',labelsize = 15)\n",
    "\n",
    "plt.bar(xvals, yvals, color='b',label = 'daily_load')\n",
    "# plt.plot(xvals, yvals2, 'r--',label = 'range_max_load')\n",
    "# plt.plot(xvals, yvals3, 'r--')\n",
    "plt.xlabel(xlab, fontsize = 15)\n",
    "plt.ylabel(ylab, fontsize = 15)\n",
    "plt.title(title, fontsize = 18, fontweight = 'bold')\n",
    "plt.legend()\n",
    "plt.grid()\n",
    "plt.show()"
   ]
  },
  {
   "cell_type": "markdown",
   "metadata": {
    "id": "IjrVSjz0_u8i"
   },
   "source": [
    "### Uncoordinated power conversion\n",
    "* Here vehicle will discharge in building as soon as it arrives.So perform calculations based on this thing only."
   ]
  },
  {
   "cell_type": "markdown",
   "metadata": {
    "id": "J_D6U3T8_KRC"
   },
   "source": [
    "## Degradation Program for 365 days + 1 Car \n",
    "### Uncoordinated power conversion\n",
    "* Here vehicle will discharge in building as soon as it arrives.\n",
    "\n",
    "\n"
   ]
  },
  {
   "cell_type": "markdown",
   "metadata": {
    "id": "4goZF_Kg0EHX"
   },
   "source": [
    "### Assumptions\n",
    "1. Power is constant throughout the period.\n",
    "2. Temperature is constant throughout the period. \n",
    "3. Battery voltage is constant throughout the period.\n",
    "4. Arrival and departure time duration is considered instead of whole day.\n",
    "5. Power consumed during driving and its dependency on driving pattern is ignored.\n",
    "\n",
    "\\begin{equation*}\n",
    "P_{DC} = \\frac {P_{AC}}{\\eta} \\\\\n",
    "C-rate = \\frac {Charger \\space power(kW)} {Battery \\space Capacity (kWh)} \\\\\n",
    "C-rate = \\frac {P_{AC}} {\\eta \\cdot Battery \\space Capacity (kWh) } \\\\\n",
    "\\end{equation*}"
   ]
  },
  {
   "cell_type": "markdown",
   "metadata": {
    "id": "2fGeqAgXcL00"
   },
   "source": [
    "### Degradation constants"
   ]
  },
  {
   "cell_type": "code",
   "execution_count": 27,
   "metadata": {
    "id": "CMriVtVdcK64"
   },
   "outputs": [],
   "source": [
    "cal_const = [14786, 24500, 8.314] # [f, Ea, R]\n",
    "cycle_const = [8.6772e-6, -5.1613e-3, 7.6788e-1, -6.7e-3, 2.35] #[a, b, c, d, e]"
   ]
  },
  {
   "cell_type": "markdown",
   "metadata": {
    "id": "yOAHjrwDDj4w"
   },
   "source": [
    "Considering degradation during parking in building: \\\\\n",
    "**Here I am only cosidering degradation due to cycles but you also need to include calendar degrdation in calculation.**"
   ]
  },
  {
   "cell_type": "code",
   "execution_count": 28,
   "metadata": {
    "colab": {
     "base_uri": "https://localhost:8080/"
    },
    "id": "LzCKXqCaeWV_",
    "outputId": "72c794ea-f29f-46a2-97a5-df941e5db69e"
   },
   "outputs": [
    {
     "name": "stdout",
     "output_type": "stream",
     "text": [
      "coninuos_loss = 1.3965734896697573 %\n",
      "discrete_loss = 1.4062384734319229 %\n",
      "error = 0.009664983762165624 %\n"
     ]
    }
   ],
   "source": [
    "import numpy as np\n",
    "\n",
    "f, Ea, R, T, t = 14876, 24500, 8.314, 300, 3\n",
    "conti_qloss = f * np.exp( -Ea/(R*T) ) * pow(t,0.5) \n",
    "del_t = 1/24 # day\n",
    "dis_qloss = 0.5 * f * np.exp( -Ea/(R*T) ) * pow(t,0.5) * del_t\n",
    "\n",
    "step = int(t/del_t)\n",
    "loss2 = [0]\n",
    "t = 1/24\n",
    "for i in range(step):\n",
    "    # del_t = 1\n",
    "    t += del_t # day(incremental time)\n",
    "    loss2.append( f * np.exp( -Ea/(R*T) ) * pow(t,0.5) )\n",
    "\n",
    "print(\"coninuos_loss =\",conti_qloss,\"%\")\n",
    "print(\"discrete_loss =\",loss2[-1],\"%\")\n",
    "print(\"error =\", abs(conti_qloss - loss2[-1]),\"%\")"
   ]
  },
  {
   "cell_type": "code",
   "execution_count": 29,
   "metadata": {
    "colab": {
     "base_uri": "https://localhost:8080/"
    },
    "id": "o1QQoWa5qPAz",
    "outputId": "df0aca39-28d6-4cd8-b40d-5c0de8768ac3"
   },
   "outputs": [
    {
     "name": "stdout",
     "output_type": "stream",
     "text": [
      "discrete_loss = 0.8014338812782534 %\n",
      "coninuos_loss = 0.8014338812782535 %\n",
      "error = 1.1102230246251565e-16 %\n"
     ]
    }
   ],
   "source": [
    "import numpy as np\n",
    "\n",
    "f, Ea, R, T, t = 14786, 24500, 8.314, 300, 1\n",
    "conti_qloss = f * np.exp( -Ea/(R*T) ) * pow(t,0.5) \n",
    "del_t = 1/24 # day\n",
    "\n",
    "step = int(t/del_t)\n",
    "loss2 = [0]\n",
    "t2 = 1/24\n",
    "deg=0\n",
    "for i in range(step):\n",
    "    # del_t = 1\n",
    "    # t2 += del_t # day(incremental time)\n",
    "    deg += f * np.exp( -Ea/(R*T) ) * pow(t,0.5) * del_t\n",
    "    loss2.append(deg)\n",
    "\n",
    "print(\"discrete_loss =\",loss2[-1],\"%\")\n",
    "print(\"coninuos_loss =\",conti_qloss,\"%\")\n",
    "print(\"error =\", abs(conti_qloss - loss2[-1]),\"%\")"
   ]
  },
  {
   "cell_type": "code",
   "execution_count": 30,
   "metadata": {
    "id": "y5rJTW7amILC"
   },
   "outputs": [],
   "source": [
    "def cycle_deg(cycle_const, T, b_current, c_rate, del_t):\n",
    "    a,b,c,d,e = cycle_const[0], cycle_const[1], cycle_const[2], cycle_const[3], cycle_const[4]\n",
    "    cells_per_mod = 72\n",
    "\n",
    "    B1 = a*pow(T,2) + b*T + c\n",
    "    B2 = d*T + e\n",
    "    cell_current = b_current / cells_per_mod\n",
    "    cycle_loss = B1 * np.exp(B2 * c_rate) * cell_current * (del_t/60) # del_t in hour\n",
    "    # cycle_loss = B1 * np.exp(B2 * c_rate) * cell_current * (del_t/60) # del_t in hour\n",
    "    return cycle_loss\n",
    "\n",
    "def cal_deg(cal_const, T, t):\n",
    "    f,Ea,R = cal_const[0], cal_const[1], cal_const[2]\n",
    "    # t = t/24 # Convert it into day\n",
    "    cal_deg = f * np.exp(-Ea/(R*T)) * pow(t/24,0.5)\n",
    "    # cal_deg = 0.5 * f * np.exp(-Ea/(R*T)) * pow(t,-0.5) * (del_t/(60*24)) # del_t in days\n",
    "    return cal_deg\n",
    "\n",
    "def hour2min2hour(hour1, hour2):\n",
    "    \"\"\"\n",
    "    hour1 = arrival time,\n",
    "    hour2 = departure time\n",
    "    \"\"\"\n",
    "    frac_hour1 = hour1 - int(hour1)\n",
    "    frac_hour2 = hour2 - int(hour2)\n",
    "    min = ( (int(hour2) - int(hour1))*60 + (frac_hour2 - frac_hour1)*100 ) / 60\n",
    "    return min\n",
    "\n",
    "def hour2steps(hour,step_size):\n",
    "    \"\"\"\n",
    "    -> Convert hour into minute.Unit of step_size in minutes\n",
    "    -> Divide minutes with step size and u will get steps.\n",
    "    \"\"\"\n",
    "    steps = int(hour * 60 / step_size)\n",
    "    return steps\n",
    "\n",
    "def myTemp(ambient_temp, power):\n",
    "    rth = 2 # Celcius / kW\n",
    "    return ambient_temp + rth * power\n",
    "\n",
    "def myplot(xvals,yvals, kind='plot', labels=None,xlab=None,ylab=None,titles=None,colors='b',image_name = 'imag.png',save=False):\n",
    "    plt.rc('xtick',labelsize = 15)\n",
    "    plt.rc('ytick',labelsize = 15)\n",
    "    if kind.lower() == 'bar': \n",
    "        plt.bar(xvals,yvals,label = labels, linewidth = 2, color = colors)\n",
    "    else:\n",
    "        plt.plot(xvals,yvals,label = labels, linewidth = 2, color = colors)\n",
    "    plt.xlabel(xlab,fontsize = 16)\n",
    "    plt.ylabel(ylab,fontsize = 16)\n",
    "    plt.title(titles,fontsize = 18,color = 'black',fontweight = 'bold')\n",
    "    name = image_name\n",
    "    if save:\n",
    "        plt.legend()\n",
    "        plt.grid()\n",
    "        plt.savefig(name,bbox_inches = 'tight',orientation = 'portrait')\n",
    "        files.download(name) \n",
    "    plt.legend()\n",
    "    plt.grid()\n",
    "    plt.show()\n",
    "\n",
    "def print_deg_results(disch_power, disch_time, energy, c_rate, total_deg):\n",
    "    print(f\" disch_power = {disch_power:3f} kW \\n disch_time = {disch_time:3f} h \\n disch_energy = {energy:3f} kWh \\n disc_rate = {c_rate:3f} \\n total_deg = {total_deg:5f} %\")"
   ]
  },
  {
   "cell_type": "code",
   "execution_count": 35,
   "metadata": {
    "id": "7M7npkeXlki6"
   },
   "outputs": [
    {
     "name": "stdout",
     "output_type": "stream",
     "text": [
      "total deg = [0.22581934], cal_steps = 36\n",
      "total deg = [0.23771072], cal_steps = 36\n",
      "total deg = [0.27443771], cal_steps = 48\n",
      "total deg = [0.27295125], cal_steps = 48\n",
      "total deg = [0.23896333], cal_steps = 36\n",
      "total deg = [0.24042459], cal_steps = 36\n",
      "total deg = [0.28301559], cal_steps = 48\n",
      "total deg = [0.23101347], cal_steps = 36\n",
      "total deg = [0.23758978], cal_steps = 36\n",
      "total deg = [0.27008956], cal_steps = 48\n",
      "total deg = [0.30834271], cal_steps = 60\n",
      "total deg = [0.25203551], cal_steps = 36\n",
      "total deg = [0.32521184], cal_steps = 60\n",
      "total deg = [0.28719102], cal_steps = 48\n",
      "total deg = [0.24070955], cal_steps = 36\n",
      "total deg = [0.27903033], cal_steps = 48\n",
      "total deg = [0.31893583], cal_steps = 60\n",
      "total deg = [0.2850732], cal_steps = 48\n",
      "total deg = [0.27874739], cal_steps = 48\n",
      "total deg = [0.32216984], cal_steps = 60\n",
      "total deg = [0.28564955], cal_steps = 48\n",
      "total deg = [0.28627497], cal_steps = 48\n",
      "total deg = [0.29312898], cal_steps = 48\n",
      "total deg = [0.33755391], cal_steps = 60\n",
      "total deg = [0.3008642], cal_steps = 48\n",
      "total deg = [0.29886546], cal_steps = 48\n",
      "total deg = [0.27262694], cal_steps = 48\n",
      "total deg = [0.288843], cal_steps = 60\n",
      "total deg = [0.20860777], cal_steps = 36\n",
      "total deg = [0.24138286], cal_steps = 48\n",
      "total deg after 30  day : [24.70219748]\n"
     ]
    }
   ],
   "source": [
    "## Home to building and building to home\n",
    "drive_energy = 0.15 # kWh / km\n",
    "distance = 30\n",
    "travel_time = 45/60 # hour\n",
    "travel_steps = int(travel_time/step * 60)\n",
    "travel_energy = drive_energy * distance\n",
    "\n",
    "eff_b2w = 0.7 # efficiency of battery to wheel\n",
    "bty_tvl_pwr = travel_energy / (travel_time * eff_b2w) # Power from battery after travelling\n",
    "travel_c_rate = bty_tvl_pwr / b_cap\n",
    "\n",
    "# At home\n",
    "home_charger = 10 # kW\n",
    "rth = 2 # Celcius/kW\n",
    "\n",
    "# Calculate degradation during travel time\n",
    "np.random.seed(1)\n",
    "int_arr_time = np.random.randint( 9,11, size = (len(vehicle_df),1) )\n",
    "int_dep_time = np.random.randint( 16,18, size = (len(vehicle_df),1) )\n",
    "\n",
    "# total_deg = 0\n",
    "\n",
    "cum_daily_deg = [0]\n",
    "# for i in range(len(vehicle_df)):  ## Let's try accumulated degradation\n",
    "for i in range(30):\n",
    "        total_deg = 0\n",
    "        \n",
    "        #### Degradation during travelling from and to the building (Cycle)\n",
    "        b_cap_kwh = b_percent_cap[i] * b_cap / 100\n",
    "        travel_time = 45/60 # hour\n",
    "        travel_energy = 0.1 * b_cap_kwh  # 10% energy is lost in travel time\n",
    "        bty_tvl_pwr = travel_energy / (travel_time * eff_b2w) # Power from battery after travelling\n",
    "        travel_temp = myTemp(temp[i], bty_tvl_pwr)\n",
    "        b_current = bty_tvl_pwr / b_volt\n",
    "        c_rate = bty_tvl_pwr / b_cap_kwh\n",
    "        for j in range(travel_steps):\n",
    "            total_deg += cycle_deg(cycle_const, travel_temp, b_current, c_rate, del_t)\n",
    "        total_deg *= 2 # Multiply by 2 because of same degradation during from and to the building\n",
    "\n",
    "        # print(\"total deg travel :\",total_deg)\n",
    "\n",
    "        #### Degradation in the building(Calendar + Cycle)\n",
    "        disch_energy = 0.6 * b_cap_kwh # 60% of total energy\n",
    "        standing_time = int_dep_time[i] - int_arr_time[i]\n",
    "        cycle_time = 3 # car will discharge in 3h(Cycle) and remaining time it will stand(Calendar)\n",
    "        cal_time = standing_time - cycle_time\n",
    "        cycle_steps = int(cycle_time * 60/step)\n",
    "        cal_steps = int(cal_time * 60/step)\n",
    "\n",
    "        # I am considerig battery capacity at the start of the day.\n",
    "\n",
    "        # Cycle degradation during discharge into building\n",
    "        disch_power = disch_energy / ( cycle_time * charger_eff )\n",
    "        b_current = disch_power / b_volt\n",
    "        c_rate = disch_power / b_cap_kwh\n",
    "        cycle_temp = myTemp(temp[i], disch_power)\n",
    "        for j in range(cycle_steps):\n",
    "            total_deg += cycle_deg(cycle_const, cycle_temp, b_current, c_rate, del_t)\n",
    "        \n",
    "        # Calendar degradation during standing into building parking lot\n",
    "        # for j in range(cal_steps):\n",
    "        total_deg += cal_deg(cal_const, temp[i], cal_time)\n",
    "\n",
    "        print(f\"total deg = {total_deg}, cal_steps = {cal_steps}\")\n",
    "        #### Degradation at home(Cycle + Calendar)\n",
    "        pump_energy = 0.8 * b_cap_kwh # (2*travel_energy + discharge energy into building)\n",
    "        cycle_time = 3\n",
    "        charge_power = charger_eff * pump_energy / cycle_time\n",
    "        b_current = charge_power / b_volt\n",
    "        cal_time = 24 - 2*travel_time - standing_time\n",
    "        cycle_steps = int(cycle_time * 60/step)\n",
    "        cal_steps = int(cal_time * 60/step)\n",
    "\n",
    "        # Cycle degradation during charge through grid\n",
    "        disch_power = disch_energy / cycle_time\n",
    "        b_current = (disch_power / (b_cap_kwh * charger_eff))\n",
    "        c_rate = disch_power / b_cap_kwh\n",
    "        cycle_temp = myTemp(temp[i], disch_power)\n",
    "        for j in range(cycle_steps):\n",
    "            total_deg += cycle_deg(cycle_const, cycle_temp, b_current, c_rate, del_t)\n",
    "        \n",
    "        # Calendar degradation during standing at home\n",
    "        # for j in range(cal_steps):\n",
    "        total_deg += cal_deg(cal_const, temp[i], cal_time)\n",
    "\n",
    "        b_percent_cap.append(b_percent_cap[i] - total_deg)\n",
    "        cum_daily_deg.append(total_deg)\n",
    "cum_daily_deg = np.cumsum(np.array(cum_daily_deg))\n",
    "print(f\"total deg after {i+1}  day : {cum_daily_deg[-1]}\")\n",
    "\n",
    "\n",
    "        \n",
    "        \n",
    "        \n",
    "            \n",
    "            \n",
    "\n",
    "\n",
    "\n",
    "\n",
    "\n",
    "\n",
    "\n",
    "\n",
    "\n",
    "\n",
    "\n",
    "\n",
    "        \n",
    "        # b_cap_kwh = b_percent_cap[i] * b_cap / 100\n",
    "        # in_time = int_arr_time[i]\n",
    "        # out_time = int_dep_time[i]\n",
    "        # energy = (soc_initial[i] - soc_final[i]) * b_cap_kwh # kWh\n",
    "        # total_energy.append(energy)\n",
    "        # disch_time = hour2min2hour(in_time, out_time)\n",
    "        # disch_power = energy/disch_time # kW\n",
    "        # disch_temp = temp + rth * disch_power ###################################\n",
    "        # c_rate = disch_power / (charger_eff * b_cap_kwh) #0.1358\n",
    "        # b_current = disch_power*1000 / b_volt # Ampere\n",
    "\n",
    "        # # Degradation due to discharging\n",
    "        # disch_deg = 0\n",
    "        # disch_duration = hour2steps(disch_time, step)\n",
    "        # for j in range(disch_duration):\n",
    "        #     disch_deg += cycle_deg(cycle_const, disch_temp[i], b_current, c_rate, del_t)\n",
    "        \n",
    "        # charge_power = home_power # kW\n",
    "        # charge_temp = temp + rth * charge_power #################################\n",
    "        # charge_c_rate = charge_power / b_cap_kwh\n",
    "        # charge_time = energy / charge_power # hour\n",
    "        # charge_battery_current = charge_power*1000 / b_volt # Ampere\n",
    "        \n",
    "        # # Degradation due to charging\n",
    "        # ch_deg = 0\n",
    "        # charge_duration = hour2steps(charge_time, step)\n",
    "        # for k in range(charge_duration):\n",
    "        #     ch_deg += cycle_deg(cycle_const, charge_temp[i], charge_battery_current, charge_c_rate, del_t)\n",
    "        \n",
    "        # stand_time_vec.append(24 - travel_time - charge_time - disch_time)\n",
    "        # daily_deg.append(ch_deg + disch_deg)\n",
    "        # b_percent_cap.append(b_percent_cap[i] - daily_deg[i+1])"
   ]
  },
  {
   "cell_type": "code",
   "execution_count": 55,
   "metadata": {
    "colab": {
     "base_uri": "https://localhost:8080/"
    },
    "id": "zZQgUg5UlDDf",
    "outputId": "967730cc-3dc7-4514-869b-9f592d6d4261"
   },
   "outputs": [
    {
     "data": {
      "text/plain": [
       "293.225"
      ]
     },
     "execution_count": 55,
     "metadata": {
      "tags": []
     },
     "output_type": "execute_result"
    }
   ],
   "source": [
    "temp[0]"
   ]
  },
  {
   "cell_type": "markdown",
   "metadata": {
    "id": "mAmVky4kVlI9"
   },
   "source": [
    "###Case 2: Without peak load detection and driving(Calendar + Cycle degradation) "
   ]
  },
  {
   "cell_type": "code",
   "execution_count": 33,
   "metadata": {
    "id": "Lf9qWUxIACZV"
   },
   "outputs": [],
   "source": [
    "b_cap = 38.34 #kWh\n",
    "b_volt = 355.2 #volt\n",
    "charger_eff = 0.93\n",
    "step = 5\n",
    "del_t = step\n",
    "rth = 2\n",
    "b_percent_cap = [100]\n",
    "c_rates = []\n",
    "travel_time = 3 # hour\n",
    "\n",
    "\n",
    "def degWithoutDrive(b_cap, b_volt, charger_eff, rth,travel_time=3):\n",
    "    total_deg = [0]\n",
    "    stand_time_vec = []\n",
    "    daily_deg = [0]\n",
    "    total_energy = []\n",
    "    for i in range(len(vehicle_df)):\n",
    "    # for i in range(6):\n",
    "        b_cap_kwh = b_percent_cap[i] * b_cap / 100\n",
    "        in_time = int_arr_time[i]\n",
    "        out_time = int_dep_time[i]\n",
    "        energy = (soc_initial[i] - soc_final[i]) * b_cap_kwh # kWh\n",
    "        total_energy.append(energy)\n",
    "        disch_time = hour2min2hour(in_time, out_time)\n",
    "        disch_power = energy/disch_time # kW\n",
    "        disch_temp = temp + rth * disch_power ###################################\n",
    "        c_rate = disch_power / (charger_eff * b_cap_kwh) #0.1358\n",
    "        b_current = disch_power*1000 / b_volt # Ampere\n",
    "\n",
    "        # Degradation due to discharging\n",
    "        disch_deg = 0\n",
    "        disch_duration = hour2steps(disch_time, step)\n",
    "        for j in range(disch_duration):\n",
    "            disch_deg += cycle_deg(cycle_const, disch_temp[i], b_current, c_rate, del_t)\n",
    "        \n",
    "        charge_power = 3.3 # kW\n",
    "        charge_temp = temp + rth * charge_power #################################\n",
    "        charge_c_rate = charge_power / b_cap_kwh\n",
    "        charge_time = energy / charge_power # hour\n",
    "        charge_battery_current = charge_power*1000 / b_volt # Ampere\n",
    "        \n",
    "        # Degradation due to charging\n",
    "        ch_deg = 0\n",
    "        charge_duration = hour2steps(charge_time, step)\n",
    "        for k in range(charge_duration):\n",
    "            ch_deg += cycle_deg(cycle_const, charge_temp[i], charge_battery_current, charge_c_rate, del_t)\n",
    "        \n",
    "        stand_time_vec.append(24 - travel_time - charge_time - disch_time)\n",
    "        daily_deg.append(ch_deg + disch_deg)\n",
    "        b_percent_cap.append(b_percent_cap[i] - daily_deg[i+1])\n",
    "\n",
    "    # daily_deg = np.array(daily_deg)\n",
    "    # total_energy = np.array(total_energy)\n",
    "    # total_deg = np.sum(daily_deg) \n",
    "    # total_energy_throughput = np.sum(total_energy)\n",
    "    # print(f\"total_energy_throughput = {total_energy_throughput:.3f} kWh\")\n",
    "    # print(f\"total_degradation = {total_deg:.3f}%\")\n",
    "\n",
    "\n",
    "degWithoutDrive(b_cap, b_volt, charger_eff, rth,travel_time=3)"
   ]
  },
  {
   "cell_type": "code",
   "execution_count": 57,
   "metadata": {
    "id": "H_f3egQxnEQo"
   },
   "outputs": [],
   "source": [
    "# #@title Example form fields\n",
    "# #@markdown Forms support many types of fields.\n",
    "\n",
    "# purchase_price_g2b = 7 #@param {type:\"slider\", min:3, max:8, step:1}\n",
    "# sell_price_v2b = 6 #@param {type:\"slider\", min:3, max:8, step:1}\n",
    "# purchase_price_g2v = 5 #@param {type:\"slider\", min:3, max:8, step:1}\n",
    "# new_battery_price = 260000 #@param {type:\"slider\", min:200000, max:400000, step:50000}\n",
    "# old_battery_price = 104000 #@param {type:\"slider\", min:50000, max:300000, step:10000}\n",
    "# #@markdown ---\n",
    "\n",
    "# deg_cost = (total_deg / 20 ) * (new_battery_price - old_battery_price)\n",
    "# building_profit_per_EV = (purchase_price_g2b - sell_price_v2b) * total_energy_throughput\n",
    "# ev_profit = total_energy_throughput * (sell_price_v2b - purchase_price_g2v) - deg_cost\n",
    "\n",
    "# print(\"EV owner profit =\", ev_profit)\n",
    "# print(\"Building owner profit =\",building_profit_per_EV)"
   ]
  },
  {
   "cell_type": "code",
   "execution_count": 58,
   "metadata": {
    "colab": {
     "base_uri": "https://localhost:8080/",
     "height": 237
    },
    "id": "huNJIb9B_cY9",
    "outputId": "3e6e1f00-efe6-4726-834b-0db36a46ae10"
   },
   "outputs": [
    {
     "ename": "NameError",
     "evalue": "ignored",
     "output_type": "error",
     "traceback": [
      "\u001b[0;31m---------------------------------------------------------------------------\u001b[0m",
      "\u001b[0;31mNameError\u001b[0m                                 Traceback (most recent call last)",
      "\u001b[0;32m<ipython-input-58-ca1b7ef8482c>\u001b[0m in \u001b[0;36m<module>\u001b[0;34m()\u001b[0m\n\u001b[1;32m      5\u001b[0m \u001b[0mstart\u001b[0m\u001b[0;34m,\u001b[0m\u001b[0mend\u001b[0m \u001b[0;34m=\u001b[0m \u001b[0;36m0\u001b[0m\u001b[0;34m,\u001b[0m\u001b[0;36m30\u001b[0m\u001b[0;34m\u001b[0m\u001b[0;34m\u001b[0m\u001b[0m\n\u001b[1;32m      6\u001b[0m \u001b[0;32mfor\u001b[0m \u001b[0mi\u001b[0m \u001b[0;32min\u001b[0m \u001b[0mrange\u001b[0m\u001b[0;34m(\u001b[0m\u001b[0mlen\u001b[0m\u001b[0;34m(\u001b[0m\u001b[0mmonths\u001b[0m\u001b[0;34m)\u001b[0m\u001b[0;34m)\u001b[0m\u001b[0;34m:\u001b[0m\u001b[0;34m\u001b[0m\u001b[0;34m\u001b[0m\u001b[0m\n\u001b[0;32m----> 7\u001b[0;31m     \u001b[0mmonthly_deg\u001b[0m\u001b[0;34m.\u001b[0m\u001b[0mappend\u001b[0m\u001b[0;34m(\u001b[0m\u001b[0msum\u001b[0m\u001b[0;34m(\u001b[0m\u001b[0mdaily_deg\u001b[0m\u001b[0;34m[\u001b[0m\u001b[0mstart\u001b[0m\u001b[0;34m:\u001b[0m\u001b[0mend\u001b[0m\u001b[0;34m]\u001b[0m\u001b[0;34m)\u001b[0m\u001b[0;34m)\u001b[0m\u001b[0;34m\u001b[0m\u001b[0;34m\u001b[0m\u001b[0m\n\u001b[0m\u001b[1;32m      8\u001b[0m     \u001b[0mmonthly_energy\u001b[0m\u001b[0;34m.\u001b[0m\u001b[0mappend\u001b[0m\u001b[0;34m(\u001b[0m\u001b[0msum\u001b[0m\u001b[0;34m(\u001b[0m\u001b[0mtotal_energy\u001b[0m\u001b[0;34m[\u001b[0m\u001b[0mstart\u001b[0m\u001b[0;34m:\u001b[0m\u001b[0mend\u001b[0m\u001b[0;34m]\u001b[0m\u001b[0;34m)\u001b[0m\u001b[0;34m)\u001b[0m\u001b[0;34m\u001b[0m\u001b[0;34m\u001b[0m\u001b[0m\n\u001b[1;32m      9\u001b[0m     \u001b[0mstart\u001b[0m \u001b[0;34m+=\u001b[0m \u001b[0;36m30\u001b[0m\u001b[0;34m\u001b[0m\u001b[0;34m\u001b[0m\u001b[0m\n",
      "\u001b[0;31mNameError\u001b[0m: name 'daily_deg' is not defined"
     ]
    }
   ],
   "source": [
    "# Consider every month of 30 days\n",
    "months = 'Jan Feb Mar Apr May Jun Jul Aug Sep Oct Nov Dec'.split()\n",
    "monthly_deg = []\n",
    "monthly_energy = []\n",
    "start,end = 0,30\n",
    "for i in range(len(months)):\n",
    "    monthly_deg.append(sum(daily_deg[start:end]))\n",
    "    monthly_energy.append(sum(total_energy[start:end]))\n",
    "    start += 30\n",
    "    end += 30"
   ]
  },
  {
   "cell_type": "code",
   "execution_count": null,
   "metadata": {
    "id": "qXc9ZzUNxq3w"
   },
   "outputs": [],
   "source": [
    "xvals = months\n",
    "yvals = monthly_deg\n",
    "xlab = 'Months'\n",
    "ylab = 'Degradation in %'\n",
    "title = \"Monthly degradation of single EV battery\"\n",
    "\n",
    "plt.rc('xtick',labelsize = 15)\n",
    "plt.rc('ytick',labelsize = 15)\n",
    "plt.figure(figsize = (20,10), facecolor = 'white')\n",
    "    \n",
    "plt.bar(xvals, yvals, color='blue')\n",
    "plt.xlabel(xlab, fontsize = 15)\n",
    "plt.ylabel(ylab, fontsize = 15)\n",
    "plt.title(title, fontsize = 22, fontweight = 'bold')\n",
    "plt.grid()\n",
    "name = 'monthly_deg'\n",
    "plt.savefig(name,bbox_inches = 'tight',orientation = 'portrait')\n",
    "files.download(name + '.png')\n",
    "files.download(name) \n",
    "plt.legend()"
   ]
  },
  {
   "cell_type": "markdown",
   "metadata": {
    "id": "8Ewh0IyxN3VN"
   },
   "source": [
    "Monthly avg temperature graph"
   ]
  },
  {
   "cell_type": "code",
   "execution_count": null,
   "metadata": {
    "id": "Q17TI7JIoCjH"
   },
   "outputs": [],
   "source": [
    "monthly_avg_temp[4], monthly_deg[4]"
   ]
  },
  {
   "cell_type": "code",
   "execution_count": null,
   "metadata": {
    "id": "8MBlm-_LN7uM"
   },
   "outputs": [],
   "source": [
    "monthly_avg_temp = []\n",
    "start,end = 0,30\n",
    "for i in range(12):\n",
    "    monthly_avg_temp.append(np.mean(temp[start:end]))\n",
    "    start += 30\n",
    "    end += 30\n",
    "\n",
    "\n",
    "xvals = months\n",
    "yvals = monthly_avg_temp\n",
    "xlab = 'Months'\n",
    "ylab = 'Temperature{K}'\n",
    "title = \"Monthly average temperature profile of battery\"\n",
    "\n",
    "plt.rc('xtick',labelsize = 15)\n",
    "plt.rc('ytick',labelsize = 15)\n",
    "plt.figure(figsize = (20,10), facecolor = 'white')\n",
    "    \n",
    "plt.bar(xvals, yvals, color='b')\n",
    "plt.xlabel(xlab, fontsize = 15)\n",
    "plt.ylabel(ylab, fontsize = 15)\n",
    "plt.title(title, fontsize = 22, fontweight = 'bold')\n",
    "plt.grid()\n",
    "name = 'monthly_temp_battery'\n",
    "plt.savefig(name,bbox_inches = 'tight',orientation = 'portrait')\n",
    "files.download(name + '.png')\n",
    "plt.legend()"
   ]
  },
  {
   "cell_type": "markdown",
   "metadata": {
    "id": "amzThGpDDUo2"
   },
   "source": [
    "#### Just to check temperature effect on battery"
   ]
  },
  {
   "cell_type": "code",
   "execution_count": null,
   "metadata": {
    "id": "Cv1ysCtrDZIp"
   },
   "outputs": [],
   "source": [
    "temps = np.arange(25,45) + 273\n",
    "vals = cycle_deg(cycle_const, temps, 20, 0.5, 60)\n",
    "plt.plot(temps,vals);\n"
   ]
  },
  {
   "cell_type": "code",
   "execution_count": null,
   "metadata": {
    "id": "_xO0MKiJItYJ"
   },
   "outputs": [],
   "source": [
    "xvals = months\n",
    "yvals = monthly_energy\n",
    "xlab = 'Months'\n",
    "ylab = 'Energy(kWh)'\n",
    "title = \"Monthly energy supplied to building by single EV\"\n",
    "\n",
    "plt.rc('xtick',labelsize = 15)\n",
    "plt.rc('ytick',labelsize = 15)\n",
    "plt.figure(figsize = (20,10), facecolor = 'white')\n",
    "    \n",
    "plt.bar(xvals, yvals, color='b')\n",
    "# plt.xlabel(xlab, fontsize = 15)\n",
    "plt.ylabel(ylab, fontsize = 15)\n",
    "plt.title(title, fontsize = 22, fontweight = 'bold')\n",
    "plt.grid()\n",
    "name = 'monthly_energy1'\n",
    "plt.savefig(name,bbox_inches = 'tight',orientation = 'portrait')\n",
    "files.download(name + '.png')\n",
    "files.download(name) \n",
    "plt.legend()"
   ]
  },
  {
   "cell_type": "code",
   "execution_count": null,
   "metadata": {
    "id": "EzXDL3DXN6Bp"
   },
   "outputs": [],
   "source": []
  },
  {
   "cell_type": "markdown",
   "metadata": {
    "id": "MKKTl85VKEN4"
   },
   "source": [
    "<mark> Marked text </mark>\n",
    "\n",
    "Also add one feature like if difference between any two consecutive time < 15 min then don't stop vehicle to discharge and allow it to discharge.."
   ]
  },
  {
   "cell_type": "code",
   "execution_count": null,
   "metadata": {
    "id": "9K1E-fzXAHO6"
   },
   "outputs": [],
   "source": [
    "start = []\n",
    "end = []\n",
    "start.append(power_locs[0])\n",
    "for i in range(len(power_locs)-1):\n",
    "    # if power[i] > lower:\n",
    "    if power_locs[i+1] - power_locs[i] != 1:\n",
    "        start.append(power_locs[i+1])\n",
    "        end.append(power_locs[i] + 1)\n",
    "        isit = True\n",
    "end.append(start[-1]+1)\n",
    "\n",
    "# Total time calculation\n",
    "total_disch_time = 0\n",
    "for x,y in zip(start,end):\n",
    "    total_disch_time += 5 * (y-x)\n",
    "disch_time = total_disch_time / 60\n",
    "\n",
    "# Start and end time string formation(Findout efficient way of doint this)\n",
    "# start_time < end_time checking complete\n",
    "start_time = []\n",
    "end_time = []\n",
    "for i,j in zip(start,end):\n",
    "    start_time.append(str(vehicle_df.iloc[i]['Time']))\n",
    "    end_time.append(str(vehicle_df.iloc[j]['Time']))\n",
    "print(\"total discharge time(h) =\",disch_time)"
   ]
  },
  {
   "cell_type": "code",
   "execution_count": null,
   "metadata": {
    "id": "v8Jn2iI-7muB"
   },
   "outputs": [],
   "source": [
    "print(\"Start_time\",start_time)\n",
    "print(\"end_time =\",end_time)"
   ]
  },
  {
   "cell_type": "markdown",
   "metadata": {
    "id": "VQE41BvHVKyP"
   },
   "source": [
    "# Part 2 Driving model+ Degradation"
   ]
  },
  {
   "cell_type": "code",
   "execution_count": null,
   "metadata": {
    "id": "ugkVEKdHVlMb"
   },
   "outputs": [],
   "source": []
  }
 ],
 "metadata": {
  "colab": {
   "collapsed_sections": [],
   "name": "06/12 Project 3_discrete_loss.ipynb",
   "provenance": []
  },
  "kernelspec": {
   "display_name": "Python 3",
   "language": "python",
   "name": "python3"
  },
  "language_info": {
   "codemirror_mode": {
    "name": "ipython",
    "version": 3
   },
   "file_extension": ".py",
   "mimetype": "text/x-python",
   "name": "python",
   "nbconvert_exporter": "python",
   "pygments_lexer": "ipython3",
   "version": "3.8.5"
  }
 },
 "nbformat": 4,
 "nbformat_minor": 1
}
